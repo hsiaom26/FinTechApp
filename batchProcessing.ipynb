{
 "cells": [
  {
   "cell_type": "markdown",
   "metadata": {},
   "source": [
    "### Read from file"
   ]
  },
  {
   "cell_type": "markdown",
   "metadata": {},
   "source": [
    "in_directory = \"c:/test/fb/\"\n",
    "in_file = \"fid_list.txt\""
   ]
  },
  {
   "cell_type": "code",
   "execution_count": 21,
   "metadata": {
    "collapsed": true
   },
   "outputs": [],
   "source": [
    "# given a http URL, return its facebook id\n",
    "def href2fId(href):\n",
    "    fid = href.split(\"?\")[0].split(\"/\")[-1]\n",
    "    fid = fid if fid != \"profile.php\" else href.split(\"id=\")[-1].split(\"&\")[0]\n",
    "    return fid"
   ]
  },
  {
   "cell_type": "code",
   "execution_count": 22,
   "metadata": {
    "collapsed": true
   },
   "outputs": [],
   "source": [
    "# given a id, return https\n",
    "def fid2url(fid):\n",
    "    if fid.isdigit():\n",
    "        return \"https://www.facebook.com/profile.php?id=\" + fid\n",
    "    else:\n",
    "        return \"https://www.facebook.com/\" + fid"
   ]
  },
  {
   "cell_type": "code",
   "execution_count": 25,
   "metadata": {},
   "outputs": [],
   "source": [
    "# Read file and loop\n",
    "with open(in_directory + in_file) as f:\n",
    "    data = f.read()\n",
    "\n",
    "urls = list()\n",
    "fids = list()\n",
    "for line in data.split(\"\\n\"):\n",
    "    url = line.strip()\n",
    "    if url:\n",
    "        urls.append(url)\n",
    "        fid = href2fId(url)\n",
    "        fids.append(fid)"
   ]
  },
  {
   "cell_type": "code",
   "execution_count": 26,
   "metadata": {},
   "outputs": [
    {
     "name": "stdout",
     "output_type": "stream",
     "text": [
      "https://www.facebook.com/mike.hsiao\n",
      "https://www.facebook.com/profile.php?id=100021455133207\n",
      "https://www.facebook.com/profile.php?id=100000202035245\n",
      "https://www.facebook.com/jelenachou\n"
     ]
    }
   ],
   "source": [
    "for url in urls:\n",
    "    print(url)"
   ]
  },
  {
   "cell_type": "code",
   "execution_count": 28,
   "metadata": {},
   "outputs": [
    {
     "name": "stdout",
     "output_type": "stream",
     "text": [
      "mike.hsiao\n",
      "100021455133207\n",
      "100000202035245\n",
      "jelenachou\n"
     ]
    }
   ],
   "source": [
    "# urls now has all links.\n",
    "# print all fid \n",
    "\n",
    "for url in urls:\n",
    "    fid = href2fId(url)\n",
    "    print(fid)"
   ]
  },
  {
   "cell_type": "code",
   "execution_count": 29,
   "metadata": {},
   "outputs": [
    {
     "name": "stdout",
     "output_type": "stream",
     "text": [
      "https://www.facebook.com/mike.hsiao\n",
      "https://www.facebook.com/profile.php?id=100021455133207\n",
      "https://www.facebook.com/profile.php?id=100000202035245\n",
      "https://www.facebook.com/jelenachou\n"
     ]
    }
   ],
   "source": [
    "for fid in fids:\n",
    "    url = fid2url(fid)\n",
    "    print(url)"
   ]
  },
  {
   "cell_type": "markdown",
   "metadata": {},
   "source": [
    "### Batch"
   ]
  },
  {
   "cell_type": "code",
   "execution_count": 33,
   "metadata": {
    "collapsed": true
   },
   "outputs": [],
   "source": [
    "from selenium import webdriver\n",
    "from selenium.webdriver.common.keys import Keys\n",
    "\n",
    "import time"
   ]
  },
  {
   "cell_type": "code",
   "execution_count": 38,
   "metadata": {
    "collapsed": true
   },
   "outputs": [],
   "source": [
    "# 先把所要做的動作寫在一個 function 裡面 (比方說 abc() ), 然後依序執行\n",
    "\n",
    "def crawlerFB(fid, driver):\n",
    "    print(\"I am doing abc() with\", fid)\n",
    "\n",
    "    #\n",
    "    # 請把自己的爬程式放這邊\n",
    "    print(\"去爬!!\")\n",
    "    #"
   ]
  },
  {
   "cell_type": "code",
   "execution_count": 35,
   "metadata": {
    "collapsed": true
   },
   "outputs": [],
   "source": [
    "my_email = \"XXXXXXXXxx@gmail.com\" # <--------- your account\n",
    "my_password = \"XXXXXXXXXXXXXX\" # <----- your password"
   ]
  },
  {
   "cell_type": "code",
   "execution_count": 40,
   "metadata": {
    "collapsed": true
   },
   "outputs": [],
   "source": [
    "# 開瀏覽器\n",
    "driver = webdriver.Firefox()\n",
    "driver.get(\"https://www.facebook.com/\")"
   ]
  },
  {
   "cell_type": "code",
   "execution_count": 41,
   "metadata": {},
   "outputs": [],
   "source": [
    "# 登入\n",
    "email = driver.find_element_by_id(\"email\")\n",
    "email.clear()\n",
    "email.send_keys(my_email) \n",
    "\n",
    "pswd = driver.find_element_by_id(\"pass\") \n",
    "pswd.clear()\n",
    "pswd.send_keys(my_password)\n",
    "\n",
    "pswd.send_keys(Keys.RETURN)"
   ]
  },
  {
   "cell_type": "code",
   "execution_count": 42,
   "metadata": {},
   "outputs": [
    {
     "name": "stdout",
     "output_type": "stream",
     "text": [
      "I am doing abc() with mike.hsiao\n",
      "去爬!!\n",
      "I am doing abc() with 100021455133207\n",
      "去爬!!\n",
      "I am doing abc() with 100000202035245\n",
      "去爬!!\n",
      "I am doing abc() with jelenachou\n",
      "去爬!!\n"
     ]
    }
   ],
   "source": [
    "# 登入完之後, 一個一個跑\n",
    "\n",
    "for fid in fids:\n",
    "\n",
    "    # 一個一個 fid 去爬\n",
    "    crawlerFB(fid, driver)\n",
    "    \n",
    "    # 暫停休息一下\n",
    "    time.sleep(3)"
   ]
  }
 ],
 "metadata": {
  "kernelspec": {
   "display_name": "Python 3",
   "language": "python",
   "name": "python3"
  },
  "language_info": {
   "codemirror_mode": {
    "name": "ipython",
    "version": 3
   },
   "file_extension": ".py",
   "mimetype": "text/x-python",
   "name": "python",
   "nbconvert_exporter": "python",
   "pygments_lexer": "ipython3",
   "version": "3.6.0"
  }
 },
 "nbformat": 4,
 "nbformat_minor": 2
}
