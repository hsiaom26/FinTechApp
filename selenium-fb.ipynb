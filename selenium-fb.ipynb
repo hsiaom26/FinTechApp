{
 "cells": [
  {
   "cell_type": "markdown",
   "metadata": {},
   "source": [
    "### Installation\n",
    "http://selenium-python.readthedocs.io/installation.html\n",
    "\n",
    "* <code>pip intatll selenium</code>\n",
    "* Install FireFox\n",
    "* Download geckodriver-v0.18.0-win64.zip from https://github.com/mozilla/geckodriver/releases, unzip it and save geckodriver.exe in your \\$PATH\\$"
   ]
  },
  {
   "cell_type": "code",
   "execution_count": 3,
   "metadata": {},
   "outputs": [],
   "source": [
    "# Testing\n",
    "\n",
    "from selenium import webdriver\n",
    "from selenium.webdriver.common.keys import Keys\n",
    "\n",
    "driver = webdriver.Firefox()\n",
    "driver.get(\"http://www.python.org\")\n",
    "assert \"Python\" in driver.title\n",
    "elem = driver.find_element_by_name(\"q\")\n",
    "elem.clear()\n",
    "elem.send_keys(\"pycon\")\n",
    "elem.send_keys(Keys.RETURN)\n",
    "assert \"No results found.\" not in driver.page_source\n",
    "driver.close()"
   ]
  },
  {
   "cell_type": "markdown",
   "metadata": {},
   "source": [
    "### facebook -- name by selenium"
   ]
  },
  {
   "cell_type": "code",
   "execution_count": 74,
   "metadata": {
    "collapsed": true
   },
   "outputs": [],
   "source": [
    "from selenium import webdriver\n",
    "from selenium.webdriver.common.keys import Keys\n",
    "\n",
    "from bs4 import BeautifulSoup"
   ]
  },
  {
   "cell_type": "code",
   "execution_count": 75,
   "metadata": {
    "collapsed": true
   },
   "outputs": [],
   "source": [
    "fid = \"mike.hsiao\""
   ]
  },
  {
   "cell_type": "code",
   "execution_count": 76,
   "metadata": {
    "collapsed": true
   },
   "outputs": [],
   "source": [
    "driver = webdriver.Firefox()\n",
    "driver.get(\"https://www.facebook.com/\" + fid)"
   ]
  },
  {
   "cell_type": "code",
   "execution_count": 77,
   "metadata": {
    "collapsed": true
   },
   "outputs": [],
   "source": [
    "email = driver.find_element_by_id(\"email\")\n",
    "email.clear()\n",
    "email.send_keys(\"eniacs@gmail.com\")\n",
    "\n",
    "pswd = driver.find_element_by_id(\"pass\")\n",
    "pswd.clear()\n",
    "pswd.send_keys(\"1048576\")\n",
    "\n",
    "pswd.send_keys(Keys.RETURN)"
   ]
  },
  {
   "cell_type": "code",
   "execution_count": 78,
   "metadata": {
    "collapsed": true
   },
   "outputs": [],
   "source": [
    "driver.get(\"https://www.facebook.com/\" + fid)\n",
    "html_doc = driver.page_source"
   ]
  },
  {
   "cell_type": "code",
   "execution_count": 79,
   "metadata": {},
   "outputs": [
    {
     "name": "stdout",
     "output_type": "stream",
     "text": [
      "Mike Hsiao\n"
     ]
    }
   ],
   "source": [
    "html_doc = html_doc.replace(\"<!-- \", \"\")\n",
    "html_doc = html_doc.replace(\" -->\", \"\")\n",
    "soup = BeautifulSoup(html_doc, 'html.parser')\n",
    "\n",
    "name = soup.find(id = 'fb-timeline-cover-name').text\n",
    "\n",
    "print(name)"
   ]
  },
  {
   "cell_type": "code",
   "execution_count": 10,
   "metadata": {
    "collapsed": true
   },
   "outputs": [],
   "source": [
    "# Do this at the end of the script\n",
    "#driver.close()"
   ]
  },
  {
   "cell_type": "markdown",
   "metadata": {},
   "source": [
    "### save page"
   ]
  },
  {
   "cell_type": "code",
   "execution_count": 80,
   "metadata": {},
   "outputs": [],
   "source": [
    "import os\n",
    "import urllib"
   ]
  },
  {
   "cell_type": "code",
   "execution_count": 81,
   "metadata": {},
   "outputs": [
    {
     "name": "stdout",
     "output_type": "stream",
     "text": [
      "C:/test/fb/mikehsiao/\n"
     ]
    }
   ],
   "source": [
    "new_dir = \"C:/test/fb/\" + fid.replace('.', '') + '/'\n",
    "if not os.path.isdir(new_dir):\n",
    "    os.makedirs(new_dir)\n",
    "\n",
    "print(new_dir)"
   ]
  },
  {
   "cell_type": "code",
   "execution_count": 82,
   "metadata": {},
   "outputs": [
    {
     "name": "stdout",
     "output_type": "stream",
     "text": [
      "https://scontent.ftpe7-3.fna.fbcdn.net/v/t1.0-1/c152.5.340.340/s160x160/1934813_503519609000_4994354_n.jpg?oh=722da4a23b9cfba1b5f487d21b336d33&oe=5A21C10A\n"
     ]
    }
   ],
   "source": [
    "img_src = soup.find(class_ = 'profilePic')['src']\n",
    "print(img_src)\n",
    "\n",
    "resource = urllib.request.urlopen(img_src)\n",
    "with open(new_dir + \"profilePic.jpg\", \"wb\") as output:\n",
    "    output.write(resource.read())"
   ]
  },
  {
   "cell_type": "code",
   "execution_count": 83,
   "metadata": {},
   "outputs": [],
   "source": [
    "with open(new_dir + \"frontpage.html\", \"wb\") as output:\n",
    "    output.write(html_doc.encode('utf-8'))"
   ]
  },
  {
   "cell_type": "markdown",
   "metadata": {},
   "source": [
    "### Click About and scroll by selenium"
   ]
  },
  {
   "cell_type": "code",
   "execution_count": 84,
   "metadata": {
    "collapsed": true
   },
   "outputs": [],
   "source": [
    "from selenium.webdriver.support.ui import WebDriverWait"
   ]
  },
  {
   "cell_type": "code",
   "execution_count": 109,
   "metadata": {
    "collapsed": true
   },
   "outputs": [],
   "source": [
    "driver.find_element_by_link_text(\"About\").click()"
   ]
  },
  {
   "cell_type": "code",
   "execution_count": 110,
   "metadata": {
    "collapsed": true
   },
   "outputs": [],
   "source": [
    "# scroll down a page\n",
    "driver.execute_script(\"window.scrollTo(0, document.body.scrollHeight);\")\n",
    "#driver.implicitly_wait(5) # seconds"
   ]
  },
  {
   "cell_type": "code",
   "execution_count": 111,
   "metadata": {},
   "outputs": [
    {
     "name": "stdout",
     "output_type": "stream",
     "text": [
      "Friend RequestsFind Friends · SettingsFriend RequestsSee All\n",
      "Timeline\n",
      "About\n",
      "Friends\n",
      "Photos\n",
      "More\n",
      "To see what he shares with friends, send him a friend request.Request Sent.Add FriendFriend Request Sent\n",
      "About Section NavigationOverviewWork and EducationPlaces He's LivedContact and Basic InfoFamily and RelationshipsDetails About MikeLife EventsNo workplaces to showNo schools to showLives in New Taipei CityFrom New Taipei CityNo relationship info to showSocial Linkshttp://instagram.com/mike.hsiao/(Instagram)www.linkedin.com/in/shun-wen-hsiao-aa461369(LinkedIn)\n",
      "Overview\n",
      "Work and Education\n",
      "Places He's Lived\n",
      "Contact and Basic Info\n",
      "Family and Relationships\n",
      "Details About Mike\n",
      "Life Events\n",
      "No workplaces to show\n",
      "No schools to show\n",
      "Lives in New Taipei CityFrom New Taipei City\n",
      "No relationship info to show\n",
      "Social Linkshttp://instagram.com/mike.hsiao/(Instagram)www.linkedin.com/in/shun-wen-hsiao-aa461369(LinkedIn)\n",
      "Already taggedMobile UploadsLikeUnlike · Comment116\n",
      "Already taggedTimeline PhotosLikeUnlike · Comment1817\n",
      "Already taggedMike Hsiao's PhotosLikeUnlike · Comment14\n",
      "Already taggedMike Hsiao's PhotosLikeUnlike · Comment12\n",
      "Already taggedMike Hsiao's PhotosLikeUnlike · Comment11\n",
      "Already taggedMike Hsiao's PhotosLikeUnlike · Comment10\n",
      "Already taggedMike Hsiao's PhotosLikeUnlike · Comment34\n",
      "Already taggedMike Hsiao's PhotosLikeUnlike · Comment488\n",
      "1:47\n",
      "English (US)\n",
      "中文(台灣)\n",
      "Tiếng Việt\n",
      "Bahasa Indonesia\n",
      "ภาษาไทย\n",
      "日本語\n",
      "Español\n",
      "Português (Brasil)\n",
      "Français (France)\n",
      "Deutsch\n",
      "Italiano\n",
      "\n",
      "Videos\n",
      "Likes\n",
      "Events\n",
      "Groups\n"
     ]
    }
   ],
   "source": [
    "html_doc = driver.page_source\n",
    "html_doc = html_doc.replace(\"<!-- \", \"\")\n",
    "html_doc = html_doc.replace(\" -->\", \"\")\n",
    "\n",
    "_soup = BeautifulSoup(html_doc, 'html.parser')\n",
    "\n",
    "lis = _soup.find_all(\"li\")\n",
    "for li in lis:\n",
    "    print(li.text)"
   ]
  },
  {
   "cell_type": "markdown",
   "metadata": {},
   "source": [
    "### Likes"
   ]
  },
  {
   "cell_type": "code",
   "execution_count": 98,
   "metadata": {
    "collapsed": true
   },
   "outputs": [],
   "source": [
    "driver.find_element_by_link_text(\"Likes\").click()"
   ]
  },
  {
   "cell_type": "code",
   "execution_count": 100,
   "metadata": {
    "collapsed": true
   },
   "outputs": [],
   "source": [
    "driver.execute_script(\"window.scrollTo(0, document.body.scrollHeight);\")"
   ]
  },
  {
   "cell_type": "code",
   "execution_count": 101,
   "metadata": {
    "collapsed": true
   },
   "outputs": [],
   "source": [
    "html_doc = driver.page_source\n",
    "html_doc = html_doc.replace(\"<!-- \", \"\")\n",
    "html_doc = html_doc.replace(\" -->\", \"\")\n",
    "\n",
    "with open(new_dir + \"likes.html\", \"wb\") as output:\n",
    "    output.write(html_doc.encode('utf-8'))"
   ]
  },
  {
   "cell_type": "code",
   "execution_count": 108,
   "metadata": {},
   "outputs": [
    {
     "name": "stdout",
     "output_type": "stream",
     "text": [
      "饅頭爸團隊 婚攝古柯杰 https://www.facebook.com/mtbteam.kc/\n",
      "饅頭爸團隊 https://www.facebook.com/mtbtopteam/\n",
      "區塊客 blockcast.it https://www.facebook.com/blockcast.it/\n",
      "研之有物 https://www.facebook.com/research.sinica/\n",
      "Snoopy https://www.facebook.com/Snoopy/\n",
      "Snooker https://www.facebook.com/Snooker.online/\n",
      "黑暗執行緒 https://www.facebook.com/darkthread.net/\n",
      "中央研究院 Academia Sinica https://www.facebook.com/sinicaedu/\n",
      "A菜包的家 https://www.facebook.com/AAAmeow/\n",
      "酪梨壽司 https://www.facebook.com/avocadosushi/\n",
      "台灣愛兔協會 https://www.facebook.com/rabbit.org/\n",
      "Sasa&Bobo https://www.facebook.com/HappyCelestePepe/\n",
      "Ubisoft https://www.facebook.com/Ubisoft.TWN/\n",
      "馬達加斯加動物醫院 https://www.facebook.com/madagascaranimalhospital/\n",
      "Stack Overflow https://www.facebook.com/officialstackoverflow/\n",
      "紅刺蝟 Photography https://www.facebook.com/RED.PORCUPINE2012/\n",
      "徐珮芬/patmuffin https://www.facebook.com/patmuffin/\n",
      "報導者 The Reporter https://www.facebook.com/twreporter/\n",
      "CodeTengu 碼天狗 https://www.facebook.com/codetengu/\n",
      "中央研究院資訊科學研究所 https://www.facebook.com/iis.sinica/\n",
      "HITCON Knowledge Base https://www.facebook.com/HITCONKB/\n",
      "好和弦 - NiceChord.com https://www.facebook.com/nicechord/\n",
      "Ubisoft https://www.facebook.com/Ubisoft.TWN/\n",
      "Android Security & Forensics https://www.facebook.com/AndroidMalwareForensics/\n",
      "Spotify https://www.facebook.com/SpotifyTW/\n",
      "那些電影教我的事 - Lessons from Movies https://www.facebook.com/lessonsfrommovies/\n",
      "台灣資料科學年會 https://www.facebook.com/twdsconf/\n",
      "客家小吵 Hakka Fighter https://www.facebook.com/Fight.in.Hakka/\n",
      "500px https://www.facebook.com/500px/\n",
      "Fotobeginner 攝影入門 https://www.facebook.com/fotobeginner/\n",
      "Simon's Cat https://www.facebook.com/simonscat/\n",
      "Liz Climo https://www.facebook.com/LizClimo/\n",
      "Spotify https://www.facebook.com/SpotifyTW/\n",
      "小百合的學醫隨筆 https://www.facebook.com/lilyfishyfish/\n",
      "課程紀錄 https://www.facebook.com/課程紀錄-612924775486219/\n",
      "g0v.tw 台灣零時政府 https://www.facebook.com/g0v.tw/\n",
      "快樂社大木工班 https://www.facebook.com/a0935441665a/\n",
      "Annie Leibovitz https://www.facebook.com/annieleibovitz/\n",
      "許常德的地下手記 https://www.facebook.com/許常德的地下手記-134264889922819/\n",
      "PanSci 科學新聞網 https://www.facebook.com/PanSci/\n",
      "DIGIPHOTO瘋攝影 https://www.facebook.com/digiphoto.tw/\n",
      "伍佰 Wu Bai https://www.facebook.com/wubaiclub/\n",
      "LNG WorkShop https://www.facebook.com/LNGworkshop/\n",
      "黑麵之路‧不由分說 https://www.facebook.com/wingman.chen.zero/\n",
      "Cherng https://www.facebook.com/cherng.y/\n",
      "DEVCORE https://www.facebook.com/D3VC0RE/\n",
      "American Express https://www.facebook.com/AmericanExpressTaiwan/\n",
      "板橋 甜心坊蛋糕甜點 https://www.facebook.com/Wang904172/\n",
      "何見見的圖文日誌 https://www.facebook.com/HeJianJianDeTuWenRiZhi/\n",
      "ANTrip 雲水途誌 https://www.facebook.com/antrip.plash/\n",
      "米菲two https://www.facebook.com/MixffyTwo/\n",
      "孩子的爹 https://www.facebook.com/孩子的爹-355370177871622/\n",
      "Mini Cavy 小動物の窩 https://www.facebook.com/minicavy/\n",
      "priceline.com https://www.facebook.com/priceline/\n",
      "統一獅官方粉絲團 https://www.facebook.com/unilions/\n",
      "Sony Taiwan https://www.facebook.com/SonyTaiwan/\n",
      "陳妍希 Michelle https://www.facebook.com/yanxi531/\n",
      "Citytalk 城市通 https://www.facebook.com/citytalk.event/\n",
      "侯文詠 Houwenyong https://www.facebook.com/houwenyongpage/\n",
      "大魔王 https://www.facebook.com/daimaoublog/\n",
      "宅女小紅 https://www.facebook.com/SIAOHONG/\n",
      "凱亞克 KAIAK https://www.facebook.com/kaiakwen.fans/\n",
      "旅人視界 Daren Photo https://www.facebook.com/Daren1002/\n",
      "龔懷主（羅賓）Robin Kung https://www.facebook.com/officialrobinkung/\n",
      "National Geographic https://www.facebook.com/natgeo/\n",
      "光點台北SPOT-Taipei（台北之家Taipei Film House） https://www.facebook.com/spot.tp/\n",
      "報天文 - 中央氣象局 https://www.facebook.com/CWBAO.TW/\n",
      "Impact Factor是什麼, 可以吃嗎? https://www.facebook.com/Impact-Factor是什麼-可以吃嗎-236720165785/\n"
     ]
    }
   ],
   "source": [
    "html_doc = driver.page_source\n",
    "html_doc = html_doc.replace(\"<!-- \", \"\")\n",
    "html_doc = html_doc.replace(\" -->\", \"\")\n",
    "\n",
    "_soup = BeautifulSoup(html_doc, 'html.parser')\n",
    "\n",
    "likes = _soup.find_all(\"div\", class_= \"fsl fwb fcb\")\n",
    "for like in likes:\n",
    "    href = like.find(\"a\")['href']\n",
    "    print(like.text, href)"
   ]
  }
 ],
 "metadata": {
  "kernelspec": {
   "display_name": "Python 3",
   "language": "python",
   "name": "python3"
  },
  "language_info": {
   "codemirror_mode": {
    "name": "ipython",
    "version": 3
   },
   "file_extension": ".py",
   "mimetype": "text/x-python",
   "name": "python",
   "nbconvert_exporter": "python",
   "pygments_lexer": "ipython3",
   "version": "3.6.0"
  }
 },
 "nbformat": 4,
 "nbformat_minor": 2
}
