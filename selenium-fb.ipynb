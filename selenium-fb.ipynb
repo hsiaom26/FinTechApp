{
 "cells": [
  {
   "cell_type": "markdown",
   "metadata": {},
   "source": [
    "### Installation\n",
    "http://selenium-python.readthedocs.io/installation.html\n",
    "\n",
    "* <code>pip install selenium</code>\n",
    "* Install FireFox\n",
    "* Download geckodriver-v0.18.0-win64.zip from https://github.com/mozilla/geckodriver/releases, unzip it and save geckodriver.exe in your \\$PATH\\$"
   ]
  },
  {
   "cell_type": "code",
   "execution_count": null,
   "metadata": {
    "collapsed": true
   },
   "outputs": [],
   "source": [
    "# Testing\n",
    "\n",
    "from selenium import webdriver\n",
    "from selenium.webdriver.common.keys import Keys\n",
    "\n",
    "driver = webdriver.Firefox()\n",
    "driver.get(\"http://www.python.org\")\n",
    "assert \"Python\" in driver.title\n",
    "elem = driver.find_element_by_name(\"q\")\n",
    "elem.clear()\n",
    "elem.send_keys(\"pycon\")\n",
    "elem.send_keys(Keys.RETURN)\n",
    "assert \"No results found.\" not in driver.page_source\n",
    "#driver.close()"
   ]
  },
  {
   "cell_type": "markdown",
   "metadata": {},
   "source": [
    "### facebook -- name by selenium"
   ]
  },
  {
   "cell_type": "code",
   "execution_count": 1,
   "metadata": {
    "collapsed": true
   },
   "outputs": [],
   "source": [
    "from selenium import webdriver\n",
    "from selenium.webdriver.common.keys import Keys\n",
    "\n",
    "from bs4 import BeautifulSoup\n",
    "\n",
    "import os\n",
    "import urllib\n",
    "import time"
   ]
  },
  {
   "cell_type": "code",
   "execution_count": 22,
   "metadata": {
    "collapsed": true
   },
   "outputs": [],
   "source": [
    "fid = \"XXXXXX\"  # <------------ the facebook ID you would like to crawler\n",
    "my_email = \"XXXXX@gmail.com\" # <--------- your account\n",
    "my_password = \"XXXXXX\" # <----- your password\n",
    "new_dir = \"C:/test/fb/\" # <------- where you want to save all htmls"
   ]
  },
  {
   "cell_type": "code",
   "execution_count": 4,
   "metadata": {
    "collapsed": true
   },
   "outputs": [],
   "source": [
    "driver = webdriver.Firefox()\n",
    "driver.get(\"https://www.facebook.com/\" + fid)"
   ]
  },
  {
   "cell_type": "code",
   "execution_count": 5,
   "metadata": {
    "collapsed": true
   },
   "outputs": [],
   "source": [
    "email = driver.find_element_by_id(\"email\")\n",
    "email.clear()\n",
    "email.send_keys(my_email) \n",
    "\n",
    "pswd = driver.find_element_by_id(\"pass\") \n",
    "pswd.clear()\n",
    "pswd.send_keys(my_password)\n",
    "\n",
    "pswd.send_keys(Keys.RETURN)"
   ]
  },
  {
   "cell_type": "code",
   "execution_count": 6,
   "metadata": {
    "collapsed": true
   },
   "outputs": [],
   "source": [
    "driver.get(\"https://www.facebook.com/\" + fid)\n",
    "html_doc = driver.page_source"
   ]
  },
  {
   "cell_type": "code",
   "execution_count": 7,
   "metadata": {},
   "outputs": [
    {
     "name": "stdout",
     "output_type": "stream",
     "text": [
      "Sin U Go\n"
     ]
    }
   ],
   "source": [
    "html_doc = html_doc.replace(\"<!-- \", \"\")\n",
    "html_doc = html_doc.replace(\" -->\", \"\")\n",
    "soup = BeautifulSoup(html_doc, 'html.parser')\n",
    "\n",
    "name = soup.find(id = 'fb-timeline-cover-name').text\n",
    "\n",
    "print(name)"
   ]
  },
  {
   "cell_type": "code",
   "execution_count": 37,
   "metadata": {
    "collapsed": true
   },
   "outputs": [],
   "source": [
    "# Do this at the end of the script\n",
    "#driver.close()"
   ]
  },
  {
   "cell_type": "markdown",
   "metadata": {},
   "source": [
    "### save page"
   ]
  },
  {
   "cell_type": "code",
   "execution_count": 8,
   "metadata": {},
   "outputs": [
    {
     "name": "stdout",
     "output_type": "stream",
     "text": [
      "C:/test/fb/you0728pp/\n"
     ]
    }
   ],
   "source": [
    "new_dir = new_dir + fid.replace('.', '') + '/'\n",
    "if not os.path.isdir(new_dir):\n",
    "    os.makedirs(new_dir)\n",
    "\n",
    "print(new_dir)"
   ]
  },
  {
   "cell_type": "code",
   "execution_count": 9,
   "metadata": {},
   "outputs": [
    {
     "name": "stdout",
     "output_type": "stream",
     "text": [
      "https://scontent.ftpe7-3.fna.fbcdn.net/v/t1.0-1/c0.0.160.160/p160x160/17795756_1546869478664789_4683443767440706878_n.jpg?oh=02610c7c3dd7decf547c79fc6e81d5da&oe=5A131B10\n"
     ]
    }
   ],
   "source": [
    "img_src = soup.find(class_ = 'profilePic')['src']\n",
    "print(img_src)\n",
    "\n",
    "resource = urllib.request.urlopen(img_src)\n",
    "with open(new_dir + \"profilePic.jpg\", \"wb\") as output:\n",
    "    output.write(resource.read())"
   ]
  },
  {
   "cell_type": "code",
   "execution_count": 10,
   "metadata": {
    "collapsed": true
   },
   "outputs": [],
   "source": [
    "with open(new_dir + \"frontpage.html\", \"wb\") as output:\n",
    "    output.write(html_doc.encode('utf-8'))"
   ]
  },
  {
   "cell_type": "markdown",
   "metadata": {},
   "source": [
    "### Click About and scroll by selenium"
   ]
  },
  {
   "cell_type": "code",
   "execution_count": 11,
   "metadata": {
    "collapsed": true
   },
   "outputs": [],
   "source": [
    "from selenium.webdriver.support.ui import WebDriverWait"
   ]
  },
  {
   "cell_type": "code",
   "execution_count": 14,
   "metadata": {
    "collapsed": true
   },
   "outputs": [],
   "source": [
    "driver.find_element_by_link_text(\"About\").click()"
   ]
  },
  {
   "cell_type": "code",
   "execution_count": 20,
   "metadata": {
    "collapsed": true
   },
   "outputs": [],
   "source": [
    "# scroll down a page\n",
    "driver.execute_script(\"window.scrollTo(0, document.body.scrollHeight);\")\n",
    "#driver.implicitly_wait(5) # seconds"
   ]
  },
  {
   "cell_type": "code",
   "execution_count": null,
   "metadata": {
    "collapsed": true
   },
   "outputs": [],
   "source": [
    "html_doc = driver.page_source\n",
    "html_doc = html_doc.replace(\"<!-- \", \"\")\n",
    "html_doc = html_doc.replace(\" -->\", \"\")\n",
    "\n",
    "soup = BeautifulSoup(html_doc, 'html.parser')\n",
    "\n",
    "lis = soup.find_all(\"li\")\n",
    "for li in lis:\n",
    "    print(li.text)"
   ]
  },
  {
   "cell_type": "markdown",
   "metadata": {},
   "source": [
    "### Likes"
   ]
  },
  {
   "cell_type": "code",
   "execution_count": 21,
   "metadata": {
    "collapsed": true
   },
   "outputs": [],
   "source": [
    "driver.find_element_by_link_text(\"Likes\").click()"
   ]
  },
  {
   "cell_type": "code",
   "execution_count": 26,
   "metadata": {
    "collapsed": true
   },
   "outputs": [],
   "source": [
    "driver.execute_script(\"window.scrollTo(0, document.body.scrollHeight);\")"
   ]
  },
  {
   "cell_type": "code",
   "execution_count": 27,
   "metadata": {
    "collapsed": true
   },
   "outputs": [],
   "source": [
    "html_doc = driver.page_source\n",
    "html_doc = html_doc.replace(\"<!-- \", \"\")\n",
    "html_doc = html_doc.replace(\" -->\", \"\")\n",
    "\n",
    "with open(new_dir + \"likes.html\", \"wb\") as output:\n",
    "    output.write(html_doc.encode('utf-8'))"
   ]
  },
  {
   "cell_type": "code",
   "execution_count": 28,
   "metadata": {},
   "outputs": [
    {
     "name": "stdout",
     "output_type": "stream",
     "text": [
      "Nikumon https://www.facebook.com/nikumonikumon/\n",
      "饅頭爸團隊 婚攝古柯杰 https://www.facebook.com/mtbteam.kc/\n",
      "饅頭爸團隊 https://www.facebook.com/mtbtopteam/\n",
      "區塊客 blockcast.it https://www.facebook.com/blockcast.it/\n",
      "研之有物 https://www.facebook.com/research.sinica/\n",
      "Snoopy https://www.facebook.com/Snoopy/\n",
      "Snooker https://www.facebook.com/Snooker.online/\n",
      "黑暗執行緒 https://www.facebook.com/darkthread.net/\n",
      "中央研究院 Academia Sinica https://www.facebook.com/sinicaedu/\n",
      "A菜包的家 https://www.facebook.com/AAAmeow/\n",
      "酪梨壽司 https://www.facebook.com/avocadosushi/\n",
      "台灣愛兔協會 https://www.facebook.com/rabbit.org/\n",
      "Sasa&Bobo https://www.facebook.com/HappyCelestePepe/\n",
      "Ubisoft https://www.facebook.com/Ubisoft.TWN/\n",
      "馬達加斯加動物醫院 https://www.facebook.com/madagascaranimalhospital/\n",
      "Stack Overflow https://www.facebook.com/officialstackoverflow/\n",
      "紅刺蝟 Photography https://www.facebook.com/RED.PORCUPINE2012/\n",
      "徐珮芬/patmuffin https://www.facebook.com/patmuffin/\n",
      "報導者 The Reporter https://www.facebook.com/twreporter/\n",
      "CodeTengu 碼天狗 https://www.facebook.com/codetengu/\n",
      "中央研究院資訊科學研究所 https://www.facebook.com/iis.sinica/\n",
      "HITCON Knowledge Base https://www.facebook.com/HITCONKB/\n",
      "好和弦 - NiceChord.com https://www.facebook.com/nicechord/\n",
      "Ubisoft https://www.facebook.com/Ubisoft.TWN/\n",
      "Android Security & Forensics https://www.facebook.com/AndroidMalwareForensics/\n",
      "Spotify https://www.facebook.com/SpotifyTW/\n",
      "那些電影教我的事 - Lessons from Movies https://www.facebook.com/lessonsfrommovies/\n",
      "台灣資料科學年會 https://www.facebook.com/twdsconf/\n",
      "客家小吵 Hakka Fighter https://www.facebook.com/Fight.in.Hakka/\n",
      "500px https://www.facebook.com/500px/\n",
      "Fotobeginner 攝影入門 https://www.facebook.com/fotobeginner/\n",
      "Simon's Cat https://www.facebook.com/simonscat/\n",
      "Liz Climo https://www.facebook.com/LizClimo/\n",
      "Spotify https://www.facebook.com/SpotifyTW/\n",
      "小百合的學醫隨筆 https://www.facebook.com/lilyfishyfish/\n",
      "課程紀錄 https://www.facebook.com/課程紀錄-612924775486219/\n",
      "g0v.tw 台灣零時政府 https://www.facebook.com/g0v.tw/\n",
      "快樂社大木工班 https://www.facebook.com/a0935441665a/\n",
      "Annie Leibovitz https://www.facebook.com/annieleibovitz/\n",
      "許常德的地下手記 https://www.facebook.com/許常德的地下手記-134264889922819/\n",
      "PanSci 科學新聞網 https://www.facebook.com/PanSci/\n",
      "DIGIPHOTO瘋攝影 https://www.facebook.com/digiphoto.tw/\n",
      "伍佰 Wu Bai https://www.facebook.com/wubaiclub/\n",
      "LNG WorkShop https://www.facebook.com/LNGworkshop/\n",
      "黑麵之路‧不由分說 https://www.facebook.com/wingman.chen.zero/\n",
      "Cherng https://www.facebook.com/cherng.y/\n",
      "DEVCORE https://www.facebook.com/D3VC0RE/\n",
      "American Express https://www.facebook.com/AmericanExpressTaiwan/\n",
      "American Express https://www.facebook.com/AmericanExpressTaiwan/\n",
      "板橋 甜心坊蛋糕甜點 https://www.facebook.com/Wang904172/\n",
      "何見見的圖文日誌 https://www.facebook.com/HeJianJianDeTuWenRiZhi/\n",
      "ANTrip 雲水途誌 https://www.facebook.com/antrip.plash/\n",
      "米菲two https://www.facebook.com/MixffyTwo/\n",
      "孩子的爹 https://www.facebook.com/孩子的爹-355370177871622/\n",
      "Mini Cavy 小動物の窩 https://www.facebook.com/minicavy/\n",
      "priceline.com https://www.facebook.com/priceline/\n",
      "統一獅官方粉絲團 https://www.facebook.com/unilions/\n",
      "Sony Taiwan https://www.facebook.com/SonyTaiwan/\n",
      "陳妍希 Michelle https://www.facebook.com/yanxi531/\n",
      "Citytalk 城市通 https://www.facebook.com/citytalk.event/\n",
      "侯文詠 Houwenyong https://www.facebook.com/houwenyongpage/\n",
      "大魔王 https://www.facebook.com/daimaoublog/\n",
      "宅女小紅 https://www.facebook.com/SIAOHONG/\n",
      "凱亞克 KAIAK https://www.facebook.com/kaiakwen.fans/\n",
      "旅人視界 Daren Photo https://www.facebook.com/Daren1002/\n",
      "龔懷主（羅賓）Robin Kung https://www.facebook.com/officialrobinkung/\n",
      "National Geographic https://www.facebook.com/natgeo/\n",
      "光點台北SPOT-Taipei（台北之家Taipei Film House） https://www.facebook.com/spot.tp/\n",
      "報天文 - 中央氣象局 https://www.facebook.com/CWBAO.TW/\n",
      "Impact Factor是什麼, 可以吃嗎? https://www.facebook.com/Impact-Factor是什麼-可以吃嗎-236720165785/\n"
     ]
    }
   ],
   "source": [
    "html_doc = driver.page_source\n",
    "html_doc = html_doc.replace(\"<!-- \", \"\")\n",
    "html_doc = html_doc.replace(\" -->\", \"\")\n",
    "\n",
    "soup = BeautifulSoup(html_doc, 'html.parser')\n",
    "\n",
    "likes = soup.find_all(\"div\", class_= \"fsl fwb fcb\")\n",
    "for like in likes:\n",
    "    href = like.find(\"a\")['href']\n",
    "    print(like.text, href)"
   ]
  },
  {
   "cell_type": "markdown",
   "metadata": {},
   "source": [
    "### More --> Gropus"
   ]
  },
  {
   "cell_type": "code",
   "execution_count": null,
   "metadata": {
    "collapsed": true
   },
   "outputs": [],
   "source": [
    "driver.find_element_by_link_text(\"More\").click()\n",
    "driver.find_element_by_link_text(\"Groups\").click()"
   ]
  },
  {
   "cell_type": "code",
   "execution_count": 32,
   "metadata": {},
   "outputs": [
    {
     "name": "stdout",
     "output_type": "stream",
     "text": [
      "鬥陣做兔瑞(老兔俱樂部) /groups/394190557384286/\n",
      "LaneChen老師的同樂會 /groups/228356877189964/\n",
      "大俠攝影教室 /groups/197717506952067/\n",
      "建中52屆307－阿了啊！ /groups/251258298264742/\n",
      "台大資管系系友 NTUIM Alumni /groups/ntuimalum/\n"
     ]
    }
   ],
   "source": [
    "html_doc = driver.page_source\n",
    "html_doc = html_doc.replace(\"<!-- \", \"\")\n",
    "html_doc = html_doc.replace(\" -->\", \"\")\n",
    "\n",
    "soup = BeautifulSoup(html_doc, 'html.parser')\n",
    "\n",
    "likes = soup.find_all(\"div\", class_= \"mbs fwb\")\n",
    "for like in likes:\n",
    "    href = like.find(\"a\")['href']\n",
    "    print(like.text, href)"
   ]
  },
  {
   "cell_type": "code",
   "execution_count": 33,
   "metadata": {
    "collapsed": true
   },
   "outputs": [],
   "source": [
    "with open(new_dir + \"groups.html\", \"wb\") as output:\n",
    "    output.write(html_doc.encode('utf-8'))"
   ]
  },
  {
   "cell_type": "markdown",
   "metadata": {},
   "source": [
    "### Another Like (with try/except)"
   ]
  },
  {
   "cell_type": "code",
   "execution_count": 17,
   "metadata": {},
   "outputs": [
    {
     "name": "stdout",
     "output_type": "stream",
     "text": [
      "Nikumon\n",
      "中央研究院 Academia Sinica\n",
      "紅刺蝟 Photography\n",
      "Android Security & Forensics\n",
      "Liz Climo\n",
      "PanSci 科學新聞網\n",
      "American Express\n",
      "統一獅官方粉絲團\n",
      "旅人視界 Daren Photo\n"
     ]
    }
   ],
   "source": [
    "html_doc = driver.page_source\n",
    "html_doc = html_doc.replace(\"<!-- \", \"\")\n",
    "html_doc = html_doc.replace(\" -->\", \"\")\n",
    "\n",
    "soup = BeautifulSoup(html_doc, 'html.parser')\n",
    "\n",
    "uls = soup.find_all(\"ul\", class_= \"uiList\")\n",
    "for ul in uls:\n",
    "    try: # if anything wrong in this section, then go to except\n",
    "        aria_label = ul.find(\"img\")['aria-label']\n",
    "        print(aria_label)\n",
    "    except: # if anything above goes wrong, then pass this \"ul\"\n",
    "        pass"
   ]
  },
  {
   "cell_type": "markdown",
   "metadata": {},
   "source": [
    "### Load all Friends, and parse them"
   ]
  },
  {
   "cell_type": "code",
   "execution_count": 24,
   "metadata": {
    "collapsed": true
   },
   "outputs": [],
   "source": [
    "driver.get(\"https://www.facebook.com/\" + fid)\n",
    "#driver.maximize_window()"
   ]
  },
  {
   "cell_type": "code",
   "execution_count": 16,
   "metadata": {
    "collapsed": true
   },
   "outputs": [],
   "source": [
    "driver.find_element_by_link_text(\"Friends\").click()"
   ]
  },
  {
   "cell_type": "code",
   "execution_count": 17,
   "metadata": {},
   "outputs": [],
   "source": [
    "current_len = 0\n",
    "last_len = -1\n",
    "while current_len != last_len:\n",
    "    last_len = current_len\n",
    "    current_len = driver.execute_script(\"window.scrollTo(0, document.body.scrollHeight); return document.body.scrollHeight;\")\n",
    "    #driver.implicitly_wait(5) # ask browser to wait x seconds\n",
    "    time.sleep(3) # ask python to wait x seconds"
   ]
  },
  {
   "cell_type": "code",
   "execution_count": 18,
   "metadata": {
    "collapsed": true
   },
   "outputs": [],
   "source": [
    "html_doc = driver.page_source\n",
    "html_doc = html_doc.replace(\"<!-- \", \"\")\n",
    "html_doc = html_doc.replace(\" -->\", \"\")\n",
    "\n",
    "soup = BeautifulSoup(html_doc, 'html.parser')"
   ]
  },
  {
   "cell_type": "code",
   "execution_count": 19,
   "metadata": {
    "collapsed": true
   },
   "outputs": [],
   "source": [
    "with open(new_dir + \"friends.html\", \"wb\") as output:\n",
    "    output.write(html_doc.encode('utf-8'))"
   ]
  },
  {
   "cell_type": "code",
   "execution_count": 21,
   "metadata": {},
   "outputs": [
    {
     "name": "stdout",
     "output_type": "stream",
     "text": [
      "109\n",
      "Amos Lin amos.lin.338 https://www.facebook.com/amos.lin.338?fref=pb&hc_location=profile_browser\n",
      "\n",
      "Annalize Georgeson annalize.georgeson https://www.facebook.com/annalize.georgeson?fref=pb&hc_location=profile_browser\n",
      "\n",
      "Anthony Custodio anthony.custodio.35 https://www.facebook.com/anthony.custodio.35?fref=pb&hc_location=profile_browser\n",
      "\n",
      "Ayodya Prasa ayodya.prasad https://www.facebook.com/ayodya.prasad?fref=pb&hc_location=profile_browser\n",
      "\n",
      "Birbir Hung birbir.hung.5 https://www.facebook.com/birbir.hung.5?fref=pb&hc_location=profile_browser\n",
      "\n",
      "Bo Rey 100008934215682 https://www.facebook.com/profile.php?id=100008934215682&fref=pb&hc_location=profile_browser\n",
      "\n",
      "Chengchuan Stevenncc steven.ncc https://www.facebook.com/steven.ncc?fref=pb&hc_location=profile_browser\n",
      "\n",
      "Chiataynhaurồi Chúngtachỉlàbạn anhhanhphuc.thatlogmong https://www.facebook.com/anhhanhphuc.thatlogmong?fref=pb&hc_location=profile_browser\n",
      "\n",
      "Chinh Tieu chinh.tieu.963 https://www.facebook.com/chinh.tieu.963?fref=pb&hc_location=profile_browser\n",
      "\n",
      "Chris Tan 100007850116063 https://www.facebook.com/profile.php?id=100007850116063&fref=pb&hc_location=profile_browser\n",
      "\n",
      "CốT TrUy Kỷ phucss.oppasquocskvietks https://www.facebook.com/phucss.oppasquocskvietks?fref=pb&hc_location=profile_browser\n",
      "\n",
      "Dai Dung Vu daidung.vu https://www.facebook.com/daidung.vu?fref=pb&hc_location=profile_browser\n",
      "\n",
      "Đào Vương 100013699961272 https://www.facebook.com/profile.php?id=100013699961272&fref=pb&hc_location=profile_browser\n",
      "\n",
      "Đưng Nhin Anh Nua mit.tobin.1257 https://www.facebook.com/mit.tobin.1257?fref=pb&hc_location=profile_browser\n",
      "\n",
      "Duy ĐôNg 100010670356737 https://www.facebook.com/profile.php?id=100010670356737&fref=pb&hc_location=profile_browser\n",
      "\n",
      "E-ta E-to ounmayta.ounmayta https://www.facebook.com/ounmayta.ounmayta?fref=pb&hc_location=profile_browser\n",
      "\n",
      "Emery Oliver emery.oliver.79 https://www.facebook.com/emery.oliver.79?fref=pb&hc_location=profile_browser\n",
      "\n",
      "Esther Oh esther.oh.37266 https://www.facebook.com/esther.oh.37266?fref=pb&hc_location=profile_browser\n",
      "\n",
      "Francis Foo francis.yuuweng https://www.facebook.com/francis.yuuweng?fref=pb&hc_location=profile_browser\n",
      "\n",
      "Ha Phuong 100010447802168 https://www.facebook.com/profile.php?id=100010447802168&fref=pb&hc_location=profile_browser\n",
      "\n",
      "Hou Yimu hou.yimu.1 https://www.facebook.com/hou.yimu.1?fref=pb&hc_location=profile_browser\n",
      "\n",
      "Hsuan Tsai 100013061015250 https://www.facebook.com/profile.php?id=100013061015250&fref=pb&hc_location=profile_browser\n",
      "\n",
      "Huỳnh Nhật Thư nhucthu.huynh https://www.facebook.com/nhucthu.huynh?fref=pb&hc_location=profile_browser\n",
      "\n",
      "Jacqueline Louisa antonio.dorothea.1 https://www.facebook.com/antonio.dorothea.1?fref=pb&hc_location=profile_browser\n",
      "\n",
      "Jahangir Alam Kamal 100002810376827 https://www.facebook.com/profile.php?id=100002810376827&fref=pb&hc_location=profile_browser\n",
      "\n",
      "Jingfuh Juang jingfuh.juang https://www.facebook.com/jingfuh.juang?fref=pb&hc_location=profile_browser\n",
      "\n",
      "Juan Antonio Hernandez Guerrero 100009398939980 https://www.facebook.com/profile.php?id=100009398939980&fref=pb&hc_location=profile_browser\n",
      "\n",
      "Jun Ma 100009467821387 https://www.facebook.com/profile.php?id=100009467821387&fref=pb&hc_location=profile_browser\n",
      "\n",
      "Kamarul Arifin Shahlan kamarul.shahlan https://www.facebook.com/kamarul.shahlan?fref=pb&hc_location=profile_browser\n",
      "\n",
      "Kyaw Kyaw 100010867743190 https://www.facebook.com/profile.php?id=100010867743190&fref=pb&hc_location=profile_browser\n",
      "\n",
      "Lai Zhijie lai.zhijie.5 https://www.facebook.com/lai.zhijie.5?fref=pb&hc_location=profile_browser\n",
      "\n",
      "Lâm Nhoi 100009182348077 https://www.facebook.com/profile.php?id=100009182348077&fref=pb&hc_location=profile_browser\n",
      "\n",
      "Lisa Lin 100012679655867 https://www.facebook.com/profile.php?id=100012679655867&fref=pb&hc_location=profile_browser\n",
      "\n",
      "Long Cambodia long.cambodia.90 https://www.facebook.com/long.cambodia.90?fref=pb&hc_location=profile_browser\n",
      "\n",
      "Lucy Liu 100008959982237 https://www.facebook.com/profile.php?id=100008959982237&fref=pb&hc_location=profile_browser\n",
      "\n",
      "Malik Sharif malik.sharif.1804 https://www.facebook.com/malik.sharif.1804?fref=pb&hc_location=profile_browser\n",
      "\n",
      "Monica Liu 100004188662635 https://www.facebook.com/profile.php?id=100004188662635&fref=pb&hc_location=profile_browser\n",
      "\n",
      "Mỹ Huyền 100013685927476 https://www.facebook.com/profile.php?id=100013685927476&fref=pb&hc_location=profile_browser\n",
      "\n",
      "Nabeel Nsn nabeelnavaz https://www.facebook.com/nabeelnavaz?fref=pb&hc_location=profile_browser\n",
      "\n",
      "Ngọc Khánh khanh.dang.568632 https://www.facebook.com/khanh.dang.568632?fref=pb&hc_location=profile_browser\n",
      "\n",
      "Ngoc Nguyen 100011045611269 https://www.facebook.com/profile.php?id=100011045611269&fref=pb&hc_location=profile_browser\n",
      "\n",
      "Nuwan Srilal nuwan.srilal.3576 https://www.facebook.com/nuwan.srilal.3576?fref=pb&hc_location=profile_browser\n",
      "\n",
      "Paul Kim 100005766342756 https://www.facebook.com/profile.php?id=100005766342756&fref=pb&hc_location=profile_browser\n",
      "\n",
      "Phụng Chí Nguyễn 100013371428630 https://www.facebook.com/profile.php?id=100013371428630&fref=pb&hc_location=profile_browser\n",
      "\n",
      "Phuong Phuong 100009963099269 https://www.facebook.com/profile.php?id=100009963099269&fref=pb&hc_location=profile_browser\n",
      "\n",
      "Quang Vụ 100010594711149 https://www.facebook.com/profile.php?id=100010594711149&fref=pb&hc_location=profile_browser\n",
      "\n",
      "Quốc'S Việt' quocs.viet.7 https://www.facebook.com/quocs.viet.7?fref=pb&hc_location=profile_browser\n",
      "\n",
      "Ron Hwad ron.hwad https://www.facebook.com/ron.hwad?fref=pb&hc_location=profile_browser\n",
      "\n",
      "Smart Aravind ara.vind.5682 https://www.facebook.com/ara.vind.5682?fref=pb&hc_location=profile_browser\n",
      "\n",
      "Sun Man sun.man.92167 https://www.facebook.com/sun.man.92167?fref=pb&hc_location=profile_browser\n",
      "\n",
      "Tanhy Nguyen tanhy.nguyen.5 https://www.facebook.com/tanhy.nguyen.5?fref=pb&hc_location=profile_browser\n",
      "\n",
      "Than Gyi than.gyi.986 https://www.facebook.com/than.gyi.986?fref=pb&hc_location=profile_browser\n",
      "\n",
      "Thành Long 100005873718249 https://www.facebook.com/profile.php?id=100005873718249&fref=pb&hc_location=profile_browser\n",
      "\n",
      "ThaoNguyen Nguyen 100014811732543 https://www.facebook.com/profile.php?id=100014811732543&fref=pb&hc_location=profile_browser\n",
      "\n",
      "Thịnh Thường chec.chec.71 https://www.facebook.com/chec.chec.71?fref=pb&hc_location=profile_browser\n",
      "\n",
      "Townsend Constance townsend.constance https://www.facebook.com/townsend.constance?fref=pb&hc_location=profile_browser\n",
      "\n",
      "Trần Huệ Duyên duyen.hues https://www.facebook.com/duyen.hues?fref=pb&hc_location=profile_browser\n",
      "\n",
      "Út Lâm 100009874276847 https://www.facebook.com/profile.php?id=100009874276847&fref=pb&hc_location=profile_browser\n",
      "\n",
      "Winwin Ma winwin.ma.52 https://www.facebook.com/winwin.ma.52?fref=pb&hc_location=profile_browser\n",
      "\n",
      "Xufeng Shao xufeng.shao.5 https://www.facebook.com/xufeng.shao.5?fref=pb&hc_location=profile_browser\n",
      "\n",
      "Zin Kolat zin.kolat.988 https://www.facebook.com/zin.kolat.988?fref=pb&hc_location=profile_browser\n",
      "\n",
      "นรินทร์ เกิดเงิน 100002162994595 https://www.facebook.com/profile.php?id=100002162994595&fref=pb&hc_location=profile_browser\n",
      "\n",
      "丁晴晴 100011646078324 https://www.facebook.com/profile.php?id=100011646078324&fref=pb&hc_location=profile_browser\n",
      "\n",
      "伍家葆 100010439446158 https://www.facebook.com/profile.php?id=100010439446158&fref=pb&hc_location=profile_browser\n",
      "\n",
      "余如意 100016246339487 https://www.facebook.com/profile.php?id=100016246339487&fref=pb&hc_location=profile_browser\n",
      "\n",
      "余美玲 100021315486087 https://www.facebook.com/profile.php?id=100021315486087&fref=pb&hc_location=profile_browser\n",
      "\n",
      "劉玉容 skyocean.inn https://www.facebook.com/skyocean.inn?fref=pb&hc_location=profile_browser\n",
      "\n",
      "吳學忠 100004793859055 https://www.facebook.com/profile.php?id=100004793859055&fref=pb&hc_location=profile_browser\n",
      "\n",
      "周笑蓝 rmmuxhagrvznnm https://www.facebook.com/rmmuxhagrvznnm?fref=pb&hc_location=profile_browser\n",
      "\n",
      "唐娜 100015264723491 https://www.facebook.com/profile.php?id=100015264723491&fref=pb&hc_location=profile_browser\n",
      "\n",
      "孫國琴 qspfwseutabq https://www.facebook.com/qspfwseutabq?fref=pb&hc_location=profile_browser\n",
      "\n",
      "孫志明 100015912703488 https://www.facebook.com/profile.php?id=100015912703488&fref=pb&hc_location=profile_browser\n",
      "\n",
      "宣景天 smamjzzflg https://www.facebook.com/smamjzzflg?fref=pb&hc_location=profile_browser\n",
      "\n",
      "廖光雷 100014956601532 https://www.facebook.com/profile.php?id=100014956601532&fref=pb&hc_location=profile_browser\n",
      "\n",
      "張國威 100006285494775 https://www.facebook.com/profile.php?id=100006285494775&fref=pb&hc_location=profile_browser\n",
      "\n",
      "彭念蘭 100005035593584 https://www.facebook.com/profile.php?id=100005035593584&fref=pb&hc_location=profile_browser\n",
      "\n",
      "方文勝 100007560857412 https://www.facebook.com/profile.php?id=100007560857412&fref=pb&hc_location=profile_browser\n",
      "\n",
      "李儒承 100000354129287 https://www.facebook.com/profile.php?id=100000354129287&fref=pb&hc_location=profile_browser\n",
      "\n",
      "李日琮 100005694047717 https://www.facebook.com/profile.php?id=100005694047717&fref=pb&hc_location=profile_browser\n",
      "\n",
      "李昭南 leechiaunan https://www.facebook.com/leechiaunan?fref=pb&hc_location=profile_browser\n",
      "\n",
      "李木白 100013641912261 https://www.facebook.com/profile.php?id=100013641912261&fref=pb&hc_location=profile_browser\n",
      "\n",
      "楊美玲 100019711212752 https://www.facebook.com/profile.php?id=100019711212752&fref=pb&hc_location=profile_browser\n",
      "\n",
      "樂樂錦 100010427927326 https://www.facebook.com/profile.php?id=100010427927326&fref=pb&hc_location=profile_browser\n",
      "\n",
      "武寧 100015678337871 https://www.facebook.com/profile.php?id=100015678337871&fref=pb&hc_location=profile_browser\n",
      "\n",
      "武美美 helo.eva.9 https://www.facebook.com/helo.eva.9?fref=pb&hc_location=profile_browser\n",
      "\n",
      "洪軍博 100015749146588 https://www.facebook.com/profile.php?id=100015749146588&fref=pb&hc_location=profile_browser\n",
      "\n",
      "游志鴻 100000146894178 https://www.facebook.com/profile.php?id=100000146894178&fref=pb&hc_location=profile_browser\n",
      "\n",
      "游牛牛 100016057445622 https://www.facebook.com/profile.php?id=100016057445622&fref=pb&hc_location=profile_browser\n",
      "\n",
      "潤樂 Goode2u https://www.facebook.com/Goode2u?fref=pb&hc_location=profile_browser\n",
      "\n",
      "王美雲 100015133905173 https://www.facebook.com/profile.php?id=100015133905173&fref=pb&hc_location=profile_browser\n",
      "\n",
      "肖奈 100014861761824 https://www.facebook.com/profile.php?id=100014861761824&fref=pb&hc_location=profile_browser\n",
      "\n",
      "莊凱倫 100006406416889 https://www.facebook.com/profile.php?id=100006406416889&fref=pb&hc_location=profile_browser\n",
      "\n",
      "蔡增 100003369799732 https://www.facebook.com/profile.php?id=100003369799732&fref=pb&hc_location=profile_browser\n",
      "\n",
      "蔡淳嘉 100013156519167 https://www.facebook.com/profile.php?id=100013156519167&fref=pb&hc_location=profile_browser\n",
      "\n",
      "蕭偉昇 100001697944162 https://www.facebook.com/profile.php?id=100001697944162&fref=pb&hc_location=profile_browser\n",
      "\n",
      "謝怡珊 100015847146119 https://www.facebook.com/profile.php?id=100015847146119&fref=pb&hc_location=profile_browser\n",
      "\n",
      "邱濬森 100002287269700 https://www.facebook.com/profile.php?id=100002287269700&fref=pb&hc_location=profile_browser\n",
      "\n",
      "鍾寬 100005830083982 https://www.facebook.com/profile.php?id=100005830083982&fref=pb&hc_location=profile_browser\n",
      "\n",
      "鍾秋月 100015389764630 https://www.facebook.com/profile.php?id=100015389764630&fref=pb&hc_location=profile_browser\n",
      "\n",
      "陳婷婷 100013358081658 https://www.facebook.com/profile.php?id=100013358081658&fref=pb&hc_location=profile_browser\n",
      "\n",
      "陳德為 100009998375284 https://www.facebook.com/profile.php?id=100009998375284&fref=pb&hc_location=profile_browser\n",
      "\n",
      "陳志豪 100000244200438 https://www.facebook.com/profile.php?id=100000244200438&fref=pb&hc_location=profile_browser\n",
      "\n",
      "陳緯全 100016869754654 https://www.facebook.com/profile.php?id=100016869754654&fref=pb&hc_location=profile_browser\n",
      "\n",
      "陳雅惠 100009386890411 https://www.facebook.com/profile.php?id=100009386890411&fref=pb&hc_location=profile_browser\n",
      "\n",
      "黃仁豪 100002326764448 https://www.facebook.com/profile.php?id=100002326764448&fref=pb&hc_location=profile_browser\n",
      "\n",
      "黃仕凱 100005611061226 https://www.facebook.com/profile.php?id=100005611061226&fref=pb&hc_location=profile_browser\n",
      "\n",
      "黃國慶 always77324 https://www.facebook.com/always77324?fref=pb&hc_location=profile_browser\n",
      "\n",
      "黃昭郎 100015179828345 https://www.facebook.com/profile.php?id=100015179828345&fref=pb&hc_location=profile_browser\n",
      "\n",
      "黎明雪 100004277536388 https://www.facebook.com/profile.php?id=100004277536388&fref=pb&hc_location=profile_browser\n",
      "\n"
     ]
    }
   ],
   "source": [
    "friends = soup.find_all(\"div\", class_= \"uiProfileBlockContent\")\n",
    "\n",
    "# print how many friends\n",
    "print(len(friends))\n",
    "\n",
    "for friend in friends:\n",
    "    # friend info\n",
    "    href = friend.find(\"a\")['href']\n",
    "    name = friend.find(\"a\").text\n",
    "    friend_id = friend.find(\"a\")['href'].split(\"?\")[0].split(\"/\")[-1]\n",
    "    friend_id = friend_id if friend_id != \"profile.php\" else friend.find(\"a\")['href'].split(\"id=\")[-1].split(\"&\")[0]\n",
    "    \n",
    "    # annotations\n",
    "    li = friend.find(\"li\")\n",
    "    alla = li.find_all(\"a\") if li else []\n",
    "\n",
    "    # print freind info\n",
    "    print(name, friend_id, href)\n",
    "\n",
    "    # print friends annotations\n",
    "    for a in alla:\n",
    "        print(a.text)\n",
    "    print()"
   ]
  },
  {
   "cell_type": "markdown",
   "metadata": {},
   "source": [
    "### Education and Place"
   ]
  },
  {
   "cell_type": "code",
   "execution_count": 32,
   "metadata": {
    "collapsed": true
   },
   "outputs": [],
   "source": [
    "driver.find_element_by_link_text(\"About\").click()"
   ]
  },
  {
   "cell_type": "code",
   "execution_count": 33,
   "metadata": {
    "collapsed": true
   },
   "outputs": [],
   "source": [
    "html_doc = driver.page_source\n",
    "html_doc = html_doc.replace(\"<!-- \", \"\")\n",
    "html_doc = html_doc.replace(\" -->\", \"\")\n",
    "\n",
    "soup = BeautifulSoup(html_doc, 'html.parser')"
   ]
  },
  {
   "cell_type": "code",
   "execution_count": 34,
   "metadata": {
    "collapsed": true
   },
   "outputs": [],
   "source": [
    "edus = soup.find_all(\"div\", attrs = {\"data-overviewsection\" : \"education\"})\n",
    "\n",
    "for edu in edus:\n",
    "    schools = edu.find_all(\"a\")\n",
    "    for school in schools:\n",
    "        if school.text:\n",
    "            print(school.text)"
   ]
  },
  {
   "cell_type": "code",
   "execution_count": 39,
   "metadata": {},
   "outputs": [
    {
     "name": "stdout",
     "output_type": "stream",
     "text": [
      "New Taipei City\n",
      "New Taipei City\n"
     ]
    }
   ],
   "source": [
    "places = soup.find_all(\"div\", attrs = {\"data-overviewsection\" : \"places\"})\n",
    "\n",
    "for place in places:\n",
    "    areas = place.find_all(\"a\")\n",
    "    for area in areas:\n",
    "        if area.text:\n",
    "            print(area.text)"
   ]
  },
  {
   "cell_type": "markdown",
   "metadata": {},
   "source": [
    "### 2017 post only"
   ]
  },
  {
   "cell_type": "code",
   "execution_count": null,
   "metadata": {
    "collapsed": true
   },
   "outputs": [],
   "source": [
    "# open a browser to a specific fid\n",
    "#driver.get(\"https://www.facebook.com/\" + fid)"
   ]
  },
  {
   "cell_type": "code",
   "execution_count": 15,
   "metadata": {
    "collapsed": true
   },
   "outputs": [],
   "source": [
    "#driver.find_element_by_link_text(\"Timeline\").click()"
   ]
  },
  {
   "cell_type": "code",
   "execution_count": 15,
   "metadata": {
    "collapsed": true
   },
   "outputs": [],
   "source": [
    "#driver.execute_script(\"window.scrollTo(0, document.body.scrollHeight);\")"
   ]
  },
  {
   "cell_type": "code",
   "execution_count": null,
   "metadata": {
    "collapsed": true
   },
   "outputs": [],
   "source": [
    "#driver.find_element_by_link_text(\"Recent\").click()\n",
    "#time.sleep(3)\n",
    "#driver.find_element_by_link_text(\"2017\").click()"
   ]
  },
  {
   "cell_type": "code",
   "execution_count": null,
   "metadata": {
    "collapsed": true
   },
   "outputs": [],
   "source": [
    "\"\"\"\n",
    "alreadyClick = False\n",
    "\n",
    "def yearEndYet():\n",
    "    global alreadyClick\n",
    "    \n",
    "    if not alreadyClick:\n",
    "        if \"See More 2017 Stories\" in driver.page_source:\n",
    "            driver.find_element_by_link_text(\"See More 2017 Stories\").click()\n",
    "            time.sleep(4)\n",
    "            alreadyClick = True\n",
    "        return True\n",
    "    \n",
    "    if \"Posts from 2016\" in driver.page_source:\n",
    "        return False\n",
    "    else:\n",
    "        return True\n",
    "    \n",
    "while yearEndYet():\n",
    "    driver.execute_script(\"window.scrollTo(0, document.body.scrollHeight);\")\n",
    "    #driver.implicitly_wait(5) # ask browser to wait x seconds\n",
    "    time.sleep(3) # ask python to wait x seconds\n",
    "\"\"\""
   ]
  },
  {
   "cell_type": "markdown",
   "metadata": {},
   "source": [
    "### Post"
   ]
  },
  {
   "cell_type": "code",
   "execution_count": 20,
   "metadata": {
    "collapsed": true
   },
   "outputs": [],
   "source": [
    "html_doc = driver.page_source\n",
    "html_doc = html_doc.replace(\"<!-- \", \"\")\n",
    "html_doc = html_doc.replace(\" -->\", \"\")\n",
    "\n",
    "soup = BeautifulSoup(html_doc, 'html.parser')"
   ]
  },
  {
   "cell_type": "code",
   "execution_count": 31,
   "metadata": {
    "collapsed": true
   },
   "outputs": [],
   "source": [
    "def href2fId(href):\n",
    "    fid = href.split(\"?\")[0].split(\"/\")[-1]\n",
    "    fid = fid if fid != \"profile.php\" else href.split(\"id=\")[-1].split(\"&\")[0]\n",
    "    return fid"
   ]
  },
  {
   "cell_type": "code",
   "execution_count": 36,
   "metadata": {},
   "outputs": [
    {
     "name": "stdout",
     "output_type": "stream",
     "text": [
      "一日田徑迷。台北世大運。\n",
      "Saturday, August 26, 2017 at 5:20pm 1503793221\n",
      "number of likes: 11\n",
      "number of comments: 4\n",
      "Mike Hsiao mike.hsiao\n",
      "晉級！\n",
      "Saturday, August 26, 2017 at 6:20pm 1503742821\n",
      "Mike Hsiao mike.hsiao\n",
      "男子四百跨欄銀牌！\n",
      "Saturday, August 26, 2017 at 7:47pm 1503748049\n",
      "Mike Hsiao mike.hsiao\n",
      "標槍金牌破亞洲紀錄！\n",
      "Saturday, August 26, 2017 at 8:17pm 1503749868\n",
      "蕭高發 100008738220157\n",
      "利害！\n",
      "Sunday, August 27, 2017 at 11:22am 1503804123\n",
      "======\n",
      "目前 WannaCry 每小時收到的美金贖款，現在總和七萬美元也是蠻驚人的。\n",
      "Wednesday, May 17, 2017 at 2:50am 1495014635\n",
      "number of likes: 16\n",
      "number of comments: 4\n",
      "Ming-Li Lin linkli.lin\n",
      "比想像中要少…\n",
      "Wednesday, May 17, 2017 at 3:25am 1494962749\n",
      "Jean Tsai jeantsai.films\n",
      "Bitcoin 太難懂了\n",
      "Wednesday, May 17, 2017 at 3:29am 1494962980\n",
      "Hsueh-Hao Chang hsuehhao.chang\n",
      "感覺錢很少耶，可能還沒到最後一天 xd\n",
      "Wednesday, May 17, 2017 at 10:27am 1494988040\n",
      "Evita Lin evita.lin2\n",
      "這也可以圖表化@@\n",
      "Thursday, May 18, 2017 at 1:51pm 1495086686\n",
      "======\n",
      "兔子萬歲！\n",
      "Sunday, April 30, 2017 at 1:17pm 1493583454\n",
      "number of likes: 14\n",
      "number of comments: 0\n",
      "======\n",
      "十和田湖\n",
      "Saturday, April 15, 2017 at 9:44am 1492274674\n",
      "number of likes: 12\n",
      "number of comments: 0\n",
      "======\n",
      "路途\n",
      "Thursday, April 13, 2017 at 8:04pm 1492139085\n",
      "number of likes: 11\n",
      "number of comments: 0\n",
      "======\n",
      "夕\n",
      "Saturday, April 8, 2017 at 1:04am 1491638685\n",
      "number of likes: 10\n",
      "number of comments: 0\n",
      "======\n",
      "威尼斯\n",
      "Sunday, April 2, 2017 at 4:19pm 1491175168\n",
      "number of likes: 33\n",
      "number of comments: 0\n",
      "======\n",
      "羅馬競技場。顯然上面有個信仰之躍的點 XD\n",
      "Sunday, March 26, 2017 at 8:51pm 1490586682\n",
      "number of likes: 47\n",
      "number of comments: 4\n",
      "Alice Hsiao alice.hsiao\n",
      "那只鷹?海鷗?鴿子?你等多久拍到的，很美\n",
      "Sunday, March 26, 2017 at 8:59pm 1490533151\n",
      "蕭高發 100008738220157\n",
      "神賜大家.太棒了!\n",
      "Monday, March 27, 2017 at 1:53am 1490550785\n",
      "Ming-Li Lin linkli.lin\n",
      "還不快找稻草堆！\n",
      "Monday, March 27, 2017 at 6:28am 1490567332\n",
      "William Lo wenhsing.lo\n",
      "Nice shot!\n",
      "Tuesday, March 28, 2017 at 12:46am 1490633173\n",
      "======\n",
      "梵蒂岡\n",
      "Saturday, March 25, 2017 at 5:40pm 1490488819\n",
      "number of likes: 29\n",
      "number of comments: 3\n",
      "陳小詠 x831617\n",
      "天氣真好~\n",
      "Saturday, March 25, 2017 at 6:23pm 1490437408\n",
      "Alice Hsiao alice.hsiao\n",
      "想跟這美麗的天氣及雀躍的心情\n",
      "Sunday, March 26, 2017 at 11:20am 1490498429\n",
      "蕭高發 100008738220157\n",
      "偉大之地.神的故鄉!\n",
      "Monday, March 27, 2017 at 1:54am 1490550846\n",
      "======\n",
      "雅典學院\n",
      "Saturday, March 25, 2017 at 12:00pm 1490468400\n",
      "number of likes: 9\n",
      "number of comments: 0\n",
      "======\n",
      "Sweet!\n",
      "Friday, March 24, 2017 at 11:32pm 1490423569\n",
      "number of likes: 13\n",
      "number of comments: 0\n",
      "======\n",
      "Sweet!\n",
      "Friday, March 24, 2017 at 11:32pm 1490423559\n",
      "number of likes: 2\n",
      "number of comments: 2\n",
      "Alice Hsiao alice.hsiao\n",
      "選了啥顏色呀\n",
      "Sunday, March 26, 2017 at 11:18am 1490498338\n",
      "Alice Hsiao alice.hsiao\n",
      "也太幸福啦，人生現在開始幸福\n",
      "Sunday, March 26, 2017 at 9:01pm 1490533319\n",
      "======\n",
      "我今天早上上班的時候沒想過我今天會忙著辦離職手續…\n",
      "Wednesday, January 18, 2017 at 5:54pm 1484790875\n",
      "number of likes: 49\n",
      "number of comments: 4\n",
      "Chia-Chen Chang chiachen.tw\n",
      "蕭M要去哪裡啊？\n",
      "Thursday, January 19, 2017 at 1:51pm 1484805113\n",
      "Evita Lin evita.lin2\n",
      "人生就是永遠有意外啊～\n",
      "Saturday, January 21, 2017 at 2:21pm 1484979708\n",
      "Hao-Hsiang Chang haohsiang.chang.3\n",
      "先恭喜學長啦!\n",
      "Monday, February 13, 2017 at 9:23pm 1486992185\n",
      "Cathy Hsu conica\n",
      "開學愉快！\n",
      "Tuesday, February 14, 2017 at 1:16am 1487006177\n",
      "======\n",
      "Fox hunting.\n",
      "Saturday, October 22, 2016 at 11:38pm 1477204714\n",
      "number of likes: 31\n",
      "number of comments: 0\n",
      "======\n",
      "有沒有人在世貿附近呀？\n",
      "Thursday, September 29, 2016 at 3:02pm 1475186558\n",
      "number of likes: 5\n",
      "number of comments: 1\n",
      "Canny Wang wang.canny\n",
      "哈，我剛從世貿中心回家欸。\n",
      "Thursday, September 29, 2016 at 3:11pm 1475133089\n",
      "======\n",
      "誠徵 Asus M5 筆電一台...\n",
      "Friday, September 23, 2016 at 3:53pm 1474671214\n",
      "number of likes: 2\n",
      "number of comments: 1\n",
      "Han-Tien Chang loter.chang\n",
      "我有 M5N~~\n",
      "Friday, September 23, 2016 at 4:00pm 1474617641\n",
      "======\n",
      "https://www.flickr.com/…/hsi…/collections/72157672896120731/\n",
      "Sunday, September 18, 2016 at 4:23pm 1474240992\n",
      "number of likes: 12\n",
      "number of comments: 1\n",
      "Isa Y. Chi cycisa\n",
      "狐狸～\n",
      "Sunday, September 18, 2016 at 4:25pm 1474187102\n",
      "======\n",
      "======\n",
      "Mammoth Hot Springs\n",
      "Saturday, September 17, 2016 at 3:58pm 1474153101\n",
      "number of likes: 21\n",
      "number of comments: 2\n",
      "Yi Rong Shih yirong.shih\n",
      "這也未免太夢幻了⋯⋯\n",
      "Saturday, September 17, 2016 at 5:23pm 1474104233\n",
      "Shin You Lin shinyou.lin.73\n",
      "米國真是好地方啊><\n",
      "Saturday, September 17, 2016 at 6:32pm 1474108342\n",
      "======\n",
      "牛啊~~\n",
      "Tuesday, September 13, 2016 at 1:16pm 1473797786\n",
      "number of likes: 29\n",
      "number of comments: 0\n",
      "======\n",
      "路邊有這東西蠻妙的…\n",
      "Saturday, September 3, 2016 at 1:28pm 1472934510\n",
      "number of likes: 18\n",
      "number of comments: 2\n",
      "Isa Y. Chi cycisa\n",
      "路邊也有這個\n",
      "Monday, November 14, 2016 at 9:33pm 1479130395\n",
      "Jamesbomb Lee jamesbomb\n",
      "為什麼這篇comment都是空白的?\n",
      "Tuesday, November 15, 2016 at 7:58pm 1479211082\n",
      "======\n",
      "其實就是很多很多的黃色\n",
      "Thursday, August 25, 2016 at 10:17pm 1472188635\n",
      "number of likes: 20\n",
      "number of comments: 0\n",
      "======\n",
      "Masada\n",
      "Sunday, August 21, 2016 at 4:07am 1471777640\n",
      "number of likes: 8\n",
      "number of comments: 0\n",
      "======\n",
      "荒原\n",
      "Saturday, August 20, 2016 at 7:51pm 1471747908\n",
      "number of likes: 23\n",
      "number of comments: 1\n",
      "Evita Lin evita.lin2\n",
      "一望無際的原始氣息\n",
      "Sunday, August 21, 2016 at 12:58am 1471712310\n",
      "======\n",
      "[誠徵] 誠徵 JAVA contract 人員兩至三名，contract 可簽二至三個月，若有興趣可轉全職。熟稔 JAVA-based Web Application 開發、偵錯、測試、MySQL。業主是台灣 FinTech 金融公司，需要協助開發 FinTech 交易資訊平台。待遇優於業界，按工時或月計酬（視合約而定）。該公司已有一平台系統，需修改與除錯功能。詳情可再向我詢問。想要前進 FinTech 公司的學長、同學、朋友，請好好把握機會喔！\n",
      "Friday, July 15, 2016 at 3:01pm 1468620099\n",
      "number of likes: 21\n",
      "number of comments: 4\n",
      "Mike Hsiao mike.hsiao\n",
      "公司在松山火車站、松山捷運站、後山埤捷運站附近。\n",
      "Friday, July 15, 2016 at 3:03pm 1468566229\n",
      "Cathy Hsu conica\n",
      "Define fintech... Haha\n",
      "Friday, July 15, 2016 at 3:12pm 1468566760\n",
      "王惠芳 hf.wang.90\n",
      "怎麼由你出面徵才？？\n",
      "Friday, July 15, 2016 at 3:19pm 1468567156\n",
      "Ling-Chieh Kung lckung\n",
      "\n",
      "Friday, July 15, 2016 at 3:26pm 1468567601\n",
      "======\n",
      "首先，學貓叫是沒用的。\n",
      "Thursday, July 14, 2016 at 5:02pm 1468540963\n",
      "number of likes: 4\n",
      "number of comments: 0\n",
      "======\n",
      "是說在資訊所一樓的台上大概講了有超過一百次吧？是頭一回有上看板的…\n",
      "Monday, May 30, 2016 at 10:26am 1464629210\n",
      "number of likes: 93\n",
      "number of comments: 4\n",
      "Evita Lin evita.lin2\n",
      "有看板廣告感覺專業度瞬間加倍！！！\n",
      "Monday, May 30, 2016 at 1:07pm 1464584868\n",
      "Cheng-Li Kao kiwikaon\n",
      "想聽！！\n",
      "Monday, May 30, 2016 at 1:13pm 1464585238\n",
      "Cash Hsu hsu.cash\n",
      "每個英文字我都懂意思，但是放在一起我就看不懂了.....\n",
      "Monday, May 30, 2016 at 2:38pm 1464590285\n",
      "Yu-Chun Pan ycpeterpan\n",
      "唉啊 過了 不然想去聽\n",
      "Monday, May 30, 2016 at 6:28pm 1464604134\n",
      "======\n",
      "今天是兔子先生是十一歲的生日，送上一張日常懶散照。都快要小學畢業啦~~\n",
      "Saturday, April 9, 2016 at 5:30pm 1460248220\n",
      "number of likes: 46\n",
      "number of comments: 4\n",
      "蕭高發 100008738220157\n",
      "小白是家族一員.大家都愛它.\n",
      "Saturday, April 9, 2016 at 6:28pm 1460197737\n",
      "王惠芳 hf.wang.90\n",
      "小學都快畢業了成續不知如何？品性倒是優良……喜歡……讚\n",
      "Saturday, April 9, 2016 at 6:31pm 1460197895\n",
      "Alice Hsiao alice.hsiao\n",
      "真的品性優良呀，主人教的好\n",
      "Saturday, April 9, 2016 at 8:49pm 1460206166\n",
      "Li-Ming Chen limingchen80\n",
      "後面那隻是他的玩伴？\n",
      "Saturday, April 9, 2016 at 9:16pm 1460207789\n",
      "======\n",
      "路燈\n",
      "Tuesday, March 15, 2016 at 10:06pm 1458104818\n",
      "number of likes: 10\n",
      "number of comments: 0\n",
      "======\n",
      "和服\n",
      "Tuesday, January 19, 2016 at 8:50pm 1453265452\n",
      "number of likes: 16\n",
      "number of comments: 2\n",
      "Ming-Li Lin linkli.lin\n",
      "台灣人？\n",
      "Wednesday, January 20, 2016 at 12:59am 1453222773\n",
      "Isa Y. Chi cycisa\n",
      "\\ __ /\n",
      "Wednesday, January 20, 2016 at 7:05pm 1453287947\n",
      "======\n",
      "京ばあむ\n",
      "Sunday, January 17, 2016 at 10:58am 1453057081\n",
      "number of likes: 8\n",
      "number of comments: 0\n",
      "======\n",
      "定食\n",
      "Thursday, January 14, 2016 at 9:59pm 1452837597\n",
      "number of likes: 15\n",
      "number of comments: 1\n",
      "蕭高發 100008738220157\n",
      "狠想吃吃吃~YA~\n",
      "Friday, January 15, 2016 at 9:19am 1452820776\n",
      "======\n",
      "京都塔\n",
      "Wednesday, January 13, 2016 at 10:41pm 1452753698\n",
      "number of likes: 31\n",
      "number of comments: 0\n",
      "======\n",
      "棉花糖\n",
      "Wednesday, September 9, 2015 at 7:13pm 1441851201\n",
      "number of likes: 37\n",
      "number of comments: 0\n",
      "======\n",
      "家\n",
      "Wednesday, August 19, 2015 at 10:31pm 1440048675\n",
      "number of likes: 0\n",
      "number of comments: 0\n",
      "======\n",
      "印度洋 (https://flic.kr/p/wRFUK8)\n",
      "Wednesday, July 29, 2015 at 12:00pm 1438196400\n",
      "number of likes: 12\n",
      "number of comments: 1\n",
      "蕭高發 100008738220157\n",
      "狠水。\n",
      "Monday, August 3, 2015 at 1:54pm 1438581292\n",
      "======\n",
      "萌\n",
      "Friday, May 22, 2015 at 1:29am 1432283370\n",
      "number of likes: 22\n",
      "number of comments: 4\n",
      "Alice Hsiao alice.hsiao\n",
      "唱歌跳舞通通不行還是萌翻天的咪兔\n",
      "Friday, May 22, 2015 at 12:58pm 1432270711\n",
      "笨米欠 1133718663\n",
      "哈哈哈哈…剩媽媽還沒留言\n",
      "Friday, May 22, 2015 at 12:59pm 1432270748\n",
      "Alice Hsiao alice.hsiao\n",
      "黑兔比白兔易顯老……\n",
      "Friday, May 22, 2015 at 12:59pm 1432270797\n",
      "王惠芳 hf.wang.90\n",
      "笨米欠你的宝貝更萌呢\n",
      "Wednesday, May 27, 2015 at 10:08am 1432692506\n",
      "======\n",
      "======\n",
      "聖誕節就是要乖乖的, 對過去充滿感激, 對未來抱持希望, 充滿祝福與溫暖.\n",
      "Thursday, December 25, 2014 at 2:22pm 1419546140\n",
      "number of likes: 5\n",
      "number of comments: 2\n",
      "王惠芳 hf.wang.90\n",
      "最深，長，闊的恩典是你們都在我身邊。在此給你們滿滿的擁抱與祝福……\n",
      "Thursday, December 25, 2014 at 2:36pm 1419489397\n",
      "Alice Hsiao alice.hsiao\n",
      "有看到2分49秒的驚訝嗎？\n",
      "Friday, December 26, 2014 at 8:55pm 1419598547\n",
      "======\n"
     ]
    }
   ],
   "source": [
    "contents = soup.find_all(\"div\", class_ = \"fbUserPost\")\n",
    "for content in contents:\n",
    "    post = content.find(\"p\")\n",
    "    if post:\n",
    "        \n",
    "        # time\n",
    "        time_human = content.find(\"abbr\")[\"title\"]\n",
    "        time_utime = content.find(\"abbr\")[\"data-utime\"]\n",
    "\n",
    "        # number of likes\n",
    "        likes = content.find(\"div\", class_ = \"UFILikeSentence\")\n",
    "        if likes: # sometimes a post may have no 'likes'\n",
    "            likes = likes.find(\"a\")[\"aria-label\"]\n",
    "            number_of_likes = int(likes.split(' ')[0])\n",
    "        else:\n",
    "            number_of_likes = 0\n",
    "\n",
    "        # comments\n",
    "        commentblocks = content.find_all(\"div\", class_ = \"UFICommentContentBlock\")\n",
    "        \n",
    "        # print result\n",
    "        print(post.text)\n",
    "        print(time_human, time_utime)\n",
    "        print(\"number of likes:\", number_of_likes)\n",
    "        \n",
    "        # print how many comments\n",
    "        print(\"number of comments:\", len(commentblocks))\n",
    "        \n",
    "        # parse comments\n",
    "        for commentblock in commentblocks:\n",
    "            commenter_name = commentblock.find(\"a\",  class_ = \"UFICommentActorName\").text\n",
    "            commenter_href = commentblock.find(\"a\",  class_ = \"UFICommentActorName\")['href']\n",
    "            commenter_fid = href2fId(commenter_href)\n",
    "            comment = commentblock.find(\"span\",  class_ = \"UFICommentBody\").text\n",
    "            comment_time_human = commentblock.find(\"abbr\")[\"title\"]\n",
    "            comment_time_utime = commentblock.find(\"abbr\")[\"data-utime\"]\n",
    "            \n",
    "            # print each comment data\n",
    "            print(commenter_name, commenter_fid)\n",
    "            print(comment)\n",
    "            print(comment_time_human, comment_time_utime)\n",
    "        \n",
    "    #print(content)\n",
    "    print(\"======\")"
   ]
  }
 ],
 "metadata": {
  "kernelspec": {
   "display_name": "Python 3",
   "language": "python",
   "name": "python3"
  },
  "language_info": {
   "codemirror_mode": {
    "name": "ipython",
    "version": 3
   },
   "file_extension": ".py",
   "mimetype": "text/x-python",
   "name": "python",
   "nbconvert_exporter": "python",
   "pygments_lexer": "ipython3",
   "version": "3.6.0"
  }
 },
 "nbformat": 4,
 "nbformat_minor": 2
}
