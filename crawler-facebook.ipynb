{
 "cells": [
  {
   "cell_type": "markdown",
   "metadata": {},
   "source": [
    "### Name"
   ]
  },
  {
   "cell_type": "code",
   "execution_count": 1,
   "metadata": {
    "collapsed": true
   },
   "outputs": [],
   "source": [
    "from bs4 import BeautifulSoup # conda install beautifulsoup4"
   ]
  },
  {
   "cell_type": "code",
   "execution_count": 2,
   "metadata": {
    "collapsed": true
   },
   "outputs": [],
   "source": [
    "with open(\"C:/Users/hsiao/Desktop/Mike Hsiao-DOM.html\", \"rb\") as f:\n",
    "    html_doc = f.read()\n",
    "    html_doc = html_doc.replace(b\"<!-- \", b\"\")\n",
    "    html_doc = html_doc.replace(b\" -->\", b\"\")"
   ]
  },
  {
   "cell_type": "code",
   "execution_count": 3,
   "metadata": {
    "collapsed": true,
    "scrolled": true
   },
   "outputs": [],
   "source": [
    "soup = BeautifulSoup(html_doc, 'html.parser')\n",
    "s = soup.prettify(formatter=None).encode('UTF-8')"
   ]
  },
  {
   "cell_type": "code",
   "execution_count": 4,
   "metadata": {
    "scrolled": true
   },
   "outputs": [
    {
     "name": "stdout",
     "output_type": "stream",
     "text": [
      "<class 'bytes'>\n",
      "<class 'bs4.BeautifulSoup'>\n",
      "['Mike Hsiao']\n"
     ]
    }
   ],
   "source": [
    "print(type(s))\n",
    "print(type(soup))\n",
    "\n",
    "print(soup.find(id='fb-timeline-cover-name').contents)"
   ]
  },
  {
   "cell_type": "markdown",
   "metadata": {},
   "source": [
    "### facebook API"
   ]
  },
  {
   "cell_type": "code",
   "execution_count": null,
   "metadata": {
    "collapsed": true
   },
   "outputs": [],
   "source": [
    "# https://developers.facebook.com/tools/explorer/"
   ]
  },
  {
   "cell_type": "code",
   "execution_count": null,
   "metadata": {
    "collapsed": true
   },
   "outputs": [],
   "source": [
    "import os\n",
    "import json\n",
    "import urllib\n",
    "import pprint\n",
    "\n",
    "# get Facebook access token from environment variable\n",
    "ACCESS_TOKEN = ''\n",
    "\n",
    "# build the URL for the API endpoint\n",
    "host = \"https://graph.facebook.com\"\n",
    "path = \"/v2.10/mike.hsiao\"\n",
    "params = urllib.parse.urlencode({\"access_token\": ACCESS_TOKEN})\n",
    "\n",
    "url = \"{host}{path}?{params}\".format(host=host, path=path, params=params)\n",
    "print(url)\n",
    "\n",
    "# open the URL and read the response\n",
    "resp = urllib.request.urlopen(url).read()\n",
    "\n",
    "# convert the returned JSON string to a Python datatype \n",
    "me = json.loads(resp)\n",
    "\n",
    "# display the result\n",
    "pprint.pprint(me)"
   ]
  },
  {
   "cell_type": "markdown",
   "metadata": {},
   "source": [
    "### HTML"
   ]
  },
  {
   "cell_type": "code",
   "execution_count": 5,
   "metadata": {
    "collapsed": true
   },
   "outputs": [],
   "source": [
    "import copy"
   ]
  },
  {
   "cell_type": "code",
   "execution_count": 6,
   "metadata": {
    "collapsed": true
   },
   "outputs": [],
   "source": [
    "_soup = copy.copy(soup)\n",
    "\n",
    "word_set = set()\n",
    "\n",
    "for match in _soup.find_all(\"div\"):\n",
    "    for token in word_set:\n",
    "        if match.text in token:\n",
    "            #word_set.remove(token)\n",
    "            #word_set.add(match.text)\n",
    "            break\n",
    "    word_set.add(match.text)"
   ]
  },
  {
   "cell_type": "code",
   "execution_count": 7,
   "metadata": {},
   "outputs": [
    {
     "name": "stdout",
     "output_type": "stream",
     "text": [
      "{'', '2001', '李鴻鈞', 'Show 2009', '0 Messages', 'Li-Ming Chen  所以項圈是精品嗎？LikeShow more reactions · Reply · 11 · April 1 at 11:04pmRemoveMike Hsiao replied · 1 ReplyJamesbomb Lee  時機成熟會宰來取皮?LikeShow more reactions · Reply · April 2 at 11:19amRemove', 'LikeShow more reactions · Reply · July 29 at 11:03pm', \"What's your life motto? 💭\", 'Puff Wen', 'Friend RequestsFind Friends · SettingsFriend RequestsSee All', '李奕德', 'See All', '1111 施岱伶, Kelly Su and 9 othersCommentsWrite a comment...', 'Isa Y. Chi  像假的一樣～LikeShow more reactions · Reply · May 14 at 9:02amRemove', 'Chang-Huan WuTsai Rung Li葉展奇Han-Tien Chang28mIsa Y. Chi王小洋7h邱偉志18m薛筑允Newman Chiang李奕德', 'LikeShow more reactionsCommentShare1212 Weijia Yeh, 陳星妘 and 10 othersCommentsWrite a comment...', '你慢慢平復心情XD', 'Lives in New Taipei City', 'Mike Hsiao at Aomori Prefecture. · April 13 · Instagram · checkmarkcaution-solid', 'MORE CONTACTS (15)Canny WangChia-Ming HsuGobby HuangJing-Fang WangKelly SuPuff WenWei-Chun KaoAlexander LinJack YuYi Cheng曾千蕙徐欣佑楊智堯趙奕帆陳文振', '佛羅倫斯皮貨商的狗', 'Mike Hsiao at Piazza San Pietro - Vaticano, Roma, Italia. · March 25 · Instagram · checkmarkcaution-solid', 'Show 2013', 'MessagesMark All Read · New MessageRecentMessage RequestsIsa Y. Chi好啊~~~3:34pmChen Chien ChunChen missed a call from you.11:39amChieh-Chun Chen我送錯訊息了10:57am周詮儒好的 感謝MonChang-Huan WuActive嗯重點是要說連不上啦Mon薛筑允hiSun邱偉志你慢慢平復心情XDSunHsueh-Hao ChangSat邱偉志, 彭証鴻, Chen Chien Chun, 2 othersChen: 老師有點名時幫我說一聲，感謝大家Fri李鴻鈞打擾了，謝謝ThuShow OlderSee All in Messenger', '1 new post', '7h', 'Alice Hsiao  超美的', 'Write a reply...', 'Alice Hsiao  選了啥顏色呀LikeShow more reactions · Reply · March 26 at 11:18amManage王惠芳 replied · 1 ReplyAlice Hsiao  也太幸福啦，人生現在開始幸福LikeShow more reactions · Reply · March 26 at 9:01pmManage', 'Drag to Reposition Cover', '2000', \"Puff Wen likes 江承勳's post.\", '1998', '1993', 'View Activity Log10+', 'Mike HsiaoTimelineTimelineAboutRecentRecent201720162015201420132012201120102009200820072006200520001982Recent201720162015201420132012201120102009200820072006200520001982All PostsAll PostsActivity Log...All PostsActivity Log...', 'LikeShow more reactions · Reply · March 26 at 8:59pm', 'Alice Hsiao  選了啥顏色呀', 'Fri', 'Newman Chiang', ' · May 17 · checkmarkcaution-solid', '莊佩佩 replied to her own comment.', \"StatusPhoto/VideoLive VideoLife EventDrag Link/Photos/Video HereDrop LinkDrop Photo/VideoDrop Photoscheckmarkcaution-solidFriendsPostMike Hsiao feeling joyful with Isa Y. Chi. · July 29 at 8:11pm · checkmarkcaution-solid只是側拍而已啦~~LikeShow more reactionsCommentShare81182 You, Dogmimi Chen, 邱偉志 and 79 others1 shareCommentsView 3 more commentsIsa Y. Chi  是Mike Hsiao拍得好～LikeShow more reactions · Reply · July 29 at 9:12pmRemoveHsueh-Hao Chang  好像很瘦！LikeShow more reactions · Reply · July 29 at 9:28pmRemoveLing-Chieh Kung replied · 1 ReplyAlice Hsiao  超美的LikeShow more reactions · Reply · July 29 at 11:03pmRemoveJeff Liu  LikeShow more reactions · Reply · July 30 at 7:33pmRemoveWrite a comment...Mike Hsiao · May 17 · checkmarkcaution-solid目前 WannaCry 每小時收到的美金贖款，現在總和七萬美元也是蠻驚人的。LikeShow more reactionsCommentShare16218 Ying-ying Chen, Ivy Chang and 16 others1 shareCommentsMing-Li Lin  比想像中要少…LikeShow more reactions · Reply · May 17 at 3:25amManageJean Tsai  Bitcoin 太難懂了LikeShow more reactions · Reply · May 17 at 3:29amManageJean Tsai replied · 7 RepliesHsueh-Hao Chang  感覺錢很少耶，可能還沒到最後一天 xdLikeShow more reactions · Reply · May 17 at 10:27amManageJean Tsai replied · 6 RepliesEvita Lin  這也可以圖表化@@LikeShow more reactions · Reply · May 18 at 1:51pmManageWrite a comment...Mike Hsiao · May 13 · Instagram · checkmarkcaution-solid佛羅倫斯 聖母百花大教堂LikeShow more reactionsCommentShare38139 Weijia Yeh, 施岱伶 and 37 othersCommentsIsa Y. Chi  像假的一樣～LikeShow more reactions · Reply · May 14 at 9:02amRemoveLi-Ming Chen  我有買過一本 圓頂的故事就是在說它LikeShow more reactions · Reply · May 14 at 12:10pmRemoveMike Hsiao  有沒有人玩過刺客教條二？主場景呀LikeShow more reactions · Reply · 11 · May 14 at 12:59pmManageLenora Huang  有...（看人玩過）LikeShow more reactions · Reply · May 14 at 3:25pmRemoveWrite a reply...Jamesbomb Lee  講得好像你有玩過LikeShow more reactions · Reply · 11 · May 14 at 1:53pmRemoveJamesbomb Lee replied · 2 RepliesWrite a comment...Mike Hsiao · April 30 · Instagram · checkmarkcaution-solid兔子萬歲！LikeShow more reactionsCommentShare1414 葉展奇, 蕭高發 and 12 othersCommentsWrite a comment...Mike Hsiao at Lake Towada. · April 15 · Instagram · checkmarkcaution-solid十和田湖LikeShow more reactionsCommentShare1212 Weijia Yeh, 陳星妘 and 10 othersCommentsWrite a comment...Mike Hsiao at Aomori Prefecture. · April 13 · Instagram · checkmarkcaution-solid路途LikeShow more reactionsCommentShare1111 施岱伶, Kelly Su and 9 othersCommentsWrite a comment...Mike Hsiao · April 8 · Instagram · checkmarkcaution-solid夕LikeShow more reactionsCommentShare1010 陳星妘, 葉展奇 and 8 othersCommentsWrite a comment...Mike Hsiao · April 2 · Instagram · checkmarkcaution-solid威尼斯LikeShow more reactionsCommentShare33134 Dogmimi Chen, 彭郁祺 and 32 othersCommentsWrite a comment...Mike Hsiao · April 1 · Instagram · checkmarkcaution-solid佛羅倫斯皮貨商的狗LikeShow more reactionsCommentShare1717 邱偉志, Chen Chien Chun and 15 othersCommentsLi-Ming Chen  所以項圈是精品嗎？LikeShow more reactions · Reply · 11 · April 1 at 11:04pmRemoveMike Hsiao replied · 1 ReplyJamesbomb Lee  時機成熟會宰來取皮?LikeShow more reactions · Reply · April 2 at 11:19amRemoveWrite a comment...Mike Hsiao at Colosseo. · March 26 · Instagram · checkmarkcaution-solid羅馬競技場。顯然上面有個信仰之躍的點 XDLikeShow more reactionsCommentShare47148 Luke Chi, Weijia Yeh and 46 othersCommentsView 1 more commentAlice Hsiao  那只鷹?海鷗?鴿子?你等多久拍到的，很美LikeShow more reactions · Reply · March 26 at 8:59pmManageAlice Hsiao replied · 3 Replies蕭高發  神賜大家.太棒了!LikeShow more reactions · Reply · March 27 at 1:53amManageMing-Li Lin  還不快找稻草堆！LikeShow more reactions · Reply · 11 · March 27 at 6:28amManageWilliam Lo  Nice shot!LikeShow more reactions · Reply · March 28 at 12:46amManageWrite a comment...Mike Hsiao at Piazza San Pietro - Vaticano, Roma, Italia. · March 25 · Instagram · checkmarkcaution-solid梵蒂岡LikeShow more reactionsCommentShare2929 邱偉志, 葉展奇 and 27 othersComments陳小詠  天氣真好~LikeShow more reactions · Reply · March 25 at 6:23pmManageAlice Hsiao  想跟這美麗的天氣及雀躍的心情LikeShow more reactions · Reply · March 26 at 11:20amManage蕭高發  偉大之地.神的故鄉!LikeShow more reactions · Reply · March 27 at 1:54amManageWrite a comment...Mike Hsiao at Vatican Museums - Musei Vaticani. · March 25 ·  · 雅典學院LikeShow more reactionsCommentShare99 蕭高發, Kai Tai Chang and 7 othersCommentsWrite a comment...Mike Hsiao in Amsterdam, Netherlands. · March 24 · Instagram · checkmarkcaution-solidSweet!LikeShow more reactionsCommentShare13114 Isa Y. Chi, 邱偉志 and 12 othersCommentsWrite a comment...Mike Hsiao in Amsterdam, Netherlands. · March 24 · Instagram · checkmarkcaution-solidSweet!LikeShow more reactionsCommentShare22 蕭高發 and Alice HsiaoCommentsAlice Hsiao  選了啥顏色呀LikeShow more reactions · Reply · March 26 at 11:18amManage王惠芳 replied · 1 ReplyAlice Hsiao  也太幸福啦，人生現在開始幸福LikeShow more reactions · Reply · March 26 at 9:01pmManageWrite a comment...See More Recent StoriesEarlier in 2017Show Earlier in 20172016Show 20162015Show 20152014Show 20142013Show 20132012Show 20122011Show 20112010Show 20102009Show 20092008Show 20082007Show 20072006Show 20062005Show 200520042003200220012000Show 2000199919981997199619951994199319921991199019891988198719861985198419831982Show 1982When did you work at Academia Sinica?28 Pending ItemsIntroWhat makes you happy? 😊What's your life motto? 💭What are your hobbies? 🛩 ⚽  🎸Where would you like to visit? 🌍What's your favorite food? 🍕 🍏 🍪Lives in New Taipei CityFrom New Taipei CityJoined August 2006Add Featured PhotosRemoveFeature up to 5 photos you lovePhotosFriends · 315Mohammad GhanayimWeijia Yeh1 new postSheng Yang Liu邱偉志薛筑允Chen Chien Chun李鴻鈞Justin HsuI-Hui HuangFeatured AlbumsEnglish (US) · 中文(台灣) · Español · Português (Brasil) · Français (France)Privacy · Terms · Advertising · Ad Choices · Cookies · More Facebook © 2017\", '蕭高發  偉大之地.神的故鄉!LikeShow more reactions · Reply · March 27 at 1:54amManage', '22 蕭高發 and Alice Hsiao', \"Fan Liu likes Chih Liu's post in 五月天 [人生無限公司] 北美巡迴 - 聖荷西 Mayday [Life] Tour - San Jose. Puff Wen likes 江承勳's post. Willie Chen added a new photo. “Mt. Everest(8850m), Himalayan mountain ranges, postcard sent...”莊佩佩 replied to her own comment. Yiling Lai likes Yahoo!奇摩新聞's link. YiNing Chen commented on Hsin-Cheng Chao's photo. 周詮儒 replied to 李坤樸's comment. 陳星妘 likes 周詮儒's photo. 何彥穎 likes Tonyq Wang's photo. 魏瑋 reacted to 周詮儒's photo. Show Older\", ' · May 13 · Instagram · checkmarkcaution-solid', 'Drag to Reposition CoverUpdate Cover PhotoMike HsiaoUpdate InfoView Activity Log10+TimelineAboutFriends315PhotosMoreUpdate Profile PicturePublicCancelSave ChangesMike HsiaoTimelineTimelineAboutRecentRecent201720162015201420132012201120102009200820072006200520001982Recent201720162015201420132012201120102009200820072006200520001982All PostsAll PostsActivity Log...All PostsActivity Log...StatusPhoto/VideoLive VideoLife EventDrag Link/Photos/Video HereDrop LinkDrop Photo/VideoDrop Photoscheckmarkcaution-solidFriendsPostMike Hsiao feeling joyful with Isa Y. Chi. · July 29 at 8:11pm · checkmarkcaution-solid只是側拍而已啦~~LikeShow more reactionsCommentShare81182 You, Dogmimi Chen, 邱偉志 and 79 others1 shareCommentsView 3 more commentsIsa Y. Chi  是Mike Hsiao拍得好～LikeShow more reactions · Reply · July 29 at 9:12pmRemoveHsueh-Hao Chang  好像很瘦！LikeShow more reactions · Reply · July 29 at 9:28pmRemoveLing-Chieh Kung replied · 1 ReplyAlice Hsiao  超美的LikeShow more reactions · Reply · July 29 at 11:03pmRemoveJeff Liu  LikeShow more reactions · Reply · July 30 at 7:33pmRemoveWrite a comment...Mike Hsiao · May 17 · checkmarkcaution-solid目前 WannaCry 每小時收到的美金贖款，現在總和七萬美元也是蠻驚人的。LikeShow more reactionsCommentShare16218 Ying-ying Chen, Ivy Chang and 16 others1 shareCommentsMing-Li Lin  比想像中要少…LikeShow more reactions · Reply · May 17 at 3:25amManageJean Tsai  Bitcoin 太難懂了LikeShow more reactions · Reply · May 17 at 3:29amManageJean Tsai replied · 7 RepliesHsueh-Hao Chang  感覺錢很少耶，可能還沒到最後一天 xdLikeShow more reactions · Reply · May 17 at 10:27amManageJean Tsai replied · 6 RepliesEvita Lin  這也可以圖表化@@LikeShow more reactions · Reply · May 18 at 1:51pmManageWrite a comment...Mike Hsiao · May 13 · Instagram · checkmarkcaution-solid佛羅倫斯 聖母百花大教堂LikeShow more reactionsCommentShare38139 Weijia Yeh, 施岱伶 and 37 othersCommentsIsa Y. Chi  像假的一樣～LikeShow more reactions · Reply · May 14 at 9:02amRemoveLi-Ming Chen  我有買過一本 圓頂的故事就是在說它LikeShow more reactions · Reply · May 14 at 12:10pmRemoveMike Hsiao  有沒有人玩過刺客教條二？主場景呀LikeShow more reactions · Reply · 11 · May 14 at 12:59pmManageLenora Huang  有...（看人玩過）LikeShow more reactions · Reply · May 14 at 3:25pmRemoveWrite a reply...Jamesbomb Lee  講得好像你有玩過LikeShow more reactions · Reply · 11 · May 14 at 1:53pmRemoveJamesbomb Lee replied · 2 RepliesWrite a comment...Mike Hsiao · April 30 · Instagram · checkmarkcaution-solid兔子萬歲！LikeShow more reactionsCommentShare1414 葉展奇, 蕭高發 and 12 othersCommentsWrite a comment...Mike Hsiao at Lake Towada. · April 15 · Instagram · checkmarkcaution-solid十和田湖LikeShow more reactionsCommentShare1212 Weijia Yeh, 陳星妘 and 10 othersCommentsWrite a comment...Mike Hsiao at Aomori Prefecture. · April 13 · Instagram · checkmarkcaution-solid路途LikeShow more reactionsCommentShare1111 施岱伶, Kelly Su and 9 othersCommentsWrite a comment...Mike Hsiao · April 8 · Instagram · checkmarkcaution-solid夕LikeShow more reactionsCommentShare1010 陳星妘, 葉展奇 and 8 othersCommentsWrite a comment...Mike Hsiao · April 2 · Instagram · checkmarkcaution-solid威尼斯LikeShow more reactionsCommentShare33134 Dogmimi Chen, 彭郁祺 and 32 othersCommentsWrite a comment...Mike Hsiao · April 1 · Instagram · checkmarkcaution-solid佛羅倫斯皮貨商的狗LikeShow more reactionsCommentShare1717 邱偉志, Chen Chien Chun and 15 othersCommentsLi-Ming Chen  所以項圈是精品嗎？LikeShow more reactions · Reply · 11 · April 1 at 11:04pmRemoveMike Hsiao replied · 1 ReplyJamesbomb Lee  時機成熟會宰來取皮?LikeShow more reactions · Reply · April 2 at 11:19amRemoveWrite a comment...Mike Hsiao at Colosseo. · March 26 · Instagram · checkmarkcaution-solid羅馬競技場。顯然上面有個信仰之躍的點 XDLikeShow more reactionsCommentShare47148 Luke Chi, Weijia Yeh and 46 othersCommentsView 1 more commentAlice Hsiao  那只鷹?海鷗?鴿子?你等多久拍到的，很美LikeShow more reactions · Reply · March 26 at 8:59pmManageAlice Hsiao replied · 3 Replies蕭高發  神賜大家.太棒了!LikeShow more reactions · Reply · March 27 at 1:53amManageMing-Li Lin  還不快找稻草堆！LikeShow more reactions · Reply · 11 · March 27 at 6:28amManageWilliam Lo  Nice shot!LikeShow more reactions · Reply · March 28 at 12:46amManageWrite a comment...Mike Hsiao at Piazza San Pietro - Vaticano, Roma, Italia. · March 25 · Instagram · checkmarkcaution-solid梵蒂岡LikeShow more reactionsCommentShare2929 邱偉志, 葉展奇 and 27 othersComments陳小詠  天氣真好~LikeShow more reactions · Reply · March 25 at 6:23pmManageAlice Hsiao  想跟這美麗的天氣及雀躍的心情LikeShow more reactions · Reply · March 26 at 11:20amManage蕭高發  偉大之地.神的故鄉!LikeShow more reactions · Reply · March 27 at 1:54amManageWrite a comment...Mike Hsiao at Vatican Museums - Musei Vaticani. · March 25 ·  · 雅典學院LikeShow more reactionsCommentShare99 蕭高發, Kai Tai Chang and 7 othersCommentsWrite a comment...Mike Hsiao in Amsterdam, Netherlands. · March 24 · Instagram · checkmarkcaution-solidSweet!LikeShow more reactionsCommentShare13114 Isa Y. Chi, 邱偉志 and 12 othersCommentsWrite a comment...Mike Hsiao in Amsterdam, Netherlands. · March 24 · Instagram · checkmarkcaution-solidSweet!LikeShow more reactionsCommentShare22 蕭高發 and Alice HsiaoCommentsAlice Hsiao  選了啥顏色呀LikeShow more reactions · Reply · March 26 at 11:18amManage王惠芳 replied · 1 ReplyAlice Hsiao  也太幸福啦，人生現在開始幸福LikeShow more reactions · Reply · March 26 at 9:01pmManageWrite a comment...See More Recent StoriesEarlier in 2017Show Earlier in 20172016Show 20162015Show 20152014Show 20142013Show 20132012Show 20122011Show 20112010Show 20102009Show 20092008Show 20082007Show 20072006Show 20062005Show 200520042003200220012000Show 2000199919981997199619951994199319921991199019891988198719861985198419831982Show 1982When did you work at Academia Sinica?28 Pending ItemsIntroWhat makes you happy? 😊What\\'s your life motto? 💭What are your hobbies? 🛩 ⚽  🎸Where would you like to visit? 🌍What\\'s your favorite food? 🍕 🍏 🍪Lives in New Taipei CityFrom New Taipei CityJoined August 2006Add Featured PhotosRemoveFeature up to 5 photos you lovePhotosFriends · 315Mohammad GhanayimWeijia Yeh1 new postSheng Yang Liu邱偉志薛筑允Chen Chien Chun李鴻鈞Justin HsuI-Hui HuangFeatured AlbumsEnglish (US) · 中文(台灣) · Español · Português (Brasil) · Français (France)Privacy · Terms · Advertising · Ad Choices · Cookies · More Facebook © 2017/*<![CDATA[*/(function(){function si_cj(m){setTimeout(function(){new Image().src=\"https:\\\\/\\\\/error.facebook.com\\\\/common\\\\/scribe_endpoint.php?c=si_clickjacking&t=6712\"+\"&m=\"+m;},5000);}if(top!=self && !false){try{if(parent!=top){throw 1;}var si_cj_d=[\"apps.facebook.com\",\"apps.beta.facebook.com\"];var href=top.location.href.toLowerCase();for(var i=0;i<si_cj_d.length;i++){if (href.indexOf(si_cj_d[i])>=0){throw 1;}}si_cj(\"3 https:\\\\/\\\\/www.facebook.com\\\\/\");}catch(e){si_cj(\"1 \\\\thttps:\\\\/\\\\/www.facebook.com\\\\/\");window.document.write(\"\\\\u003Cstyle>body * {display:none !important;}\\\\u003C\\\\/style>\\\\u003Ca href=\\\\\"#\\\\\" onclick=\\\\\"top.location.href=window.location.href\\\\\" style=\\\\\"display:block !important;padding:10px\\\\\">Go to Facebook.com\\\\u003C\\\\/a>\");/*iNIoPAnU*/}}}())/*]]>*/Chang-Huan Wu邱偉志Alice Hsiao王惠芳蕭高發Canny Wang葉展奇Hsueh-Hao ChangShau-Hsuan Lin李奕德Andy LinChia-Chen ChangJessica Chan施岱伶Cash HsuJulia Yc ChengHuang-hsu ChenKelly SuYing-ying Chenand 10 more...', '邱偉志, 彭証鴻, Chen Chien Chun, 2 others', 'Chen missed a call from you.', 'Hsueh-Hao Chang  感覺錢很少耶，可能還沒到最後一天 xdLikeShow more reactions · Reply · May 17 at 10:27amManage', 'Show 2011', 'MikeHome00 Friend RequestsFriend RequestsFind Friends · SettingsFriend RequestsSee All0 MessagesMessagesMark All Read · New MessageRecentMessage RequestsIsa Y. Chi好啊~~~3:34pmChen Chien ChunChen missed a call from you.11:39amChieh-Chun Chen我送錯訊息了10:57am周詮儒好的 感謝MonChang-Huan WuActive嗯重點是要說連不上啦Mon薛筑允hiSun邱偉志你慢慢平復心情XDSunHsueh-Hao ChangSat邱偉志, 彭証鴻, Chen Chien Chun, 2 othersChen: 老師有點名時幫我說一聲，感謝大家Fri李鴻鈞打擾了，謝謝ThuShow OlderSee All in Messenger0 NotificationsNotificationsMark All as Read · SettingsNotificationsSee AllAccount Settings', 'Show 1982', 'Mark All as Read · Settings', 'Hsueh-Hao Chang  好像很瘦！', 'Show 2005', '“Mt. Everest(8850m), Himalayan mountain ranges, postcard sent...”', \"Fan Liu likes Chih Liu's post in 五月天 [人生無限公司] 北美巡迴 - 聖荷西 Mayday [Life] Tour - San Jose. Puff Wen likes 江承勳's post. Willie Chen added a new photo. “Mt. Everest(8850m), Himalayan mountain ranges, postcard sent...”莊佩佩 replied to her own comment. Yiling Lai likes Yahoo!奇摩新聞's link. YiNing Chen commented on Hsin-Cheng Chao's photo. 周詮儒 replied to 李坤樸's comment. 陳星妘 likes 周詮儒's photo. 何彥穎 likes Tonyq Wang's photo. 魏瑋 reacted to 周詮儒's photo. Show OlderChat with friendsChang-Huan WuTsai Rung Li葉展奇Han-Tien Chang28mIsa Y. Chi王小洋7h邱偉志18m薛筑允Newman Chiang李奕德MORE CONTACTS (15)Canny WangChia-Ming HsuGobby HuangJing-Fang WangKelly SuPuff WenWei-Chun KaoAlexander LinJack YuYi Cheng曾千蕙徐欣佑楊智堯趙奕帆陳文振\", 'Show 2007', 'Mike Hsiao · April 30 · Instagram · checkmarkcaution-solid', 'View 3 more comments', '好的 感謝', 'Skip to News FeedFacebookMikeHome00 Friend RequestsFriend RequestsFind Friends · SettingsFriend RequestsSee All0 MessagesMessagesMark All Read · New MessageRecentMessage RequestsIsa Y. Chi好啊~~~3:34pmChen Chien ChunChen missed a call from you.11:39amChieh-Chun Chen我送錯訊息了10:57am周詮儒好的 感謝MonChang-Huan WuActive嗯重點是要說連不上啦Mon薛筑允hiSun邱偉志你慢慢平復心情XDSunHsueh-Hao ChangSat邱偉志, 彭証鴻, Chen Chien Chun, 2 othersChen: 老師有點名時幫我說一聲，感謝大家Fri李鴻鈞打擾了，謝謝ThuShow OlderSee All in Messenger0 NotificationsNotificationsMark All as Read · SettingsNotificationsSee AllAccount Settings', 'Weijia Yeh1 new post', 'Kelly Su', 'Ming-Li Lin  比想像中要少…', ' · April 8 · Instagram · checkmarkcaution-solid', 'Li-Ming Chen  所以項圈是精品嗎？', 'View 3 more commentsIsa Y. Chi  是Mike Hsiao拍得好～LikeShow more reactions · Reply · July 29 at 9:12pmRemoveHsueh-Hao Chang  好像很瘦！LikeShow more reactions · Reply · July 29 at 9:28pmRemoveLing-Chieh Kung replied · 1 ReplyAlice Hsiao  超美的LikeShow more reactions · Reply · July 29 at 11:03pmRemoveJeff Liu  LikeShow more reactions · Reply · July 30 at 7:33pmRemove', '1999', 'checkmarkcaution-solidFriends', 'Hsueh-Hao Chang  好像很瘦！LikeShow more reactions · Reply · July 29 at 9:28pmRemove', 'Isa Y. Chi好啊~~~3:34pm', 'LikeShow more reactionsCommentShare2929 邱偉志, 葉展奇 and 27 othersComments陳小詠  天氣真好~LikeShow more reactions · Reply · March 25 at 6:23pmManageAlice Hsiao  想跟這美麗的天氣及雀躍的心情LikeShow more reactions · Reply · March 26 at 11:20amManage蕭高發  偉大之地.神的故鄉!LikeShow more reactions · Reply · March 27 at 1:54amManageWrite a comment...', 'LikeShow more reactions · Reply · March 27 at 1:54am', 'Add Featured PhotosRemove', 'Chang-Huan Wu邱偉志Alice Hsiao王惠芳蕭高發Canny Wang葉展奇Hsueh-Hao ChangShau-Hsuan Lin李奕德Andy LinChia-Chen ChangJessica Chan施岱伶Cash HsuJulia Yc ChengHuang-hsu ChenKelly SuYing-ying Chenand 10 more...', 'LikeShow more reactions · Reply · May 17 at 10:27am', '薛筑允hiSun', '雅典學院', '陳小詠  天氣真好~LikeShow more reactions · Reply · March 25 at 6:23pmManage', '81182 You, Dogmimi Chen, 邱偉志 and 79 others', 'Mike Hsiao · May 13 · Instagram · checkmarkcaution-solid佛羅倫斯 聖母百花大教堂', '蕭高發  偉大之地.神的故鄉!', 'All PostsAll PostsActivity Log...', 'checkmarkcaution-solidFriendsPost', 'Li-Ming Chen  我有買過一本 圓頂的故事就是在說它LikeShow more reactions · Reply · May 14 at 12:10pmRemove', 'Drag to Reposition CoverUpdate Cover PhotoMike HsiaoUpdate InfoView Activity Log10+TimelineAboutFriends315PhotosMoreUpdate Profile PicturePublicCancelSave ChangesMike HsiaoTimelineTimelineAboutRecentRecent201720162015201420132012201120102009200820072006200520001982Recent201720162015201420132012201120102009200820072006200520001982All PostsAll PostsActivity Log...All PostsActivity Log...', '1414 葉展奇, 蕭高發 and 12 othersCommentsWrite a comment...', '0 Friend Requests', 'Home0', 'Weijia Yeh', '2007', 'Alice Hsiao  想跟這美麗的天氣及雀躍的心情', 'Jean Tsai replied · 7 Replies', 'Mike Hsiao at Vatican Museums - Musei Vaticani. · March 25 ·  · 雅典學院LikeShow more reactionsCommentShare99 蕭高發, Kai Tai Chang and 7 othersCommentsWrite a comment...', '13114 Isa Y. Chi, 邱偉志 and 12 others', '威尼斯', 'Chieh-Chun Chen我送錯訊息了10:57am', 'TimelineTimelineAbout', '1010 陳星妘, 葉展奇 and 8 others', 'LikeShow more reactionsCommentShare38139 Weijia Yeh, 施岱伶 and 37 othersCommentsIsa Y. Chi  像假的一樣～LikeShow more reactions · Reply · May 14 at 9:02amRemoveLi-Ming Chen  我有買過一本 圓頂的故事就是在說它LikeShow more reactions · Reply · May 14 at 12:10pmRemoveMike Hsiao  有沒有人玩過刺客教條二？主場景呀LikeShow more reactions · Reply · 11 · May 14 at 12:59pmManageLenora Huang  有...（看人玩過）LikeShow more reactions · Reply · May 14 at 3:25pmRemoveWrite a reply...Jamesbomb Lee  講得好像你有玩過LikeShow more reactions · Reply · 11 · May 14 at 1:53pmRemoveJamesbomb Lee replied · 2 RepliesWrite a comment...', '佛羅倫斯 聖母百花大教堂', 'Skip to News FeedFacebookMikeHome00 Friend RequestsFriend RequestsFind Friends · SettingsFriend RequestsSee All0 MessagesMessagesMark All Read · New MessageRecentMessage RequestsIsa Y. Chi好啊~~~3:34pmChen Chien ChunChen missed a call from you.11:39amChieh-Chun Chen我送錯訊息了10:57am周詮儒好的 感謝MonChang-Huan WuActive嗯重點是要說連不上啦Mon薛筑允hiSun邱偉志你慢慢平復心情XDSunHsueh-Hao ChangSat邱偉志, 彭証鴻, Chen Chien Chun, 2 othersChen: 老師有點名時幫我說一聲，感謝大家Fri李鴻鈞打擾了，謝謝ThuShow OlderSee All in Messenger0 NotificationsNotificationsMark All as Read · SettingsNotificationsSee AllAccount SettingsDrag to Reposition CoverUpdate Cover PhotoMike HsiaoUpdate InfoView Activity Log10+TimelineAboutFriends315PhotosMoreUpdate Profile PicturePublicCancelSave ChangesMike HsiaoTimelineTimelineAboutRecentRecent201720162015201420132012201120102009200820072006200520001982Recent201720162015201420132012201120102009200820072006200520001982All PostsAll PostsActivity Log...All PostsActivity Log...StatusPhoto/VideoLive VideoLife EventDrag Link/Photos/Video HereDrop LinkDrop Photo/VideoDrop Photoscheckmarkcaution-solidFriendsPostMike Hsiao feeling joyful with Isa Y. Chi. · July 29 at 8:11pm · checkmarkcaution-solid只是側拍而已啦~~LikeShow more reactionsCommentShare81182 You, Dogmimi Chen, 邱偉志 and 79 others1 shareCommentsView 3 more commentsIsa Y. Chi  是Mike Hsiao拍得好～LikeShow more reactions · Reply · July 29 at 9:12pmRemoveHsueh-Hao Chang  好像很瘦！LikeShow more reactions · Reply · July 29 at 9:28pmRemoveLing-Chieh Kung replied · 1 ReplyAlice Hsiao  超美的LikeShow more reactions · Reply · July 29 at 11:03pmRemoveJeff Liu  LikeShow more reactions · Reply · July 30 at 7:33pmRemoveWrite a comment...Mike Hsiao · May 17 · checkmarkcaution-solid目前 WannaCry 每小時收到的美金贖款，現在總和七萬美元也是蠻驚人的。LikeShow more reactionsCommentShare16218 Ying-ying Chen, Ivy Chang and 16 others1 shareCommentsMing-Li Lin  比想像中要少…LikeShow more reactions · Reply · May 17 at 3:25amManageJean Tsai  Bitcoin 太難懂了LikeShow more reactions · Reply · May 17 at 3:29amManageJean Tsai replied · 7 RepliesHsueh-Hao Chang  感覺錢很少耶，可能還沒到最後一天 xdLikeShow more reactions · Reply · May 17 at 10:27amManageJean Tsai replied · 6 RepliesEvita Lin  這也可以圖表化@@LikeShow more reactions · Reply · May 18 at 1:51pmManageWrite a comment...Mike Hsiao · May 13 · Instagram · checkmarkcaution-solid佛羅倫斯 聖母百花大教堂LikeShow more reactionsCommentShare38139 Weijia Yeh, 施岱伶 and 37 othersCommentsIsa Y. Chi  像假的一樣～LikeShow more reactions · Reply · May 14 at 9:02amRemoveLi-Ming Chen  我有買過一本 圓頂的故事就是在說它LikeShow more reactions · Reply · May 14 at 12:10pmRemoveMike Hsiao  有沒有人玩過刺客教條二？主場景呀LikeShow more reactions · Reply · 11 · May 14 at 12:59pmManageLenora Huang  有...（看人玩過）LikeShow more reactions · Reply · May 14 at 3:25pmRemoveWrite a reply...Jamesbomb Lee  講得好像你有玩過LikeShow more reactions · Reply · 11 · May 14 at 1:53pmRemoveJamesbomb Lee replied · 2 RepliesWrite a comment...Mike Hsiao · April 30 · Instagram · checkmarkcaution-solid兔子萬歲！LikeShow more reactionsCommentShare1414 葉展奇, 蕭高發 and 12 othersCommentsWrite a comment...Mike Hsiao at Lake Towada. · April 15 · Instagram · checkmarkcaution-solid十和田湖LikeShow more reactionsCommentShare1212 Weijia Yeh, 陳星妘 and 10 othersCommentsWrite a comment...Mike Hsiao at Aomori Prefecture. · April 13 · Instagram · checkmarkcaution-solid路途LikeShow more reactionsCommentShare1111 施岱伶, Kelly Su and 9 othersCommentsWrite a comment...Mike Hsiao · April 8 · Instagram · checkmarkcaution-solid夕LikeShow more reactionsCommentShare1010 陳星妘, 葉展奇 and 8 othersCommentsWrite a comment...Mike Hsiao · April 2 · Instagram · checkmarkcaution-solid威尼斯LikeShow more reactionsCommentShare33134 Dogmimi Chen, 彭郁祺 and 32 othersCommentsWrite a comment...Mike Hsiao · April 1 · Instagram · checkmarkcaution-solid佛羅倫斯皮貨商的狗LikeShow more reactionsCommentShare1717 邱偉志, Chen Chien Chun and 15 othersCommentsLi-Ming Chen  所以項圈是精品嗎？LikeShow more reactions · Reply · 11 · April 1 at 11:04pmRemoveMike Hsiao replied · 1 ReplyJamesbomb Lee  時機成熟會宰來取皮?LikeShow more reactions · Reply · April 2 at 11:19amRemoveWrite a comment...Mike Hsiao at Colosseo. · March 26 · Instagram · checkmarkcaution-solid羅馬競技場。顯然上面有個信仰之躍的點 XDLikeShow more reactionsCommentShare47148 Luke Chi, Weijia Yeh and 46 othersCommentsView 1 more commentAlice Hsiao  那只鷹?海鷗?鴿子?你等多久拍到的，很美LikeShow more reactions · Reply · March 26 at 8:59pmManageAlice Hsiao replied · 3 Replies蕭高發  神賜大家.太棒了!LikeShow more reactions · Reply · March 27 at 1:53amManageMing-Li Lin  還不快找稻草堆！LikeShow more reactions · Reply · 11 · March 27 at 6:28amManageWilliam Lo  Nice shot!LikeShow more reactions · Reply · March 28 at 12:46amManageWrite a comment...Mike Hsiao at Piazza San Pietro - Vaticano, Roma, Italia. · March 25 · Instagram · checkmarkcaution-solid梵蒂岡LikeShow more reactionsCommentShare2929 邱偉志, 葉展奇 and 27 othersComments陳小詠  天氣真好~LikeShow more reactions · Reply · March 25 at 6:23pmManageAlice Hsiao  想跟這美麗的天氣及雀躍的心情LikeShow more reactions · Reply · March 26 at 11:20amManage蕭高發  偉大之地.神的故鄉!LikeShow more reactions · Reply · March 27 at 1:54amManageWrite a comment...Mike Hsiao at Vatican Museums - Musei Vaticani. · March 25 ·  · 雅典學院LikeShow more reactionsCommentShare99 蕭高發, Kai Tai Chang and 7 othersCommentsWrite a comment...Mike Hsiao in Amsterdam, Netherlands. · March 24 · Instagram · checkmarkcaution-solidSweet!LikeShow more reactionsCommentShare13114 Isa Y. Chi, 邱偉志 and 12 othersCommentsWrite a comment...Mike Hsiao in Amsterdam, Netherlands. · March 24 · Instagram · checkmarkcaution-solidSweet!LikeShow more reactionsCommentShare22 蕭高發 and Alice HsiaoCommentsAlice Hsiao  選了啥顏色呀LikeShow more reactions · Reply · March 26 at 11:18amManage王惠芳 replied · 1 ReplyAlice Hsiao  也太幸福啦，人生現在開始幸福LikeShow more reactions · Reply · March 26 at 9:01pmManageWrite a comment...See More Recent StoriesEarlier in 2017Show Earlier in 20172016Show 20162015Show 20152014Show 20142013Show 20132012Show 20122011Show 20112010Show 20102009Show 20092008Show 20082007Show 20072006Show 20062005Show 200520042003200220012000Show 2000199919981997199619951994199319921991199019891988198719861985198419831982Show 1982When did you work at Academia Sinica?28 Pending ItemsIntroWhat makes you happy? 😊What\\'s your life motto? 💭What are your hobbies? 🛩 ⚽  🎸Where would you like to visit? 🌍What\\'s your favorite food? 🍕 🍏 🍪Lives in New Taipei CityFrom New Taipei CityJoined August 2006Add Featured PhotosRemoveFeature up to 5 photos you lovePhotosFriends · 315Mohammad GhanayimWeijia Yeh1 new postSheng Yang Liu邱偉志薛筑允Chen Chien Chun李鴻鈞Justin HsuI-Hui HuangFeatured AlbumsEnglish (US) · 中文(台灣) · Español · Português (Brasil) · Français (France)Privacy · Terms · Advertising · Ad Choices · Cookies · More Facebook © 2017/*<![CDATA[*/(function(){function si_cj(m){setTimeout(function(){new Image().src=\"https:\\\\/\\\\/error.facebook.com\\\\/common\\\\/scribe_endpoint.php?c=si_clickjacking&t=6712\"+\"&m=\"+m;},5000);}if(top!=self && !false){try{if(parent!=top){throw 1;}var si_cj_d=[\"apps.facebook.com\",\"apps.beta.facebook.com\"];var href=top.location.href.toLowerCase();for(var i=0;i<si_cj_d.length;i++){if (href.indexOf(si_cj_d[i])>=0){throw 1;}}si_cj(\"3 https:\\\\/\\\\/www.facebook.com\\\\/\");}catch(e){si_cj(\"1 \\\\thttps:\\\\/\\\\/www.facebook.com\\\\/\");window.document.write(\"\\\\u003Cstyle>body * {display:none !important;}\\\\u003C\\\\/style>\\\\u003Ca href=\\\\\"#\\\\\" onclick=\\\\\"top.location.href=window.location.href\\\\\" style=\\\\\"display:block !important;padding:10px\\\\\">Go to Facebook.com\\\\u003C\\\\/a>\");/*iNIoPAnU*/}}}())/*]]>*/Chang-Huan Wu邱偉志Alice Hsiao王惠芳蕭高發Canny Wang葉展奇Hsueh-Hao ChangShau-Hsuan Lin李奕德Andy LinChia-Chen ChangJessica Chan施岱伶Cash HsuJulia Yc ChengHuang-hsu ChenKelly SuYing-ying Chenand 10 more...Fan Liu likes Chih Liu\\'s post in 五月天 [人生無限公司] 北美巡迴 - 聖荷西 Mayday [Life] Tour - San Jose. Puff Wen likes 江承勳\\'s post. Willie Chen added a new photo. “Mt. Everest(8850m), Himalayan mountain ranges, postcard sent...”莊佩佩 replied to her own comment. Yiling Lai likes Yahoo!奇摩新聞\\'s link. YiNing Chen commented on Hsin-Cheng Chao\\'s photo. 周詮儒 replied to 李坤樸\\'s comment. 陳星妘 likes 周詮儒\\'s photo. 何彥穎 likes Tonyq Wang\\'s photo. 魏瑋 reacted to 周詮儒\\'s photo. Show OlderChat with friendsChang-Huan WuTsai Rung Li葉展奇Han-Tien Chang28mIsa Y. Chi王小洋7h邱偉志18m薛筑允Newman Chiang李奕德MORE CONTACTS (15)Canny WangChia-Ming HsuGobby HuangJing-Fang WangKelly SuPuff WenWei-Chun KaoAlexander LinJack YuYi Cheng曾千蕙徐欣佑楊智堯趙奕帆陳文振Chat (22)Chat', 'Mohammad Ghanayim', '楊智堯', 'Mike Hsiao at Lake Towada. · April 15 · Instagram · checkmarkcaution-solid十和田湖LikeShow more reactionsCommentShare1212 Weijia Yeh, 陳星妘 and 10 othersCommentsWrite a comment...', 'Account Settings', 'Lenora Huang  有...（看人玩過）', 'LikeShow more reactions · Reply · 11 · May 14 at 12:59pm', '33134 Dogmimi Chen, 彭郁祺 and 32 others', '王小洋', 'LikeShow more reactions · Reply · May 17 at 3:25am', 'Mike Hsiao · April 1 · Instagram · checkmarkcaution-solid佛羅倫斯皮貨商的狗LikeShow more reactionsCommentShare1717 邱偉志, Chen Chien Chun and 15 othersCommentsLi-Ming Chen  所以項圈是精品嗎？LikeShow more reactions · Reply · 11 · April 1 at 11:04pmRemoveMike Hsiao replied · 1 ReplyJamesbomb Lee  時機成熟會宰來取皮?LikeShow more reactions · Reply · April 2 at 11:19amRemoveWrite a comment...', '2012Show 2012', \"陳星妘 likes 周詮儒's photo.\", 'Chia-Ming Hsu', 'Chen Chien ChunChen missed a call from you.11:39am', '1414 葉展奇, 蕭高發 and 12 others', '陳小詠  天氣真好~LikeShow more reactions · Reply · March 25 at 6:23pmManageAlice Hsiao  想跟這美麗的天氣及雀躍的心情LikeShow more reactions · Reply · March 26 at 11:20amManage蕭高發  偉大之地.神的故鄉!LikeShow more reactions · Reply · March 27 at 1:54amManage', 'Gobby Huang', 'Chang-Huan WuTsai Rung Li葉展奇Han-Tien Chang28mIsa Y. Chi王小洋7h邱偉志18m薛筑允Newman Chiang李奕德MORE CONTACTS (15)Canny WangChia-Ming HsuGobby HuangJing-Fang WangKelly SuPuff WenWei-Chun KaoAlexander LinJack YuYi Cheng曾千蕙徐欣佑楊智堯趙奕帆陳文振', '蕭高發  神賜大家.太棒了!', 'See All in Messenger', '梵蒂岡', 'Mike Hsiao · May 17 · checkmarkcaution-solid目前 WannaCry 每小時收到的美金贖款，現在總和七萬美元也是蠻驚人的。LikeShow more reactionsCommentShare16218 Ying-ying Chen, Ivy Chang and 16 others1 shareCommentsMing-Li Lin  比想像中要少…LikeShow more reactions · Reply · May 17 at 3:25amManageJean Tsai  Bitcoin 太難懂了LikeShow more reactions · Reply · May 17 at 3:29amManageJean Tsai replied · 7 RepliesHsueh-Hao Chang  感覺錢很少耶，可能還沒到最後一天 xdLikeShow more reactions · Reply · May 17 at 10:27amManageJean Tsai replied · 6 RepliesEvita Lin  這也可以圖表化@@LikeShow more reactions · Reply · May 18 at 1:51pmManageWrite a comment...', '38139 Weijia Yeh, 施岱伶 and 37 othersCommentsIsa Y. Chi  像假的一樣～LikeShow more reactions · Reply · May 14 at 9:02amRemoveLi-Ming Chen  我有買過一本 圓頂的故事就是在說它LikeShow more reactions · Reply · May 14 at 12:10pmRemoveMike Hsiao  有沒有人玩過刺客教條二？主場景呀LikeShow more reactions · Reply · 11 · May 14 at 12:59pmManageLenora Huang  有...（看人玩過）LikeShow more reactions · Reply · May 14 at 3:25pmRemoveWrite a reply...Jamesbomb Lee  講得好像你有玩過LikeShow more reactions · Reply · 11 · May 14 at 1:53pmRemoveJamesbomb Lee replied · 2 RepliesWrite a comment...', 'Mike Hsiao · April 2 · Instagram · checkmarkcaution-solid威尼斯', 'Ming-Li Lin  比想像中要少…LikeShow more reactions · Reply · May 17 at 3:25amManage', 'Isa Y. Chi  像假的一樣～LikeShow more reactions · Reply · May 14 at 9:02amRemoveLi-Ming Chen  我有買過一本 圓頂的故事就是在說它LikeShow more reactions · Reply · May 14 at 12:10pmRemoveMike Hsiao  有沒有人玩過刺客教條二？主場景呀LikeShow more reactions · Reply · 11 · May 14 at 12:59pmManageLenora Huang  有...（看人玩過）LikeShow more reactions · Reply · May 14 at 3:25pmRemoveWrite a reply...Jamesbomb Lee  講得好像你有玩過LikeShow more reactions · Reply · 11 · May 14 at 1:53pmRemoveJamesbomb Lee replied · 2 Replies', 'From New Taipei City', 'LikeShow more reactions · Reply · 11 · May 14 at 1:53pm', 'Jamesbomb Lee  時機成熟會宰來取皮?LikeShow more reactions · Reply · April 2 at 11:19amRemove', 'Chang-Huan Wu', '十和田湖', 'LikeShow more reactionsCommentShare81182 You, Dogmimi Chen, 邱偉志 and 79 others1 shareCommentsView 3 more commentsIsa Y. Chi  是Mike Hsiao拍得好～LikeShow more reactions · Reply · July 29 at 9:12pmRemoveHsueh-Hao Chang  好像很瘦！LikeShow more reactions · Reply · July 29 at 9:28pmRemoveLing-Chieh Kung replied · 1 ReplyAlice Hsiao  超美的LikeShow more reactions · Reply · July 29 at 11:03pmRemoveJeff Liu  LikeShow more reactions · Reply · July 30 at 7:33pmRemoveWrite a comment...', 'LikeShow more reactions · Reply · May 14 at 12:10pm', '徐欣佑', 'I-Hui Huang', 'Chen Chien Chun', 'Jamesbomb Lee  講得好像你有玩過LikeShow more reactions · Reply · 11 · May 14 at 1:53pmRemove', 'Jean Tsai replied · 6 Replies', '99 蕭高發, Kai Tai Chang and 7 othersCommentsWrite a comment...', 'Isa Y. Chi', 'Mike Hsiao at Piazza San Pietro - Vaticano, Roma, Italia. · March 25 · Instagram · checkmarkcaution-solid梵蒂岡LikeShow more reactionsCommentShare2929 邱偉志, 葉展奇 and 27 othersComments陳小詠  天氣真好~LikeShow more reactions · Reply · March 25 at 6:23pmManageAlice Hsiao  想跟這美麗的天氣及雀躍的心情LikeShow more reactions · Reply · March 26 at 11:20amManage蕭高發  偉大之地.神的故鄉!LikeShow more reactions · Reply · March 27 at 1:54amManageWrite a comment...Mike Hsiao at Vatican Museums - Musei Vaticani. · March 25 ·  · 雅典學院LikeShow more reactionsCommentShare99 蕭高發, Kai Tai Chang and 7 othersCommentsWrite a comment...Mike Hsiao in Amsterdam, Netherlands. · March 24 · Instagram · checkmarkcaution-solidSweet!LikeShow more reactionsCommentShare13114 Isa Y. Chi, 邱偉志 and 12 othersCommentsWrite a comment...Mike Hsiao in Amsterdam, Netherlands. · March 24 · Instagram · checkmarkcaution-solidSweet!LikeShow more reactionsCommentShare22 蕭高發 and Alice HsiaoCommentsAlice Hsiao  選了啥顏色呀LikeShow more reactions · Reply · March 26 at 11:18amManage王惠芳 replied · 1 ReplyAlice Hsiao  也太幸福啦，人生現在開始幸福LikeShow more reactions · Reply · March 26 at 9:01pmManageWrite a comment...', 'LikeShow more reactions · Reply · July 29 at 9:28pm', 'Ming-Li Lin  還不快找稻草堆！', '1985', 'Privacy · Terms · Advertising · Ad Choices · Cookies · More', ' · April 1 · Instagram · checkmarkcaution-solid', 'Alice Hsiao  那只鷹?海鷗?鴿子?你等多久拍到的，很美LikeShow more reactions · Reply · March 26 at 8:59pmManage', 'LikeShow more reactionsCommentShare99 蕭高發, Kai Tai Chang and 7 othersCommentsWrite a comment...', '2003', '33134 Dogmimi Chen, 彭郁祺 and 32 othersCommentsWrite a comment...', 'NotificationsMark All as Read · Settings', '0 Friend RequestsFriend RequestsFind Friends · SettingsFriend RequestsSee All', 'Mike Hsiao · April 8 · Instagram · checkmarkcaution-solid', 'Mike Hsiao feeling joyful with Isa Y. Chi. · July 29 at 8:11pm · checkmarkcaution-solid只是側拍而已啦~~', 'Wei-Chun Kao', '2011Show 2011', '2007Show 2007', 'LikeShow more reactionsCommentShare33134 Dogmimi Chen, 彭郁祺 and 32 othersCommentsWrite a comment...', '李鴻鈞打擾了，謝謝Thu', 'LikeShow more reactions · Reply · 11 · March 27 at 6:28am', '2013Show 2013', '邱偉志, 彭証鴻, Chen Chien Chun, 2 othersChen: 老師有點名時幫我說一聲，感謝大家Fri', '2009Show 2009', 'What makes you happy? 😊', 'checkmarkcaution-solid', 'Li-Ming Chen  我有買過一本 圓頂的故事就是在說它', 'Mike Hsiao feeling joyful with Isa Y. Chi. · July 29 at 8:11pm · checkmarkcaution-solid', 'LikeShow more reactionsCommentShare1111 施岱伶, Kelly Su and 9 othersCommentsWrite a comment...', 'Mike Hsiao · May 13 · Instagram · checkmarkcaution-solid佛羅倫斯 聖母百花大教堂LikeShow more reactionsCommentShare38139 Weijia Yeh, 施岱伶 and 37 othersCommentsIsa Y. Chi  像假的一樣～LikeShow more reactions · Reply · May 14 at 9:02amRemoveLi-Ming Chen  我有買過一本 圓頂的故事就是在說它LikeShow more reactions · Reply · May 14 at 12:10pmRemoveMike Hsiao  有沒有人玩過刺客教條二？主場景呀LikeShow more reactions · Reply · 11 · May 14 at 12:59pmManageLenora Huang  有...（看人玩過）LikeShow more reactions · Reply · May 14 at 3:25pmRemoveWrite a reply...Jamesbomb Lee  講得好像你有玩過LikeShow more reactions · Reply · 11 · May 14 at 1:53pmRemoveJamesbomb Lee replied · 2 RepliesWrite a comment...', '2008Show 2008', '1994', '薛筑允', 'Lives in New Taipei CityFrom New Taipei CityJoined August 2006', 'Lenora Huang  有...（看人玩過）LikeShow more reactions · Reply · May 14 at 3:25pmRemoveWrite a reply...', \"Fan Liu likes Chih Liu's post in 五月天 [人生無限公司] 北美巡迴 - 聖荷西 Mayday [Life] Tour - San Jose.\", '1995', 'Share', 'LikeShow more reactions · Reply · March 26 at 11:18am', 'TimelineAboutFriends315PhotosMore', 'Jeff Liu  ', 'Privacy · Terms · Advertising · Ad Choices · Cookies · More Facebook © 2017', 'Jamesbomb Lee  講得好像你有玩過', '2013', 'Facebook', '曾千蕙', 'Alexander Lin', 'Update Cover Photo', 'Chen: 老師有點名時幫我說一聲，感謝大家', '2016Show 2016', 'Chat with friendsChang-Huan WuTsai Rung Li葉展奇Han-Tien Chang28mIsa Y. Chi王小洋7h邱偉志18m薛筑允Newman Chiang李奕德MORE CONTACTS (15)Canny WangChia-Ming HsuGobby HuangJing-Fang WangKelly SuPuff WenWei-Chun KaoAlexander LinJack YuYi Cheng曾千蕙徐欣佑楊智堯趙奕帆陳文振', 'Hsueh-Hao ChangSat', 'Mike Hsiao at Colosseo. · March 26 · Instagram · checkmarkcaution-solid羅馬競技場。顯然上面有個信仰之躍的點 XDLikeShow more reactionsCommentShare47148 Luke Chi, Weijia Yeh and 46 othersCommentsView 1 more commentAlice Hsiao  那只鷹?海鷗?鴿子?你等多久拍到的，很美LikeShow more reactions · Reply · March 26 at 8:59pmManageAlice Hsiao replied · 3 Replies蕭高發  神賜大家.太棒了!LikeShow more reactions · Reply · March 27 at 1:53amManageMing-Li Lin  還不快找稻草堆！LikeShow more reactions · Reply · 11 · March 27 at 6:28amManageWilliam Lo  Nice shot!LikeShow more reactions · Reply · March 28 at 12:46amManageWrite a comment...', '1212 Weijia Yeh, 陳星妘 and 10 othersCommentsWrite a comment...', 'Mohammad GhanayimWeijia Yeh1 new postSheng Yang Liu邱偉志薛筑允Chen Chien Chun李鴻鈞Justin HsuI-Hui Huang', 'Mike Hsiao at Colosseo. · March 26 · Instagram · checkmarkcaution-solid羅馬競技場。顯然上面有個信仰之躍的點 XD', 'LikeShow more reactions · Reply · April 2 at 11:19am', '王惠芳 replied · 1 Reply', '2010Show 2010', '1990', ' · April 30 · Instagram · checkmarkcaution-solid', '2014Show 2014', 'RecentRecent201720162015201420132012201120102009200820072006200520001982', 'Mike Hsiao at Piazza San Pietro - Vaticano, Roma, Italia. · March 25 · Instagram · checkmarkcaution-solid梵蒂岡', 'Friend RequestsFind Friends · Settings', ' · April 2 · Instagram · checkmarkcaution-solid', 'Ming-Li Lin  還不快找稻草堆！LikeShow more reactions · Reply · 11 · March 27 at 6:28amManage', '1992', 'MikeHome0', 'Jeff Liu  LikeShow more reactions · Reply · July 30 at 7:33pmRemove', '2929 邱偉志, 葉展奇 and 27 others', \"Puff Wen likes 江承勳's post. \", '28m', '1111 施岱伶, Kelly Su and 9 others', '1717 邱偉志, Chen Chien Chun and 15 othersCommentsLi-Ming Chen  所以項圈是精品嗎？LikeShow more reactions · Reply · 11 · April 1 at 11:04pmRemoveMike Hsiao replied · 1 ReplyJamesbomb Lee  時機成熟會宰來取皮?LikeShow more reactions · Reply · April 2 at 11:19amRemoveWrite a comment...', 'English (US) · 中文(台灣) · Español · Português (Brasil) · Français (France)', 'Show Older', 'LikeShow more reactions · Reply · May 18 at 1:51pm', 'Add Featured PhotosRemoveFeature up to 5 photos you love', 'StatusPhoto/VideoLive VideoLife EventDrag Link/Photos/Video HereDrop LinkDrop Photo/VideoDrop Photoscheckmarkcaution-solidFriendsPost', '1982', ' · March 26 · Instagram · checkmarkcaution-solid', 'LikeShow more reactions · Reply · July 30 at 7:33pm', '18m', '趙奕帆', 'What are your hobbies? 🛩 ⚽  🎸', 'StatusPhoto/VideoLive VideoLife EventDrag Link/Photos/Video HereDrop LinkDrop Photo/VideoDrop Photoscheckmarkcaution-solidFriendsPostMike Hsiao feeling joyful with Isa Y. Chi. · July 29 at 8:11pm · checkmarkcaution-solid只是側拍而已啦~~LikeShow more reactionsCommentShare81182 You, Dogmimi Chen, 邱偉志 and 79 others1 shareCommentsView 3 more commentsIsa Y. Chi  是Mike Hsiao拍得好～LikeShow more reactions · Reply · July 29 at 9:12pmRemoveHsueh-Hao Chang  好像很瘦！LikeShow more reactions · Reply · July 29 at 9:28pmRemoveLing-Chieh Kung replied · 1 ReplyAlice Hsiao  超美的LikeShow more reactions · Reply · July 29 at 11:03pmRemoveJeff Liu  LikeShow more reactions · Reply · July 30 at 7:33pmRemoveWrite a comment...Mike Hsiao · May 17 · checkmarkcaution-solid目前 WannaCry 每小時收到的美金贖款，現在總和七萬美元也是蠻驚人的。LikeShow more reactionsCommentShare16218 Ying-ying Chen, Ivy Chang and 16 others1 shareCommentsMing-Li Lin  比想像中要少…LikeShow more reactions · Reply · May 17 at 3:25amManageJean Tsai  Bitcoin 太難懂了LikeShow more reactions · Reply · May 17 at 3:29amManageJean Tsai replied · 7 RepliesHsueh-Hao Chang  感覺錢很少耶，可能還沒到最後一天 xdLikeShow more reactions · Reply · May 17 at 10:27amManageJean Tsai replied · 6 RepliesEvita Lin  這也可以圖表化@@LikeShow more reactions · Reply · May 18 at 1:51pmManageWrite a comment...Mike Hsiao · May 13 · Instagram · checkmarkcaution-solid佛羅倫斯 聖母百花大教堂LikeShow more reactionsCommentShare38139 Weijia Yeh, 施岱伶 and 37 othersCommentsIsa Y. Chi  像假的一樣～LikeShow more reactions · Reply · May 14 at 9:02amRemoveLi-Ming Chen  我有買過一本 圓頂的故事就是在說它LikeShow more reactions · Reply · May 14 at 12:10pmRemoveMike Hsiao  有沒有人玩過刺客教條二？主場景呀LikeShow more reactions · Reply · 11 · May 14 at 12:59pmManageLenora Huang  有...（看人玩過）LikeShow more reactions · Reply · May 14 at 3:25pmRemoveWrite a reply...Jamesbomb Lee  講得好像你有玩過LikeShow more reactions · Reply · 11 · May 14 at 1:53pmRemoveJamesbomb Lee replied · 2 RepliesWrite a comment...Mike Hsiao · April 30 · Instagram · checkmarkcaution-solid兔子萬歲！LikeShow more reactionsCommentShare1414 葉展奇, 蕭高發 and 12 othersCommentsWrite a comment...Mike Hsiao at Lake Towada. · April 15 · Instagram · checkmarkcaution-solid十和田湖LikeShow more reactionsCommentShare1212 Weijia Yeh, 陳星妘 and 10 othersCommentsWrite a comment...Mike Hsiao at Aomori Prefecture. · April 13 · Instagram · checkmarkcaution-solid路途LikeShow more reactionsCommentShare1111 施岱伶, Kelly Su and 9 othersCommentsWrite a comment...Mike Hsiao · April 8 · Instagram · checkmarkcaution-solid夕LikeShow more reactionsCommentShare1010 陳星妘, 葉展奇 and 8 othersCommentsWrite a comment...Mike Hsiao · April 2 · Instagram · checkmarkcaution-solid威尼斯LikeShow more reactionsCommentShare33134 Dogmimi Chen, 彭郁祺 and 32 othersCommentsWrite a comment...Mike Hsiao · April 1 · Instagram · checkmarkcaution-solid佛羅倫斯皮貨商的狗LikeShow more reactionsCommentShare1717 邱偉志, Chen Chien Chun and 15 othersCommentsLi-Ming Chen  所以項圈是精品嗎？LikeShow more reactions · Reply · 11 · April 1 at 11:04pmRemoveMike Hsiao replied · 1 ReplyJamesbomb Lee  時機成熟會宰來取皮?LikeShow more reactions · Reply · April 2 at 11:19amRemoveWrite a comment...Mike Hsiao at Colosseo. · March 26 · Instagram · checkmarkcaution-solid羅馬競技場。顯然上面有個信仰之躍的點 XDLikeShow more reactionsCommentShare47148 Luke Chi, Weijia Yeh and 46 othersCommentsView 1 more commentAlice Hsiao  那只鷹?海鷗?鴿子?你等多久拍到的，很美LikeShow more reactions · Reply · March 26 at 8:59pmManageAlice Hsiao replied · 3 Replies蕭高發  神賜大家.太棒了!LikeShow more reactions · Reply · March 27 at 1:53amManageMing-Li Lin  還不快找稻草堆！LikeShow more reactions · Reply · 11 · March 27 at 6:28amManageWilliam Lo  Nice shot!LikeShow more reactions · Reply · March 28 at 12:46amManageWrite a comment...Mike Hsiao at Piazza San Pietro - Vaticano, Roma, Italia. · March 25 · Instagram · checkmarkcaution-solid梵蒂岡LikeShow more reactionsCommentShare2929 邱偉志, 葉展奇 and 27 othersComments陳小詠  天氣真好~LikeShow more reactions · Reply · March 25 at 6:23pmManageAlice Hsiao  想跟這美麗的天氣及雀躍的心情LikeShow more reactions · Reply · March 26 at 11:20amManage蕭高發  偉大之地.神的故鄉!LikeShow more reactions · Reply · March 27 at 1:54amManageWrite a comment...Mike Hsiao at Vatican Museums - Musei Vaticani. · March 25 ·  · 雅典學院LikeShow more reactionsCommentShare99 蕭高發, Kai Tai Chang and 7 othersCommentsWrite a comment...Mike Hsiao in Amsterdam, Netherlands. · March 24 · Instagram · checkmarkcaution-solidSweet!LikeShow more reactionsCommentShare13114 Isa Y. Chi, 邱偉志 and 12 othersCommentsWrite a comment...Mike Hsiao in Amsterdam, Netherlands. · March 24 · Instagram · checkmarkcaution-solidSweet!LikeShow more reactionsCommentShare22 蕭高發 and Alice HsiaoCommentsAlice Hsiao  選了啥顏色呀LikeShow more reactions · Reply · March 26 at 11:18amManage王惠芳 replied · 1 ReplyAlice Hsiao  也太幸福啦，人生現在開始幸福LikeShow more reactions · Reply · March 26 at 9:01pmManageWrite a comment...See More Recent StoriesEarlier in 2017Show Earlier in 20172016Show 20162015Show 20152014Show 20142013Show 20132012Show 20122011Show 20112010Show 20102009Show 20092008Show 20082007Show 20072006Show 20062005Show 200520042003200220012000Show 2000199919981997199619951994199319921991199019891988198719861985198419831982Show 1982', 'RecentMessage Requests', 'Show 2006', 'Alice Hsiao  也太幸福啦，人生現在開始幸福LikeShow more reactions · Reply · March 26 at 9:01pmManage', 'LikeShow more reactions', 'Ling-Chieh Kung replied · 1 Reply', '葉展奇', '1010 陳星妘, 葉展奇 and 8 othersCommentsWrite a comment...', ' · March 24 · Instagram · checkmarkcaution-solid', 'Sweet!', '1988', 'Justin Hsu', \"YiNing Chen commented on Hsin-Cheng Chao's photo.\", 'LikeShow more reactionsCommentShare13114 Isa Y. Chi, 邱偉志 and 12 othersCommentsWrite a comment...', 'Mike Hsiao at Piazza San Pietro - Vaticano, Roma, Italia. · March 25 · Instagram · checkmarkcaution-solid梵蒂岡LikeShow more reactionsCommentShare2929 邱偉志, 葉展奇 and 27 othersComments陳小詠  天氣真好~LikeShow more reactions · Reply · March 25 at 6:23pmManageAlice Hsiao  想跟這美麗的天氣及雀躍的心情LikeShow more reactions · Reply · March 26 at 11:20amManage蕭高發  偉大之地.神的故鄉!LikeShow more reactions · Reply · March 27 at 1:54amManageWrite a comment...', 'Drag Link/Photos/Video HereDrop LinkDrop Photo/VideoDrop Photos', 'Mike Hsiao · April 2 · Instagram · checkmarkcaution-solid', '1991', 'Update InfoView Activity Log10+TimelineAboutFriends315PhotosMoreUpdate Profile Picture', '1997', '16218 Ying-ying Chen, Ivy Chang and 16 others', '2012', 'Evita Lin  這也可以圖表化@@', 'Chang-Huan WuActive', '2000Show 2000', 'Lenora Huang  有...（看人玩過）LikeShow more reactions · Reply · May 14 at 3:25pmRemove', '陳文振', \"Yiling Lai likes Yahoo!奇摩新聞's link.\", 'Friends · 315', 'LikeShow more reactionsCommentShare1717 邱偉志, Chen Chien Chun and 15 othersCommentsLi-Ming Chen  所以項圈是精品嗎？LikeShow more reactions · Reply · 11 · April 1 at 11:04pmRemoveMike Hsiao replied · 1 ReplyJamesbomb Lee  時機成熟會宰來取皮?LikeShow more reactions · Reply · April 2 at 11:19amRemoveWrite a comment...', 'Joined August 2006', 'LikeShow more reactions · Reply · 11 · April 1 at 11:04pm', 'Show 2015', 'LikeShow more reactionsCommentShare22 蕭高發 and Alice HsiaoCommentsAlice Hsiao  選了啥顏色呀LikeShow more reactions · Reply · March 26 at 11:18amManage王惠芳 replied · 1 ReplyAlice Hsiao  也太幸福啦，人生現在開始幸福LikeShow more reactions · Reply · March 26 at 9:01pmManageWrite a comment...', '2009', 'Update Profile Picture', 'Drag to Reposition CoverUpdate Cover PhotoMike HsiaoUpdate InfoView Activity Log10+TimelineAboutFriends315PhotosMoreUpdate Profile PicturePublicCancelSave ChangesMike HsiaoTimelineTimelineAboutRecentRecent201720162015201420132012201120102009200820072006200520001982Recent201720162015201420132012201120102009200820072006200520001982All PostsAll PostsActivity Log...All PostsActivity Log...StatusPhoto/VideoLive VideoLife EventDrag Link/Photos/Video HereDrop LinkDrop Photo/VideoDrop Photoscheckmarkcaution-solidFriendsPostMike Hsiao feeling joyful with Isa Y. Chi. · July 29 at 8:11pm · checkmarkcaution-solid只是側拍而已啦~~LikeShow more reactionsCommentShare81182 You, Dogmimi Chen, 邱偉志 and 79 others1 shareCommentsView 3 more commentsIsa Y. Chi  是Mike Hsiao拍得好～LikeShow more reactions · Reply · July 29 at 9:12pmRemoveHsueh-Hao Chang  好像很瘦！LikeShow more reactions · Reply · July 29 at 9:28pmRemoveLing-Chieh Kung replied · 1 ReplyAlice Hsiao  超美的LikeShow more reactions · Reply · July 29 at 11:03pmRemoveJeff Liu  LikeShow more reactions · Reply · July 30 at 7:33pmRemoveWrite a comment...Mike Hsiao · May 17 · checkmarkcaution-solid目前 WannaCry 每小時收到的美金贖款，現在總和七萬美元也是蠻驚人的。LikeShow more reactionsCommentShare16218 Ying-ying Chen, Ivy Chang and 16 others1 shareCommentsMing-Li Lin  比想像中要少…LikeShow more reactions · Reply · May 17 at 3:25amManageJean Tsai  Bitcoin 太難懂了LikeShow more reactions · Reply · May 17 at 3:29amManageJean Tsai replied · 7 RepliesHsueh-Hao Chang  感覺錢很少耶，可能還沒到最後一天 xdLikeShow more reactions · Reply · May 17 at 10:27amManageJean Tsai replied · 6 RepliesEvita Lin  這也可以圖表化@@LikeShow more reactions · Reply · May 18 at 1:51pmManageWrite a comment...Mike Hsiao · May 13 · Instagram · checkmarkcaution-solid佛羅倫斯 聖母百花大教堂LikeShow more reactionsCommentShare38139 Weijia Yeh, 施岱伶 and 37 othersCommentsIsa Y. Chi  像假的一樣～LikeShow more reactions · Reply · May 14 at 9:02amRemoveLi-Ming Chen  我有買過一本 圓頂的故事就是在說它LikeShow more reactions · Reply · May 14 at 12:10pmRemoveMike Hsiao  有沒有人玩過刺客教條二？主場景呀LikeShow more reactions · Reply · 11 · May 14 at 12:59pmManageLenora Huang  有...（看人玩過）LikeShow more reactions · Reply · May 14 at 3:25pmRemoveWrite a reply...Jamesbomb Lee  講得好像你有玩過LikeShow more reactions · Reply · 11 · May 14 at 1:53pmRemoveJamesbomb Lee replied · 2 RepliesWrite a comment...Mike Hsiao · April 30 · Instagram · checkmarkcaution-solid兔子萬歲！LikeShow more reactionsCommentShare1414 葉展奇, 蕭高發 and 12 othersCommentsWrite a comment...Mike Hsiao at Lake Towada. · April 15 · Instagram · checkmarkcaution-solid十和田湖LikeShow more reactionsCommentShare1212 Weijia Yeh, 陳星妘 and 10 othersCommentsWrite a comment...Mike Hsiao at Aomori Prefecture. · April 13 · Instagram · checkmarkcaution-solid路途LikeShow more reactionsCommentShare1111 施岱伶, Kelly Su and 9 othersCommentsWrite a comment...Mike Hsiao · April 8 · Instagram · checkmarkcaution-solid夕LikeShow more reactionsCommentShare1010 陳星妘, 葉展奇 and 8 othersCommentsWrite a comment...Mike Hsiao · April 2 · Instagram · checkmarkcaution-solid威尼斯LikeShow more reactionsCommentShare33134 Dogmimi Chen, 彭郁祺 and 32 othersCommentsWrite a comment...Mike Hsiao · April 1 · Instagram · checkmarkcaution-solid佛羅倫斯皮貨商的狗LikeShow more reactionsCommentShare1717 邱偉志, Chen Chien Chun and 15 othersCommentsLi-Ming Chen  所以項圈是精品嗎？LikeShow more reactions · Reply · 11 · April 1 at 11:04pmRemoveMike Hsiao replied · 1 ReplyJamesbomb Lee  時機成熟會宰來取皮?LikeShow more reactions · Reply · April 2 at 11:19amRemoveWrite a comment...Mike Hsiao at Colosseo. · March 26 · Instagram · checkmarkcaution-solid羅馬競技場。顯然上面有個信仰之躍的點 XDLikeShow more reactionsCommentShare47148 Luke Chi, Weijia Yeh and 46 othersCommentsView 1 more commentAlice Hsiao  那只鷹?海鷗?鴿子?你等多久拍到的，很美LikeShow more reactions · Reply · March 26 at 8:59pmManageAlice Hsiao replied · 3 Replies蕭高發  神賜大家.太棒了!LikeShow more reactions · Reply · March 27 at 1:53amManageMing-Li Lin  還不快找稻草堆！LikeShow more reactions · Reply · 11 · March 27 at 6:28amManageWilliam Lo  Nice shot!LikeShow more reactions · Reply · March 28 at 12:46amManageWrite a comment...Mike Hsiao at Piazza San Pietro - Vaticano, Roma, Italia. · March 25 · Instagram · checkmarkcaution-solid梵蒂岡LikeShow more reactionsCommentShare2929 邱偉志, 葉展奇 and 27 othersComments陳小詠  天氣真好~LikeShow more reactions · Reply · March 25 at 6:23pmManageAlice Hsiao  想跟這美麗的天氣及雀躍的心情LikeShow more reactions · Reply · March 26 at 11:20amManage蕭高發  偉大之地.神的故鄉!LikeShow more reactions · Reply · March 27 at 1:54amManageWrite a comment...Mike Hsiao at Vatican Museums - Musei Vaticani. · March 25 ·  · 雅典學院LikeShow more reactionsCommentShare99 蕭高發, Kai Tai Chang and 7 othersCommentsWrite a comment...Mike Hsiao in Amsterdam, Netherlands. · March 24 · Instagram · checkmarkcaution-solidSweet!LikeShow more reactionsCommentShare13114 Isa Y. Chi, 邱偉志 and 12 othersCommentsWrite a comment...Mike Hsiao in Amsterdam, Netherlands. · March 24 · Instagram · checkmarkcaution-solidSweet!LikeShow more reactionsCommentShare22 蕭高發 and Alice HsiaoCommentsAlice Hsiao  選了啥顏色呀LikeShow more reactions · Reply · March 26 at 11:18amManage王惠芳 replied · 1 ReplyAlice Hsiao  也太幸福啦，人生現在開始幸福LikeShow more reactions · Reply · March 26 at 9:01pmManageWrite a comment...See More Recent StoriesEarlier in 2017Show Earlier in 20172016Show 20162015Show 20152014Show 20142013Show 20132012Show 20122011Show 20112010Show 20102009Show 20092008Show 20082007Show 20072006Show 20062005Show 200520042003200220012000Show 2000199919981997199619951994199319921991199019891988198719861985198419831982Show 1982When did you work at Academia Sinica?28 Pending ItemsIntroWhat makes you happy? 😊What\\'s your life motto? 💭What are your hobbies? 🛩 ⚽  🎸Where would you like to visit? 🌍What\\'s your favorite food? 🍕 🍏 🍪Lives in New Taipei CityFrom New Taipei CityJoined August 2006Add Featured PhotosRemoveFeature up to 5 photos you lovePhotosFriends · 315Mohammad GhanayimWeijia Yeh1 new postSheng Yang Liu邱偉志薛筑允Chen Chien Chun李鴻鈞Justin HsuI-Hui HuangFeatured AlbumsEnglish (US) · 中文(台灣) · Español · Português (Brasil) · Français (France)Privacy · Terms · Advertising · Ad Choices · Cookies · More Facebook © 2017/*<![CDATA[*/(function(){function si_cj(m){setTimeout(function(){new Image().src=\"https:\\\\/\\\\/error.facebook.com\\\\/common\\\\/scribe_endpoint.php?c=si_clickjacking&t=6712\"+\"&m=\"+m;},5000);}if(top!=self && !false){try{if(parent!=top){throw 1;}var si_cj_d=[\"apps.facebook.com\",\"apps.beta.facebook.com\"];var href=top.location.href.toLowerCase();for(var i=0;i<si_cj_d.length;i++){if (href.indexOf(si_cj_d[i])>=0){throw 1;}}si_cj(\"3 https:\\\\/\\\\/www.facebook.com\\\\/\");}catch(e){si_cj(\"1 \\\\thttps:\\\\/\\\\/www.facebook.com\\\\/\");window.document.write(\"\\\\u003Cstyle>body * {display:none !important;}\\\\u003C\\\\/style>\\\\u003Ca href=\\\\\"#\\\\\" onclick=\\\\\"top.location.href=window.location.href\\\\\" style=\\\\\"display:block !important;padding:10px\\\\\">Go to Facebook.com\\\\u003C\\\\/a>\");/*iNIoPAnU*/}}}())/*]]>*/', 'Earlier in 2017', '1983', '99 蕭高發, Kai Tai Chang and 7 others', \"Yiling Lai likes Yahoo!奇摩新聞's link. \", 'LikeShow more reactions · Reply · May 17 at 3:29am', 'Jean Tsai  Bitcoin 太難懂了LikeShow more reactions · Reply · May 17 at 3:29amManage', 'Mike Hsiao at Aomori Prefecture. · April 13 · Instagram · checkmarkcaution-solid路途', 'LikeShow more reactionsCommentShare47148 Luke Chi, Weijia Yeh and 46 othersCommentsView 1 more commentAlice Hsiao  那只鷹?海鷗?鴿子?你等多久拍到的，很美LikeShow more reactions · Reply · March 26 at 8:59pmManageAlice Hsiao replied · 3 Replies蕭高發  神賜大家.太棒了!LikeShow more reactions · Reply · March 27 at 1:53amManageMing-Li Lin  還不快找稻草堆！LikeShow more reactions · Reply · 11 · March 27 at 6:28amManageWilliam Lo  Nice shot!LikeShow more reactions · Reply · March 28 at 12:46amManageWrite a comment...', 'Evita Lin  這也可以圖表化@@LikeShow more reactions · Reply · May 18 at 1:51pmManage', 'Mike Hsiao  有沒有人玩過刺客教條二？主場景呀', 'Mike Hsiao · April 1 · Instagram · checkmarkcaution-solid佛羅倫斯皮貨商的狗', ' · March 25 · Instagram · checkmarkcaution-solid', \"何彥穎 likes Tonyq Wang's photo.\", 'Show Earlier in 2017', 'Mike Hsiao · April 2 · Instagram · checkmarkcaution-solid威尼斯LikeShow more reactionsCommentShare33134 Dogmimi Chen, 彭郁祺 and 32 othersCommentsWrite a comment...', '2004', \"Drag to Reposition CoverUpdate Cover PhotoMike HsiaoUpdate InfoView Activity Log10+TimelineAboutFriends315PhotosMoreUpdate Profile PicturePublicCancelSave ChangesMike HsiaoTimelineTimelineAboutRecentRecent201720162015201420132012201120102009200820072006200520001982Recent201720162015201420132012201120102009200820072006200520001982All PostsAll PostsActivity Log...All PostsActivity Log...StatusPhoto/VideoLive VideoLife EventDrag Link/Photos/Video HereDrop LinkDrop Photo/VideoDrop Photoscheckmarkcaution-solidFriendsPostMike Hsiao feeling joyful with Isa Y. Chi. · July 29 at 8:11pm · checkmarkcaution-solid只是側拍而已啦~~LikeShow more reactionsCommentShare81182 You, Dogmimi Chen, 邱偉志 and 79 others1 shareCommentsView 3 more commentsIsa Y. Chi  是Mike Hsiao拍得好～LikeShow more reactions · Reply · July 29 at 9:12pmRemoveHsueh-Hao Chang  好像很瘦！LikeShow more reactions · Reply · July 29 at 9:28pmRemoveLing-Chieh Kung replied · 1 ReplyAlice Hsiao  超美的LikeShow more reactions · Reply · July 29 at 11:03pmRemoveJeff Liu  LikeShow more reactions · Reply · July 30 at 7:33pmRemoveWrite a comment...Mike Hsiao · May 17 · checkmarkcaution-solid目前 WannaCry 每小時收到的美金贖款，現在總和七萬美元也是蠻驚人的。LikeShow more reactionsCommentShare16218 Ying-ying Chen, Ivy Chang and 16 others1 shareCommentsMing-Li Lin  比想像中要少…LikeShow more reactions · Reply · May 17 at 3:25amManageJean Tsai  Bitcoin 太難懂了LikeShow more reactions · Reply · May 17 at 3:29amManageJean Tsai replied · 7 RepliesHsueh-Hao Chang  感覺錢很少耶，可能還沒到最後一天 xdLikeShow more reactions · Reply · May 17 at 10:27amManageJean Tsai replied · 6 RepliesEvita Lin  這也可以圖表化@@LikeShow more reactions · Reply · May 18 at 1:51pmManageWrite a comment...Mike Hsiao · May 13 · Instagram · checkmarkcaution-solid佛羅倫斯 聖母百花大教堂LikeShow more reactionsCommentShare38139 Weijia Yeh, 施岱伶 and 37 othersCommentsIsa Y. Chi  像假的一樣～LikeShow more reactions · Reply · May 14 at 9:02amRemoveLi-Ming Chen  我有買過一本 圓頂的故事就是在說它LikeShow more reactions · Reply · May 14 at 12:10pmRemoveMike Hsiao  有沒有人玩過刺客教條二？主場景呀LikeShow more reactions · Reply · 11 · May 14 at 12:59pmManageLenora Huang  有...（看人玩過）LikeShow more reactions · Reply · May 14 at 3:25pmRemoveWrite a reply...Jamesbomb Lee  講得好像你有玩過LikeShow more reactions · Reply · 11 · May 14 at 1:53pmRemoveJamesbomb Lee replied · 2 RepliesWrite a comment...Mike Hsiao · April 30 · Instagram · checkmarkcaution-solid兔子萬歲！LikeShow more reactionsCommentShare1414 葉展奇, 蕭高發 and 12 othersCommentsWrite a comment...Mike Hsiao at Lake Towada. · April 15 · Instagram · checkmarkcaution-solid十和田湖LikeShow more reactionsCommentShare1212 Weijia Yeh, 陳星妘 and 10 othersCommentsWrite a comment...Mike Hsiao at Aomori Prefecture. · April 13 · Instagram · checkmarkcaution-solid路途LikeShow more reactionsCommentShare1111 施岱伶, Kelly Su and 9 othersCommentsWrite a comment...Mike Hsiao · April 8 · Instagram · checkmarkcaution-solid夕LikeShow more reactionsCommentShare1010 陳星妘, 葉展奇 and 8 othersCommentsWrite a comment...Mike Hsiao · April 2 · Instagram · checkmarkcaution-solid威尼斯LikeShow more reactionsCommentShare33134 Dogmimi Chen, 彭郁祺 and 32 othersCommentsWrite a comment...Mike Hsiao · April 1 · Instagram · checkmarkcaution-solid佛羅倫斯皮貨商的狗LikeShow more reactionsCommentShare1717 邱偉志, Chen Chien Chun and 15 othersCommentsLi-Ming Chen  所以項圈是精品嗎？LikeShow more reactions · Reply · 11 · April 1 at 11:04pmRemoveMike Hsiao replied · 1 ReplyJamesbomb Lee  時機成熟會宰來取皮?LikeShow more reactions · Reply · April 2 at 11:19amRemoveWrite a comment...Mike Hsiao at Colosseo. · March 26 · Instagram · checkmarkcaution-solid羅馬競技場。顯然上面有個信仰之躍的點 XDLikeShow more reactionsCommentShare47148 Luke Chi, Weijia Yeh and 46 othersCommentsView 1 more commentAlice Hsiao  那只鷹?海鷗?鴿子?你等多久拍到的，很美LikeShow more reactions · Reply · March 26 at 8:59pmManageAlice Hsiao replied · 3 Replies蕭高發  神賜大家.太棒了!LikeShow more reactions · Reply · March 27 at 1:53amManageMing-Li Lin  還不快找稻草堆！LikeShow more reactions · Reply · 11 · March 27 at 6:28amManageWilliam Lo  Nice shot!LikeShow more reactions · Reply · March 28 at 12:46amManageWrite a comment...Mike Hsiao at Piazza San Pietro - Vaticano, Roma, Italia. · March 25 · Instagram · checkmarkcaution-solid梵蒂岡LikeShow more reactionsCommentShare2929 邱偉志, 葉展奇 and 27 othersComments陳小詠  天氣真好~LikeShow more reactions · Reply · March 25 at 6:23pmManageAlice Hsiao  想跟這美麗的天氣及雀躍的心情LikeShow more reactions · Reply · March 26 at 11:20amManage蕭高發  偉大之地.神的故鄉!LikeShow more reactions · Reply · March 27 at 1:54amManageWrite a comment...Mike Hsiao at Vatican Museums - Musei Vaticani. · March 25 ·  · 雅典學院LikeShow more reactionsCommentShare99 蕭高發, Kai Tai Chang and 7 othersCommentsWrite a comment...Mike Hsiao in Amsterdam, Netherlands. · March 24 · Instagram · checkmarkcaution-solidSweet!LikeShow more reactionsCommentShare13114 Isa Y. Chi, 邱偉志 and 12 othersCommentsWrite a comment...Mike Hsiao in Amsterdam, Netherlands. · March 24 · Instagram · checkmarkcaution-solidSweet!LikeShow more reactionsCommentShare22 蕭高發 and Alice HsiaoCommentsAlice Hsiao  選了啥顏色呀LikeShow more reactions · Reply · March 26 at 11:18amManage王惠芳 replied · 1 ReplyAlice Hsiao  也太幸福啦，人生現在開始幸福LikeShow more reactions · Reply · March 26 at 9:01pmManageWrite a comment...See More Recent StoriesEarlier in 2017Show Earlier in 20172016Show 20162015Show 20152014Show 20142013Show 20132012Show 20122011Show 20112010Show 20102009Show 20092008Show 20082007Show 20072006Show 20062005Show 200520042003200220012000Show 2000199919981997199619951994199319921991199019891988198719861985198419831982Show 1982When did you work at Academia Sinica?28 Pending ItemsIntroWhat makes you happy? 😊What's your life motto? 💭What are your hobbies? 🛩 ⚽  🎸Where would you like to visit? 🌍What's your favorite food? 🍕 🍏 🍪Lives in New Taipei CityFrom New Taipei CityJoined August 2006Add Featured PhotosRemoveFeature up to 5 photos you lovePhotosFriends · 315Mohammad GhanayimWeijia Yeh1 new postSheng Yang Liu邱偉志薛筑允Chen Chien Chun李鴻鈞Justin HsuI-Hui HuangFeatured AlbumsEnglish (US) · 中文(台灣) · Español · Português (Brasil) · Français (France)Privacy · Terms · Advertising · Ad Choices · Cookies · More Facebook © 2017\", '11:39am', 'LikeShow more reactions · Reply · March 27 at 1:53am', ' · April 15 · Instagram · checkmarkcaution-solid', 'When did you work at Academia Sinica?', 'Show 2014', '蕭高發  神賜大家.太棒了!LikeShow more reactions · Reply · March 27 at 1:53amManage', 'Mike Hsiao feeling joyful with Isa Y. Chi. · July 29 at 8:11pm · checkmarkcaution-solid只是側拍而已啦~~LikeShow more reactionsCommentShare81182 You, Dogmimi Chen, 邱偉志 and 79 others1 shareCommentsView 3 more commentsIsa Y. Chi  是Mike Hsiao拍得好～LikeShow more reactions · Reply · July 29 at 9:12pmRemoveHsueh-Hao Chang  好像很瘦！LikeShow more reactions · Reply · July 29 at 9:28pmRemoveLing-Chieh Kung replied · 1 ReplyAlice Hsiao  超美的LikeShow more reactions · Reply · July 29 at 11:03pmRemoveJeff Liu  LikeShow more reactions · Reply · July 30 at 7:33pmRemoveWrite a comment...', \"魏瑋 reacted to 周詮儒's photo. \", \"IntroWhat makes you happy? 😊What's your life motto? 💭What are your hobbies? 🛩 ⚽  🎸Where would you like to visit? 🌍What's your favorite food? 🍕 🍏 🍪Lives in New Taipei CityFrom New Taipei CityJoined August 2006Add Featured PhotosRemoveFeature up to 5 photos you love\", 'LikeShow more reactionsCommentShare', '2014', \"When did you work at Academia Sinica?28 Pending ItemsIntroWhat makes you happy? 😊What's your life motto? 💭What are your hobbies? 🛩 ⚽  🎸Where would you like to visit? 🌍What's your favorite food? 🍕 🍏 🍪Lives in New Taipei CityFrom New Taipei CityJoined August 2006Add Featured PhotosRemoveFeature up to 5 photos you lovePhotosFriends · 315Mohammad GhanayimWeijia Yeh1 new postSheng Yang Liu邱偉志薛筑允Chen Chien Chun李鴻鈞Justin HsuI-Hui HuangFeatured AlbumsEnglish (US) · 中文(台灣) · Español · Português (Brasil) · Français (France)Privacy · Terms · Advertising · Ad Choices · Cookies · More Facebook © 2017\", 'MessagesMark All Read · New MessageRecentMessage Requests', \"YiNing Chen commented on Hsin-Cheng Chao's photo. \", '81182 You, Dogmimi Chen, 邱偉志 and 79 others1 shareCommentsView 3 more commentsIsa Y. Chi  是Mike Hsiao拍得好～LikeShow more reactions · Reply · July 29 at 9:12pmRemoveHsueh-Hao Chang  好像很瘦！LikeShow more reactions · Reply · July 29 at 9:28pmRemoveLing-Chieh Kung replied · 1 ReplyAlice Hsiao  超美的LikeShow more reactions · Reply · July 29 at 11:03pmRemoveJeff Liu  LikeShow more reactions · Reply · July 30 at 7:33pmRemoveWrite a comment...', \"What makes you happy? 😊What's your life motto? 💭What are your hobbies? 🛩 ⚽  🎸Where would you like to visit? 🌍What's your favorite food? 🍕 🍏 🍪Lives in New Taipei CityFrom New Taipei CityJoined August 2006Add Featured PhotosRemoveFeature up to 5 photos you love\", '0', 'TimelineAbout', 'Mike Hsiao  有沒有人玩過刺客教條二？主場景呀LikeShow more reactions · Reply · 11 · May 14 at 12:59pmManage', '1987', '周詮儒好的 感謝Mon', 'Chat', '22 蕭高發 and Alice HsiaoCommentsAlice Hsiao  選了啥顏色呀LikeShow more reactions · Reply · March 26 at 11:18amManage王惠芳 replied · 1 ReplyAlice Hsiao  也太幸福啦，人生現在開始幸福LikeShow more reactions · Reply · March 26 at 9:01pmManageWrite a comment...', '2016', 'Thu', \"What makes you happy? 😊What's your life motto? 💭What are your hobbies? 🛩 ⚽  🎸Where would you like to visit? 🌍What's your favorite food? 🍕 🍏 🍪\", 'Show 2016', '2002', 'Sun', 'Isa Y. Chi  是Mike Hsiao拍得好～', '2008', '0 Notifications', 'Notifications', 'Jean Tsai  Bitcoin 太難懂了', 'Mike Hsiao · April 8 · Instagram · checkmarkcaution-solid夕LikeShow more reactionsCommentShare1010 陳星妘, 葉展奇 and 8 othersCommentsWrite a comment...', 'Chang-Huan WuActive嗯重點是要說連不上啦Mon', 'Mike Hsiao at Vatican Museums - Musei Vaticani. · March 25 ·  · 雅典學院', 'Friends · 315Mohammad GhanayimWeijia Yeh1 new postSheng Yang Liu邱偉志薛筑允Chen Chien Chun李鴻鈞Justin HsuI-Hui Huang', ' · July 29 at 8:11pm · checkmarkcaution-solid', 'William Lo  Nice shot!LikeShow more reactions · Reply · March 28 at 12:46amManage', 'Photos', 'LikeShow more reactionsCommentShare1010 陳星妘, 葉展奇 and 8 othersCommentsWrite a comment...', '2015', 'Write a comment...', '邱偉志你慢慢平復心情XDSun', 'Canny Wang', 'Feature up to 5 photos you love', 'English (US) · 中文(台灣) · Español · Português (Brasil) · Français (France)Privacy · Terms · Advertising · Ad Choices · Cookies · More Facebook © 2017', \"Fan Liu likes Chih Liu's post in 五月天 [人生無限公司] 北美巡迴 - 聖荷西 Mayday [Life] Tour - San Jose. \", 'Mike Hsiao at Lake Towada. · April 15 · Instagram · checkmarkcaution-solid十和田湖', 'View 1 more commentAlice Hsiao  那只鷹?海鷗?鴿子?你等多久拍到的，很美LikeShow more reactions · Reply · March 26 at 8:59pmManageAlice Hsiao replied · 3 Replies蕭高發  神賜大家.太棒了!LikeShow more reactions · Reply · March 27 at 1:53amManageMing-Li Lin  還不快找稻草堆！LikeShow more reactions · Reply · 11 · March 27 at 6:28amManageWilliam Lo  Nice shot!LikeShow more reactions · Reply · March 28 at 12:46amManage', 'Recent201720162015201420132012201120102009200820072006200520001982', 'Isa Y. Chi好啊~~~3:34pmChen Chien ChunChen missed a call from you.11:39amChieh-Chun Chen我送錯訊息了10:57am周詮儒好的 感謝MonChang-Huan WuActive嗯重點是要說連不上啦Mon薛筑允hiSun邱偉志你慢慢平復心情XDSunHsueh-Hao ChangSat邱偉志, 彭証鴻, Chen Chien Chun, 2 othersChen: 老師有點名時幫我說一聲，感謝大家Fri李鴻鈞打擾了，謝謝ThuShow Older', 'View 1 more comment', '好啊~~~', 'Where would you like to visit? 🌍', 'Mike Hsiao · May 17 · checkmarkcaution-solid', 'More', 'Mike Hsiao at Aomori Prefecture. · April 13 · Instagram · checkmarkcaution-solid路途LikeShow more reactionsCommentShare1111 施岱伶, Kelly Su and 9 othersCommentsWrite a comment...', 'Mike Hsiao in Amsterdam, Netherlands. · March 24 · Instagram · checkmarkcaution-solidSweet!LikeShow more reactionsCommentShare22 蕭高發 and Alice HsiaoCommentsAlice Hsiao  選了啥顏色呀LikeShow more reactions · Reply · March 26 at 11:18amManage王惠芳 replied · 1 ReplyAlice Hsiao  也太幸福啦，人生現在開始幸福LikeShow more reactions · Reply · March 26 at 9:01pmManageWrite a comment...', '16218 Ying-ying Chen, Ivy Chang and 16 others1 shareCommentsMing-Li Lin  比想像中要少…LikeShow more reactions · Reply · May 17 at 3:25amManageJean Tsai  Bitcoin 太難懂了LikeShow more reactions · Reply · May 17 at 3:29amManageJean Tsai replied · 7 RepliesHsueh-Hao Chang  感覺錢很少耶，可能還沒到最後一天 xdLikeShow more reactions · Reply · May 17 at 10:27amManageJean Tsai replied · 6 RepliesEvita Lin  這也可以圖表化@@LikeShow more reactions · Reply · May 18 at 1:51pmManageWrite a comment...', 'NotificationsMark All as Read · SettingsNotifications', 'Chat (22)Chat', '2006', 'Earlier in 2017Show Earlier in 2017', 'Han-Tien Chang', 'Intro', '莊佩佩 replied to her own comment. ', 'RecentRecent201720162015201420132012201120102009200820072006200520001982Recent201720162015201420132012201120102009200820072006200520001982', '目前 WannaCry 每小時收到的美金贖款，現在總和七萬美元也是蠻驚人的。', '47148 Luke Chi, Weijia Yeh and 46 others', '1982Show 1982', 'Hsueh-Hao Chang  感覺錢很少耶，可能還沒到最後一天 xd', 'Mike Hsiao in Amsterdam, Netherlands. · March 24 · Instagram · checkmarkcaution-solid', 'Featured Albums', '3:34pm', 'StatusPhoto/VideoLive VideoLife Event', 'LikeShow more reactions · Reply · May 14 at 9:02am', 'MORE CONTACTS (15)', '0 Friend RequestsFriend RequestsFind Friends · SettingsFriend RequestsSee All0 MessagesMessagesMark All Read · New MessageRecentMessage RequestsIsa Y. Chi好啊~~~3:34pmChen Chien ChunChen missed a call from you.11:39amChieh-Chun Chen我送錯訊息了10:57am周詮儒好的 感謝MonChang-Huan WuActive嗯重點是要說連不上啦Mon薛筑允hiSun邱偉志你慢慢平復心情XDSunHsueh-Hao ChangSat邱偉志, 彭証鴻, Chen Chien Chun, 2 othersChen: 老師有點名時幫我說一聲，感謝大家Fri李鴻鈞打擾了，謝謝ThuShow OlderSee All in Messenger0 NotificationsNotificationsMark All as Read · SettingsNotificationsSee All', 'Mike Hsiao at Lake Towada. · April 15 · Instagram · checkmarkcaution-solid', '陳小詠  天氣真好~', 'NotificationsMark All as Read · SettingsNotificationsSee All', 'Mike Hsiao replied · 1 Reply', 'LikeShow more reactions · Reply · May 14 at 3:25pm', '0 MessagesMessagesMark All Read · New MessageRecentMessage RequestsIsa Y. Chi好啊~~~3:34pmChen Chien ChunChen missed a call from you.11:39amChieh-Chun Chen我送錯訊息了10:57am周詮儒好的 感謝MonChang-Huan WuActive嗯重點是要說連不上啦Mon薛筑允hiSun邱偉志你慢慢平復心情XDSunHsueh-Hao ChangSat邱偉志, 彭証鴻, Chen Chien Chun, 2 othersChen: 老師有點名時幫我說一聲，感謝大家Fri李鴻鈞打擾了，謝謝ThuShow OlderSee All in Messenger', '2011', 'Drag to Reposition CoverUpdate Cover PhotoMike Hsiao', 'Alice Hsiao  想跟這美麗的天氣及雀躍的心情LikeShow more reactions · Reply · March 26 at 11:20amManage', 'Hsueh-Hao Chang', \"周詮儒 replied to 李坤樸's comment. \", 'LikeShow more reactions · Reply · March 28 at 12:46am', 'Mike Hsiao · May 13 · Instagram · checkmarkcaution-solid佛羅倫斯 聖母百花大教堂LikeShow more reactionsCommentShare38139 Weijia Yeh, 施岱伶 and 37 othersCommentsIsa Y. Chi  像假的一樣～LikeShow more reactions · Reply · May 14 at 9:02amRemoveLi-Ming Chen  我有買過一本 圓頂的故事就是在說它LikeShow more reactions · Reply · May 14 at 12:10pmRemoveMike Hsiao  有沒有人玩過刺客教條二？主場景呀LikeShow more reactions · Reply · 11 · May 14 at 12:59pmManageLenora Huang  有...（看人玩過）LikeShow more reactions · Reply · May 14 at 3:25pmRemoveWrite a reply...Jamesbomb Lee  講得好像你有玩過LikeShow more reactions · Reply · 11 · May 14 at 1:53pmRemoveJamesbomb Lee replied · 2 RepliesWrite a comment...Mike Hsiao · April 30 · Instagram · checkmarkcaution-solid兔子萬歲！LikeShow more reactionsCommentShare1414 葉展奇, 蕭高發 and 12 othersCommentsWrite a comment...Mike Hsiao at Lake Towada. · April 15 · Instagram · checkmarkcaution-solid十和田湖LikeShow more reactionsCommentShare1212 Weijia Yeh, 陳星妘 and 10 othersCommentsWrite a comment...Mike Hsiao at Aomori Prefecture. · April 13 · Instagram · checkmarkcaution-solid路途LikeShow more reactionsCommentShare1111 施岱伶, Kelly Su and 9 othersCommentsWrite a comment...', '38139 Weijia Yeh, 施岱伶 and 37 others', 'Jing-Fang Wang', '47148 Luke Chi, Weijia Yeh and 46 othersCommentsView 1 more commentAlice Hsiao  那只鷹?海鷗?鴿子?你等多久拍到的，很美LikeShow more reactions · Reply · March 26 at 8:59pmManageAlice Hsiao replied · 3 Replies蕭高發  神賜大家.太棒了!LikeShow more reactions · Reply · March 27 at 1:53amManageMing-Li Lin  還不快找稻草堆！LikeShow more reactions · Reply · 11 · March 27 at 6:28amManageWilliam Lo  Nice shot!LikeShow more reactions · Reply · March 28 at 12:46amManageWrite a comment...', 'Alice Hsiao replied · 3 Replies', 'Alice Hsiao  超美的LikeShow more reactions · Reply · July 29 at 11:03pmRemove', 'Willie Chen added a new photo. “Mt. Everest(8850m), Himalayan mountain ranges, postcard sent...”', 'LikeShow more reactionsCommentShare16218 Ying-ying Chen, Ivy Chang and 16 others1 shareCommentsMing-Li Lin  比想像中要少…LikeShow more reactions · Reply · May 17 at 3:25amManageJean Tsai  Bitcoin 太難懂了LikeShow more reactions · Reply · May 17 at 3:29amManageJean Tsai replied · 7 RepliesHsueh-Hao Chang  感覺錢很少耶，可能還沒到最後一天 xdLikeShow more reactions · Reply · May 17 at 10:27amManageJean Tsai replied · 6 RepliesEvita Lin  這也可以圖表化@@LikeShow more reactions · Reply · May 18 at 1:51pmManageWrite a comment...', '只是側拍而已啦~~', '嗯重點是要說連不上啦', '11', 'Show 2010', '2005Show 2005', '我送錯訊息了', 'Mike Hsiao at Colosseo. · March 26 · Instagram · checkmarkcaution-solid', 'Mike Hsiao · April 8 · Instagram · checkmarkcaution-solid夕LikeShow more reactionsCommentShare1010 陳星妘, 葉展奇 and 8 othersCommentsWrite a comment...Mike Hsiao · April 2 · Instagram · checkmarkcaution-solid威尼斯LikeShow more reactionsCommentShare33134 Dogmimi Chen, 彭郁祺 and 32 othersCommentsWrite a comment...Mike Hsiao · April 1 · Instagram · checkmarkcaution-solid佛羅倫斯皮貨商的狗LikeShow more reactionsCommentShare1717 邱偉志, Chen Chien Chun and 15 othersCommentsLi-Ming Chen  所以項圈是精品嗎？LikeShow more reactions · Reply · 11 · April 1 at 11:04pmRemoveMike Hsiao replied · 1 ReplyJamesbomb Lee  時機成熟會宰來取皮?LikeShow more reactions · Reply · April 2 at 11:19amRemoveWrite a comment...Mike Hsiao at Colosseo. · March 26 · Instagram · checkmarkcaution-solid羅馬競技場。顯然上面有個信仰之躍的點 XDLikeShow more reactionsCommentShare47148 Luke Chi, Weijia Yeh and 46 othersCommentsView 1 more commentAlice Hsiao  那只鷹?海鷗?鴿子?你等多久拍到的，很美LikeShow more reactions · Reply · March 26 at 8:59pmManageAlice Hsiao replied · 3 Replies蕭高發  神賜大家.太棒了!LikeShow more reactions · Reply · March 27 at 1:53amManageMing-Li Lin  還不快找稻草堆！LikeShow more reactions · Reply · 11 · March 27 at 6:28amManageWilliam Lo  Nice shot!LikeShow more reactions · Reply · March 28 at 12:46amManageWrite a comment...', 'Tsai Rung Li', 'All PostsAll PostsActivity Log...All PostsActivity Log...', 'William Lo  Nice shot!', 'Mike Hsiao · May 13 · Instagram · checkmarkcaution-solid', 'LikeShow more reactions · Reply · March 26 at 11:20am', 'LikeShow more reactions · Reply · March 26 at 9:01pm', 'See More Recent Stories', ' · April 13 · Instagram · checkmarkcaution-solid', 'MessagesMark All Read · New Message', 'Mike Hsiao · May 17 · checkmarkcaution-solid目前 WannaCry 每小時收到的美金贖款，現在總和七萬美元也是蠻驚人的。', 'Jamesbomb Lee replied · 2 Replies', 'Chieh-Chun Chen', '邱偉志', 'Sat', 'LikeShow more reactions · Reply · July 29 at 9:12pm', 'Show 2000', 'Mon', 'Drag to Reposition CoverUpdate Cover Photo', 'Mike Hsiao in Amsterdam, Netherlands. · March 24 · Instagram · checkmarkcaution-solidSweet!', '2010', '1986', 'Willie Chen added a new photo.', 'Mike Hsiao in Amsterdam, Netherlands. · March 24 · Instagram · checkmarkcaution-solidSweet!LikeShow more reactionsCommentShare13114 Isa Y. Chi, 邱偉志 and 12 othersCommentsWrite a comment...', 'Mike Hsiao', '路途', '兔子萬歲！', 'hi', 'LikeShow more reactions · Reply · March 25 at 6:23pm', \"陳星妘 likes 周詮儒's photo. \", \"周詮儒 replied to 李坤樸's comment.\", \"何彥穎 likes Tonyq Wang's photo. \", '2929 邱偉志, 葉展奇 and 27 othersComments陳小詠  天氣真好~LikeShow more reactions · Reply · March 25 at 6:23pmManageAlice Hsiao  想跟這美麗的天氣及雀躍的心情LikeShow more reactions · Reply · March 26 at 11:20amManage蕭高發  偉大之地.神的故鄉!LikeShow more reactions · Reply · March 27 at 1:54amManageWrite a comment...', 'Yi Cheng', 'Jamesbomb Lee  時機成熟會宰來取皮?', '28mIsa Y. Chi', 'Friend RequestsFind Friends · SettingsFriend Requests', 'Isa Y. Chi  像假的一樣～', ' Facebook © 2017', '13114 Isa Y. Chi, 邱偉志 and 12 othersCommentsWrite a comment...', 'Mike Hsiao · April 30 · Instagram · checkmarkcaution-solid兔子萬歲！', '羅馬競技場。顯然上面有個信仰之躍的點 XD', 'Mike', '打擾了，謝謝', 'Add Featured Photos', '2015Show 2015', 'Ming-Li Lin  比想像中要少…LikeShow more reactions · Reply · May 17 at 3:25amManageJean Tsai  Bitcoin 太難懂了LikeShow more reactions · Reply · May 17 at 3:29amManageJean Tsai replied · 7 RepliesHsueh-Hao Chang  感覺錢很少耶，可能還沒到最後一天 xdLikeShow more reactions · Reply · May 17 at 10:27amManageJean Tsai replied · 6 RepliesEvita Lin  這也可以圖表化@@LikeShow more reactions · Reply · May 18 at 1:51pmManage', \"魏瑋 reacted to 周詮儒's photo.\", 'Jack Yu', 'Isa Y. Chi  是Mike Hsiao拍得好～LikeShow more reactions · Reply · July 29 at 9:12pmRemove', '夕', 'Alice Hsiao  那只鷹?海鷗?鴿子?你等多久拍到的，很美', 'Show 2012', '2005', 'Mike Hsiao feeling joyful with Isa Y. Chi. · July 29 at 8:11pm · checkmarkcaution-solid只是側拍而已啦~~LikeShow more reactionsCommentShare81182 You, Dogmimi Chen, 邱偉志 and 79 others1 shareCommentsView 3 more commentsIsa Y. Chi  是Mike Hsiao拍得好～LikeShow more reactions · Reply · July 29 at 9:12pmRemoveHsueh-Hao Chang  好像很瘦！LikeShow more reactions · Reply · July 29 at 9:28pmRemoveLing-Chieh Kung replied · 1 ReplyAlice Hsiao  超美的LikeShow more reactions · Reply · July 29 at 11:03pmRemoveJeff Liu  LikeShow more reactions · Reply · July 30 at 7:33pmRemoveWrite a comment...Mike Hsiao · May 17 · checkmarkcaution-solid目前 WannaCry 每小時收到的美金贖款，現在總和七萬美元也是蠻驚人的。LikeShow more reactionsCommentShare16218 Ying-ying Chen, Ivy Chang and 16 others1 shareCommentsMing-Li Lin  比想像中要少…LikeShow more reactions · Reply · May 17 at 3:25amManageJean Tsai  Bitcoin 太難懂了LikeShow more reactions · Reply · May 17 at 3:29amManageJean Tsai replied · 7 RepliesHsueh-Hao Chang  感覺錢很少耶，可能還沒到最後一天 xdLikeShow more reactions · Reply · May 17 at 10:27amManageJean Tsai replied · 6 RepliesEvita Lin  這也可以圖表化@@LikeShow more reactions · Reply · May 18 at 1:51pmManageWrite a comment...', \"What's your favorite food? 🍕 🍏 🍪\", 'Show 2008', 'Mike Hsiao · April 8 · Instagram · checkmarkcaution-solid夕', 'Update InfoView Activity Log10+', '0 NotificationsNotificationsMark All as Read · SettingsNotificationsSee All', 'Drag Link/Photos/Video HereDrop LinkDrop Photo/VideoDrop Photoscheckmarkcaution-solidFriendsPost', 'Alice Hsiao  選了啥顏色呀LikeShow more reactions · Reply · March 26 at 11:18amManage', 'When did you work at Academia Sinica?28 Pending Items', 'Mike Hsiao · April 1 · Instagram · checkmarkcaution-solid', '18m薛筑允', '10:57am', '1212 Weijia Yeh, 陳星妘 and 10 others', 'Mark All Read · New Message', '1717 邱偉志, Chen Chien Chun and 15 others', '7h邱偉志', 'Li-Ming Chen  所以項圈是精品嗎？LikeShow more reactions · Reply · 11 · April 1 at 11:04pmRemove', 'Friend Requests', 'LikeShow more reactionsCommentShare1414 葉展奇, 蕭高發 and 12 othersCommentsWrite a comment...', 'PublicCancelSave Changes', 'Mike Hsiao at Vatican Museums - Musei Vaticani. · March 25 ·  · ', '1996', ' · March 25 ·  · ', 'All PostsActivity Log...', 'Mike Hsiao · April 30 · Instagram · checkmarkcaution-solid兔子萬歲！LikeShow more reactionsCommentShare1414 葉展奇, 蕭高發 and 12 othersCommentsWrite a comment...', '1989', 'Find Friends · Settings', '1 share', '1984', '2006Show 2006', 'Sheng Yang Liu', '周詮儒', 'Alice Hsiao  也太幸福啦，人生現在開始幸福'}\n"
     ]
    }
   ],
   "source": [
    "print(word_set)"
   ]
  },
  {
   "cell_type": "markdown",
   "metadata": {},
   "source": [
    "### A"
   ]
  },
  {
   "cell_type": "code",
   "execution_count": 8,
   "metadata": {},
   "outputs": [
    {
     "name": "stdout",
     "output_type": "stream",
     "text": [
      "Skip to News Feed\n",
      "Facebook\n",
      "Mike\n",
      "Find Friends\n",
      "Settings\n",
      "Friend Requests\n",
      "See All\n",
      "Mark All Read\n",
      "New Message\n",
      "Show Older\n",
      "See All in Messenger\n",
      "Mark All as Read\n",
      "Settings\n",
      "See All\n",
      "Account Settings\n",
      "Mike Hsiao\n",
      "Update Info\n",
      "Mike Hsiao\n",
      "Timeline\n",
      "Recent\n",
      "Recent\n",
      "2017\n",
      "2016\n",
      "2015\n",
      "2014\n",
      "2013\n",
      "2012\n",
      "2011\n",
      "2010\n",
      "2009\n",
      "2008\n",
      "2007\n",
      "2006\n",
      "2005\n",
      "2000\n",
      "1982\n",
      "All Posts\n",
      "All Posts\n",
      "Activity Log...\n",
      "Mike Hsiao\n",
      "Isa Y. Chi\n",
      "July 29 at 8:11pm\n",
      "Like\n",
      "Comment\n",
      "1 share\n",
      "View 3 more comments\n",
      "Isa Y. Chi\n",
      "Mike Hsiao\n",
      "Like\n",
      "Reply\n",
      "July 29 at 9:12pm\n",
      "Remove\n",
      "Hsueh-Hao Chang\n",
      "Like\n",
      "Reply\n",
      "July 29 at 9:28pm\n",
      "Remove\n",
      "Alice Hsiao\n",
      "Like\n",
      "Reply\n",
      "July 29 at 11:03pm\n",
      "Remove\n",
      "Jeff Liu\n",
      "Like\n",
      "Reply\n",
      "July 30 at 7:33pm\n",
      "Remove\n",
      "Mike Hsiao\n",
      "May 17\n",
      "Like\n",
      "Comment\n",
      "1 share\n",
      "Ming-Li Lin\n",
      "Like\n",
      "Reply\n",
      "May 17 at 3:25am\n",
      "Manage\n",
      "Jean Tsai\n",
      "Like\n",
      "Reply\n",
      "May 17 at 3:29am\n",
      "Manage\n",
      "Hsueh-Hao Chang\n",
      "Like\n",
      "Reply\n",
      "May 17 at 10:27am\n",
      "Manage\n",
      "Evita Lin\n",
      "Like\n",
      "Reply\n",
      "May 18 at 1:51pm\n",
      "Manage\n",
      "Mike Hsiao\n",
      "May 13\n",
      "Instagram\n",
      "Like\n",
      "Comment\n",
      "Isa Y. Chi\n",
      "Like\n",
      "Reply\n",
      "May 14 at 9:02am\n",
      "Remove\n",
      "Li-Ming Chen\n",
      "Like\n",
      "Reply\n",
      "May 14 at 12:10pm\n",
      "Remove\n",
      "Mike Hsiao\n",
      "Like\n",
      "Reply\n",
      "May 14 at 12:59pm\n",
      "Manage\n",
      "Lenora Huang\n",
      "Like\n",
      "Reply\n",
      "May 14 at 3:25pm\n",
      "Remove\n",
      "Jamesbomb Lee\n",
      "Like\n",
      "Reply\n",
      "May 14 at 1:53pm\n",
      "Remove\n",
      "Mike Hsiao\n",
      "April 30\n",
      "Instagram\n",
      "Like\n",
      "Comment\n",
      "Mike Hsiao\n",
      "Lake Towada\n",
      "April 15\n",
      "Instagram\n",
      "Like\n",
      "Comment\n",
      "Mike Hsiao\n",
      "Aomori Prefecture\n",
      "April 13\n",
      "Instagram\n",
      "Like\n",
      "Comment\n",
      "Mike Hsiao\n",
      "April 8\n",
      "Instagram\n",
      "Like\n",
      "Comment\n",
      "Mike Hsiao\n",
      "April 2\n",
      "Instagram\n",
      "Like\n",
      "Comment\n",
      "Mike Hsiao\n",
      "April 1\n",
      "Instagram\n",
      "Like\n",
      "Comment\n",
      "Li-Ming Chen\n",
      "Like\n",
      "Reply\n",
      "April 1 at 11:04pm\n",
      "Remove\n",
      "Jamesbomb Lee\n",
      "Like\n",
      "Reply\n",
      "April 2 at 11:19am\n",
      "Remove\n",
      "Mike Hsiao\n",
      "Colosseo\n",
      "March 26\n",
      "Instagram\n",
      "Like\n",
      "Comment\n",
      "View 1 more comment\n",
      "Alice Hsiao\n",
      "Like\n",
      "Reply\n",
      "March 26 at 8:59pm\n",
      "Manage\n",
      "蕭高發\n",
      "Like\n",
      "Reply\n",
      "March 27 at 1:53am\n",
      "Manage\n",
      "Ming-Li Lin\n",
      "Like\n",
      "Reply\n",
      "March 27 at 6:28am\n",
      "Manage\n",
      "William Lo\n",
      "Like\n",
      "Reply\n",
      "March 28 at 12:46am\n",
      "Manage\n",
      "Mike Hsiao\n",
      "Piazza San Pietro - Vaticano, Roma, Italia\n",
      "March 25\n",
      "Instagram\n",
      "Like\n",
      "Comment\n",
      "陳小詠\n",
      "Like\n",
      "Reply\n",
      "March 25 at 6:23pm\n",
      "Manage\n",
      "Alice Hsiao\n",
      "Like\n",
      "Reply\n",
      "March 26 at 11:20am\n",
      "Manage\n",
      "蕭高發\n",
      "Like\n",
      "Reply\n",
      "March 27 at 1:54am\n",
      "Manage\n",
      "Mike Hsiao\n",
      "Vatican Museums - Musei Vaticani\n",
      "March 25\n",
      "Like\n",
      "Comment\n",
      "Mike Hsiao\n",
      "Amsterdam, Netherlands\n",
      "March 24\n",
      "Instagram\n",
      "Like\n",
      "Comment\n",
      "Mike Hsiao\n",
      "Amsterdam, Netherlands\n",
      "March 24\n",
      "Instagram\n",
      "Like\n",
      "Comment\n",
      "Alice Hsiao\n",
      "Like\n",
      "Reply\n",
      "March 26 at 11:18am\n",
      "Manage\n",
      "Alice Hsiao\n",
      "Like\n",
      "Reply\n",
      "March 26 at 9:01pm\n",
      "Manage\n",
      "See More Recent Stories\n",
      "Show Earlier in 2017\n",
      "Show 2016\n",
      "Show 2015\n",
      "Show 2014\n",
      "Show 2013\n",
      "Show 2012\n",
      "Show 2011\n",
      "Show 2010\n",
      "Show 2009\n",
      "Show 2008\n",
      "Show 2007\n",
      "Show 2006\n",
      "Show 2005\n",
      "Show 2000\n",
      "Show 1982\n",
      "New Taipei City\n",
      "New Taipei City\n",
      "315\n",
      "Mohammad Ghanayim\n",
      "Sheng Yang Liu\n",
      "邱偉志\n",
      "薛筑允\n",
      "Chen Chien Chun\n",
      "李鴻鈞\n",
      "Justin Hsu\n",
      "I-Hui Huang\n",
      "中文(台灣)\n",
      "Español\n",
      "Português (Brasil)\n",
      "Français (France)\n",
      "Privacy\n",
      "Terms\n",
      "Advertising\n",
      "Cookies\n"
     ]
    }
   ],
   "source": [
    "for a in _soup.find_all(\"a\"):\n",
    "    if a.string:\n",
    "        print(a.string)"
   ]
  },
  {
   "cell_type": "markdown",
   "metadata": {},
   "source": [
    "### 塗鴉牆內容"
   ]
  },
  {
   "cell_type": "code",
   "execution_count": 9,
   "metadata": {},
   "outputs": [
    {
     "name": "stdout",
     "output_type": "stream",
     "text": [
      "只是側拍而已啦~~\n",
      "目前 WannaCry 每小時收到的美金贖款，現在總和七萬美元也是蠻驚人的。\n",
      "佛羅倫斯 聖母百花大教堂\n",
      "兔子萬歲！\n",
      "十和田湖\n",
      "路途\n",
      "夕\n",
      "威尼斯\n",
      "佛羅倫斯皮貨商的狗\n",
      "羅馬競技場。顯然上面有個信仰之躍的點 XD\n",
      "梵蒂岡\n",
      "雅典學院\n",
      "Sweet!\n",
      "Sweet!\n"
     ]
    }
   ],
   "source": [
    "for p in _soup.find_all(\"p\"):\n",
    "    if p.text:\n",
    "        print(p.text)"
   ]
  },
  {
   "cell_type": "code",
   "execution_count": 10,
   "metadata": {},
   "outputs": [
    {
     "name": "stdout",
     "output_type": "stream",
     "text": [
      "只是側拍而已啦~~\n",
      "目前 WannaCry 每小時收到的美金贖款，現在總和七萬美元也是蠻驚人的。\n",
      "佛羅倫斯 聖母百花大教堂\n",
      "兔子萬歲！\n",
      "十和田湖\n",
      "路途\n",
      "夕\n",
      "威尼斯\n",
      "佛羅倫斯皮貨商的狗\n",
      "羅馬競技場。顯然上面有個信仰之躍的點 XD\n",
      "梵蒂岡\n",
      "雅典學院\n",
      "Sweet!\n",
      "Sweet!\n"
     ]
    }
   ],
   "source": [
    "for d in _soup.find_all(\"div\", class_=\"userContent\"):\n",
    "    if d.text:\n",
    "        print(d.text)"
   ]
  },
  {
   "cell_type": "markdown",
   "metadata": {},
   "source": [
    "### strings"
   ]
  },
  {
   "cell_type": "code",
   "execution_count": null,
   "metadata": {
    "collapsed": true,
    "scrolled": false
   },
   "outputs": [],
   "source": [
    "for string in soup.stripped_strings:\n",
    "    print(repr(string))"
   ]
  },
  {
   "cell_type": "markdown",
   "metadata": {},
   "source": [
    "### Comments"
   ]
  },
  {
   "cell_type": "code",
   "execution_count": 34,
   "metadata": {},
   "outputs": [
    {
     "name": "stdout",
     "output_type": "stream",
     "text": [
      "Isa Y. Chi (cycisa)\n",
      "是Mike Hsiao拍得好～\n",
      "July 29 at 9:12pm\n",
      "\n",
      "Hsueh-Hao Chang (hsuehhao.chang)\n",
      "好像很瘦！\n",
      "July 29 at 9:28pm\n",
      "\n",
      "Alice Hsiao (alice.hsiao)\n",
      "超美的\n",
      "July 29 at 11:03pm\n",
      "\n",
      "Jeff Liu (jeff.liu.3760)\n",
      "\n",
      "July 30 at 7:33pm\n",
      "\n",
      "Ming-Li Lin (linkli.lin)\n",
      "比想像中要少…\n",
      "May 17 at 3:25am\n",
      "\n",
      "Jean Tsai (jeantsai.films)\n",
      "Bitcoin 太難懂了\n",
      "May 17 at 3:29am\n",
      "\n",
      "Hsueh-Hao Chang (hsuehhao.chang)\n",
      "感覺錢很少耶，可能還沒到最後一天 xd\n",
      "May 17 at 10:27am\n",
      "\n",
      "Evita Lin (evita.lin2)\n",
      "這也可以圖表化@@\n",
      "May 18 at 1:51pm\n",
      "\n",
      "Isa Y. Chi (cycisa)\n",
      "像假的一樣～\n",
      "May 14 at 9:02am\n",
      "\n",
      "Li-Ming Chen (limingchen80)\n",
      "我有買過一本 圓頂的故事就是在說它\n",
      "May 14 at 12:10pm\n",
      "\n",
      "Mike Hsiao (mike.hsiao)\n",
      "有沒有人玩過刺客教條二？主場景呀\n",
      "May 14 at 12:59pm\n",
      "\n",
      "Lenora Huang (lenora.huang)\n",
      "有...（看人玩過）\n",
      "May 14 at 3:25pm\n",
      "\n",
      "Jamesbomb Lee (jamesbomb)\n",
      "講得好像你有玩過\n",
      "May 14 at 1:53pm\n",
      "\n",
      "Li-Ming Chen (limingchen80)\n",
      "所以項圈是精品嗎？\n",
      "April 1 at 11:04pm\n",
      "\n",
      "Jamesbomb Lee (jamesbomb)\n",
      "時機成熟會宰來取皮?\n",
      "April 2 at 11:19am\n",
      "\n",
      "Alice Hsiao (alice.hsiao)\n",
      "那只鷹?海鷗?鴿子?你等多久拍到的，很美\n",
      "March 26 at 8:59pm\n",
      "\n",
      "蕭高發 (profile.php)\n",
      "神賜大家.太棒了!\n",
      "March 27 at 1:53am\n",
      "\n",
      "Ming-Li Lin (linkli.lin)\n",
      "還不快找稻草堆！\n",
      "March 27 at 6:28am\n",
      "\n",
      "William Lo (wenhsing.lo)\n",
      "Nice shot!\n",
      "March 28 at 12:46am\n",
      "\n",
      "陳小詠 (x831617)\n",
      "天氣真好~\n",
      "March 25 at 6:23pm\n",
      "\n",
      "Alice Hsiao (alice.hsiao)\n",
      "想跟這美麗的天氣及雀躍的心情\n",
      "March 26 at 11:20am\n",
      "\n",
      "蕭高發 (profile.php)\n",
      "偉大之地.神的故鄉!\n",
      "March 27 at 1:54am\n",
      "\n",
      "Alice Hsiao (alice.hsiao)\n",
      "選了啥顏色呀\n",
      "March 26 at 11:18am\n",
      "\n",
      "Alice Hsiao (alice.hsiao)\n",
      "也太幸福啦，人生現在開始幸福\n",
      "March 26 at 9:01pm\n",
      "\n"
     ]
    }
   ],
   "source": [
    "for d in _soup.find_all(\"div\", class_=\"UFICommentContentBlock\"):\n",
    "    if d.text:\n",
    "        #print(d.text)\n",
    "        name = d.find(\"a\", class_=\"UFICommentActorName\")\n",
    "        print(\"{} ({})\".format(name.text, name['href'].split(\"/\")[3].split(\"?\")[0]))\n",
    "        print(d.find(\"span\", class_=\"UFICommentBody\").text)\n",
    "        print(d.find(\"abbr\", class_=\"livetimestamp\").text)\n",
    "        print()"
   ]
  }
 ],
 "metadata": {
  "kernelspec": {
   "display_name": "Python 3",
   "language": "python",
   "name": "python3"
  },
  "language_info": {
   "codemirror_mode": {
    "name": "ipython",
    "version": 3
   },
   "file_extension": ".py",
   "mimetype": "text/x-python",
   "name": "python",
   "nbconvert_exporter": "python",
   "pygments_lexer": "ipython3",
   "version": "3.6.0"
  }
 },
 "nbformat": 4,
 "nbformat_minor": 2
}
