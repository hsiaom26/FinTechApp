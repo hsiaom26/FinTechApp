{
 "cells": [
  {
   "cell_type": "code",
   "execution_count": 1,
   "metadata": {
    "collapsed": true
   },
   "outputs": [],
   "source": [
    "with open(\"C:/Users/hsiao/Desktop/Mike Hsiao.html\", \"rb\") as f:\n",
    "    html_doc = f.read()\n",
    "    html_doc = html_doc.replace(b\"<!--\", b\"\")\n",
    "    html_doc = html_doc.replace(b\"-->\", b\"\")"
   ]
  },
  {
   "cell_type": "code",
   "execution_count": 2,
   "metadata": {
    "collapsed": true,
    "scrolled": true
   },
   "outputs": [],
   "source": [
    "from bs4 import BeautifulSoup # conda install beautifulsoup4\n",
    "soup = BeautifulSoup(html_doc, 'html.parser')\n",
    "\n",
    "s = soup.prettify(formatter=None).encode('UTF-8')"
   ]
  },
  {
   "cell_type": "code",
   "execution_count": 3,
   "metadata": {
    "scrolled": true
   },
   "outputs": [
    {
     "name": "stdout",
     "output_type": "stream",
     "text": [
      "['Mike Hsiao']\n"
     ]
    }
   ],
   "source": [
    "print(soup.find(id='fb-timeline-cover-name').contents)"
   ]
  }
 ],
 "metadata": {
  "kernelspec": {
   "display_name": "Python 3",
   "language": "python",
   "name": "python3"
  },
  "language_info": {
   "codemirror_mode": {
    "name": "ipython",
    "version": 3
   },
   "file_extension": ".py",
   "mimetype": "text/x-python",
   "name": "python",
   "nbconvert_exporter": "python",
   "pygments_lexer": "ipython3",
   "version": "3.6.0"
  }
 },
 "nbformat": 4,
 "nbformat_minor": 2
}
