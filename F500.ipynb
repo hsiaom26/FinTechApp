{
 "cells": [
  {
   "cell_type": "code",
   "execution_count": 86,
   "metadata": {
    "collapsed": true
   },
   "outputs": [],
   "source": [
    "import csv # new \n",
    "import pandas as pd\n",
    "import urllib.request\n",
    "from bs4 import BeautifulSoup # conda install beautifulsoup4"
   ]
  },
  {
   "cell_type": "code",
   "execution_count": 104,
   "metadata": {
    "collapsed": false
   },
   "outputs": [],
   "source": [
    "url = \"http://issue.cw.com.tw/ipad/201605_2000/list.jsp?orders=SER&sort=asc&inds={}&start={}\"\n",
    "filepath = \"c:/test/F500-{}.csv\"\n",
    "cats = {\"A\": (\"製造業\", 1340),\n",
    "        \"B\": (\"服務業\", 640),\n",
    "        \"C\": (\"金融業\", 90)\n",
    "       }"
   ]
  },
  {
   "cell_type": "code",
   "execution_count": 95,
   "metadata": {
    "collapsed": false
   },
   "outputs": [],
   "source": [
    "def getPage(inds, page):\n",
    "    \n",
    "    headers = {\n",
    "        'User-agent' : 'none/ofyourbusiness', # readable header\n",
    "    }\n",
    "\n",
    "    req = urllib.request.Request(url = url.format(inds, page),\n",
    "                                 headers = headers,\n",
    "                                 method = 'POST')\n",
    "\n",
    "    with urllib.request.urlopen(req) as f:\n",
    "        data = b''\n",
    "        buf = f.read(1024)\n",
    "        data += buf\n",
    "        while buf:\n",
    "            buf = f.read(1024)\n",
    "            data += buf\n",
    "        #print(data.decode('utf-8'))\n",
    "    \n",
    "    return data"
   ]
  },
  {
   "cell_type": "code",
   "execution_count": 89,
   "metadata": {
    "collapsed": false
   },
   "outputs": [],
   "source": [
    "def getTitle(soup):\n",
    "    title_list = []\n",
    "\n",
    "    for th in soup.find_all('th'):\n",
    "        title_list.append(th.text)\n",
    "\n",
    "    years = title_list[0].split(\" \")\n",
    "    title_list.insert(0, years[0])\n",
    "    title_list[1] = years[1]\n",
    "\n",
    "    return title_list"
   ]
  },
  {
   "cell_type": "code",
   "execution_count": 90,
   "metadata": {
    "collapsed": false
   },
   "outputs": [],
   "source": [
    "def getRows(soup, csv_list):\n",
    "\n",
    "    for tr in soup.find_all('tr'):\n",
    "        if not tr.find(\"td\", class_= \"tr_sort\"): # skip first row\n",
    "\n",
    "            this_row = list()\n",
    "            for td in tr.find_all(\"td\"):\n",
    "                #print(td.text)\n",
    "                this_row.append(td.text.strip())\n",
    "            if len(this_row) > 0:\n",
    "                csv_list.append(this_row)"
   ]
  },
  {
   "cell_type": "code",
   "execution_count": null,
   "metadata": {
    "collapsed": false
   },
   "outputs": [],
   "source": [
    "# main function\n",
    "for cat in cats:\n",
    "    inds = cat\n",
    "    name = cats[cat][0]\n",
    "    max_item = cats[cat][1]\n",
    "    \n",
    "    csv_list = list()\n",
    "    title_list = None\n",
    "\n",
    "    for p in range(0, max_item+1, 10): # get 10 rows each page\n",
    "        #print(inds, p)\n",
    "        data = getPage(inds, p)\n",
    "        soup = BeautifulSoup(data, 'html.parser')\n",
    "\n",
    "        if not title_list:\n",
    "            title_list = getTitle(soup)\n",
    "\n",
    "        getRows(soup, csv_list)\n",
    "    \n",
    "    df = pd.DataFrame(csv_list, columns = title)\n",
    "    df.to_csv(filepath.format(inds), index = False)"
   ]
  },
  {
   "cell_type": "code",
   "execution_count": 107,
   "metadata": {
    "collapsed": false
   },
   "outputs": [],
   "source": [
    "#df = pd.DataFrame(csv_list, columns = title)\n",
    "#df # show last df data"
   ]
  }
 ],
 "metadata": {
  "kernelspec": {
   "display_name": "Python 3",
   "language": "python",
   "name": "python3"
  },
  "language_info": {
   "codemirror_mode": {
    "name": "ipython",
    "version": 3
   },
   "file_extension": ".py",
   "mimetype": "text/x-python",
   "name": "python",
   "nbconvert_exporter": "python",
   "pygments_lexer": "ipython3",
   "version": "3.6.0"
  }
 },
 "nbformat": 4,
 "nbformat_minor": 2
}
